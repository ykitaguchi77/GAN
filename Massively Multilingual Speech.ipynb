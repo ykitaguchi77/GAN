{
  "nbformat": 4,
  "nbformat_minor": 0,
  "metadata": {
    "colab": {
      "provenance": [],
      "authorship_tag": "ABX9TyMlo3ETWSWAxSViFRQvzbC8",
      "include_colab_link": true
    },
    "kernelspec": {
      "name": "python3",
      "display_name": "Python 3"
    },
    "language_info": {
      "name": "python"
    }
  },
  "cells": [
    {
      "cell_type": "markdown",
      "metadata": {
        "id": "view-in-github",
        "colab_type": "text"
      },
      "source": [
        "<a href=\"https://colab.research.google.com/github/ykitaguchi77/GAN/blob/master/Massively%20Multilingual%20Speech.ipynb\" target=\"_parent\"><img src=\"https://colab.research.google.com/assets/colab-badge.svg\" alt=\"Open In Colab\"/></a>"
      ]
    },
    {
      "cell_type": "markdown",
      "source": [
        "#**Meta: Massively Multilingual Speech (MMS)**\n",
        "\n",
        "https://github.com/facebookresearch/fairseq/tree/main/examples/mms\n",
        "\n",
        "⚫︎ https://github.com/haohaaorg/ttsmms_lab/blob/main/fairseq_lab.ipynb"
      ],
      "metadata": {
        "id": "v4mkWL5pJSlZ"
      }
    },
    {
      "cell_type": "code",
      "source": [
        "!git clone https://github.com/jaywalnut310/vits.git\n",
        "!git clone https://github.com/facebookresearch/fairseq.git\n",
        "!git clone https://github.com/doublehprojects/tts-data.git\n",
        "\n",
        "!wget https://dl.fbaipublicfiles.com/mms/tts/shn.tar.gz\n",
        "\n",
        "!sudo update-alternatives --config python3\n",
        "!sudo apt install python3-pip"
      ],
      "metadata": {
        "colab": {
          "base_uri": "https://localhost:8080/"
        },
        "id": "RyshORCuON1q",
        "outputId": "2c866713-336c-4526-c219-3c8006df2ddb"
      },
      "execution_count": null,
      "outputs": [
        {
          "output_type": "stream",
          "name": "stdout",
          "text": [
            "Cloning into 'vits'...\n",
            "remote: Enumerating objects: 81, done.\u001b[K\n",
            "remote: Total 81 (delta 0), reused 0 (delta 0), pack-reused 81\u001b[K\n",
            "Unpacking objects: 100% (81/81), 3.33 MiB | 4.08 MiB/s, done.\n",
            "Cloning into 'fairseq'...\n",
            "remote: Enumerating objects: 34658, done.\u001b[K\n",
            "remote: Counting objects: 100% (115/115), done.\u001b[K\n",
            "remote: Compressing objects: 100% (67/67), done.\u001b[K\n",
            "remote: Total 34658 (delta 51), reused 96 (delta 44), pack-reused 34543\u001b[K\n",
            "Receiving objects: 100% (34658/34658), 24.16 MiB | 19.18 MiB/s, done.\n",
            "Resolving deltas: 100% (25166/25166), done.\n",
            "Cloning into 'tts-data'...\n",
            "remote: Enumerating objects: 648, done.\u001b[K\n",
            "remote: Counting objects: 100% (303/303), done.\u001b[K\n",
            "remote: Compressing objects: 100% (294/294), done.\u001b[K\n",
            "remote: Total 648 (delta 72), reused 201 (delta 9), pack-reused 345\u001b[K\n",
            "Receiving objects: 100% (648/648), 145.87 MiB | 22.64 MiB/s, done.\n",
            "Resolving deltas: 100% (83/83), done.\n",
            "--2023-05-25 00:11:28--  https://dl.fbaipublicfiles.com/mms/tts/shn.tar.gz\n",
            "Resolving dl.fbaipublicfiles.com (dl.fbaipublicfiles.com)... 13.35.7.128, 13.35.7.50, 13.35.7.82, ...\n",
            "Connecting to dl.fbaipublicfiles.com (dl.fbaipublicfiles.com)|13.35.7.128|:443... connected.\n",
            "HTTP request sent, awaiting response... 200 OK\n",
            "Length: 401684441 (383M) [application/x-tar]\n",
            "Saving to: ‘shn.tar.gz’\n",
            "\n",
            "shn.tar.gz          100%[===================>] 383.08M   113MB/s    in 4.1s    \n",
            "\n",
            "2023-05-25 00:11:33 (94.4 MB/s) - ‘shn.tar.gz’ saved [401684441/401684441]\n",
            "\n",
            "There are 2 choices for the alternative python3 (providing /usr/bin/python3).\n",
            "\n",
            "  Selection    Path                 Priority   Status\n",
            "------------------------------------------------------------\n",
            "* 0            /usr/bin/python3.10   2         auto mode\n",
            "  1            /usr/bin/python3.10   2         manual mode\n",
            "  2            /usr/bin/python3.8    1         manual mode\n",
            "\n",
            "Press <enter> to keep the current choice[*], or type selection number: "
          ]
        }
      ]
    },
    {
      "cell_type": "code",
      "source": [
        "%cd vits/\n",
        "!pip install -r requirements.txt\n",
        "\n",
        "%cd monotonic_align/\n",
        "!python setup.py build_ext --inplace"
      ],
      "metadata": {
        "id": "ATTGstc0PNE1"
      },
      "execution_count": null,
      "outputs": []
    },
    {
      "cell_type": "code",
      "execution_count": null,
      "metadata": {
        "id": "G1GyrQXKJNxO"
      },
      "outputs": [],
      "source": [
        "%cd ../../\n",
        "!tar -xvf shn.tar.gz\n",
        "%cd fairseq/\n",
        "!pip install numpy==1.21\n"
      ]
    },
    {
      "cell_type": "code",
      "source": [
        "!PYTHONPATH=$PYTHONPATH:/content/vits python examples/mms/tts/infer.py --model-dir /content/shn \\\n",
        "--wav ./example3.wav --txt \"သမ်ႇမႃႇၵျၢမ်းလိၵ်ႈ ထႃႇဝရႃႉၽြႃး ထမ်းမၽြႃးပဵၼ်ၸဝ်ႈ\""
      ],
      "metadata": {
        "id": "yJgNoF-jPnY-"
      },
      "execution_count": null,
      "outputs": []
    },
    {
      "cell_type": "markdown",
      "source": [],
      "metadata": {
        "id": "4neyL9ACQD5A"
      }
    },
    {
      "cell_type": "code",
      "source": [
        "!git clone https://github.com/haohaaorg/ttsmms_lab.git\n",
        "%cd ttsmms_lab\n",
        "!pip install -r requirements.txt\n",
        "!mkdir -p model/shn/ && wget -qO- https://dl.fbaipublicfiles.com/mms/tts/shn.tar.gz | tar -xz -C model/shn/ --strip-components 1\n",
        "\n",
        "from ttsmms import TTS\n",
        "\n",
        "tts = TTS(\"./model/shn\")\n",
        "tts.synthesis(\"ၼုမ်ႇသိုၵ်းႁၢၼ် ႁဵတ်းၵၢၼ်ၵွၼ်းၶေႃၸိုင်ႈတႆး\", wav_path=\"output/example_shn.wav\")\n"
      ],
      "metadata": {
        "id": "g4gBilzSQEMU"
      },
      "execution_count": null,
      "outputs": []
    }
  ]
}