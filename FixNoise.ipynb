{
  "nbformat": 4,
  "nbformat_minor": 0,
  "metadata": {
    "colab": {
      "name": "Untitled10.ipynb",
      "provenance": [],
      "machine_shape": "hm",
      "authorship_tag": "ABX9TyMoaZUqXXUyPXj8TfwupwoU",
      "include_colab_link": true
    },
    "kernelspec": {
      "name": "python3",
      "display_name": "Python 3"
    },
    "language_info": {
      "name": "python"
    },
    "accelerator": "GPU",
    "gpuClass": "standard"
  },
  "cells": [
    {
      "cell_type": "markdown",
      "metadata": {
        "id": "view-in-github",
        "colab_type": "text"
      },
      "source": [
        "<a href=\"https://colab.research.google.com/github/ykitaguchi77/GAN/blob/master/FixNoise.ipynb\" target=\"_parent\"><img src=\"https://colab.research.google.com/assets/colab-badge.svg\" alt=\"Open In Colab\"/></a>"
      ]
    },
    {
      "cell_type": "markdown",
      "source": [
        "#**FixNoise**\n",
        "\n",
        "StyleGANのドメイン変換度合いを調整する\n",
        "\n",
        "Implementation: http://cedro3.com/ai/fixnoise/\n",
        "\n",
        "GitHub: https://github.com/LeeDongYeun/FixNoise, (Japanese_ver) https://github.com/cedro3/FixNoise.git\n",
        "\n",
        "Paper: https://arxiv.org/pdf/2204.14079.pdf\n"
      ],
      "metadata": {
        "id": "SZPRfUYWDsle"
      }
    },
    {
      "cell_type": "code",
      "execution_count": 22,
      "metadata": {
        "colab": {
          "base_uri": "https://localhost:8080/"
        },
        "id": "-72uYMbeDsFO",
        "outputId": "61cc6a59-86c1-4593-864c-f6026ffe892b"
      },
      "outputs": [
        {
          "output_type": "stream",
          "name": "stdout",
          "text": [
            "Cloning into 'FixNoise'...\n",
            "remote: Enumerating objects: 166, done.\u001b[K\n",
            "remote: Counting objects:   5% (1/19)\u001b[K\rremote: Counting objects:  10% (2/19)\u001b[K\rremote: Counting objects:  15% (3/19)\u001b[K\rremote: Counting objects:  21% (4/19)\u001b[K\rremote: Counting objects:  26% (5/19)\u001b[K\rremote: Counting objects:  31% (6/19)\u001b[K\rremote: Counting objects:  36% (7/19)\u001b[K\rremote: Counting objects:  42% (8/19)\u001b[K\rremote: Counting objects:  47% (9/19)\u001b[K\rremote: Counting objects:  52% (10/19)\u001b[K\rremote: Counting objects:  57% (11/19)\u001b[K\rremote: Counting objects:  63% (12/19)\u001b[K\rremote: Counting objects:  68% (13/19)\u001b[K\rremote: Counting objects:  73% (14/19)\u001b[K\rremote: Counting objects:  78% (15/19)\u001b[K\rremote: Counting objects:  84% (16/19)\u001b[K\rremote: Counting objects:  89% (17/19)\u001b[K\rremote: Counting objects:  94% (18/19)\u001b[K\rremote: Counting objects: 100% (19/19)\u001b[K\rremote: Counting objects: 100% (19/19), done.\u001b[K\n",
            "remote: Compressing objects: 100% (17/17), done.\u001b[K\n",
            "remote: Total 166 (delta 5), reused 13 (delta 2), pack-reused 147\u001b[K\n",
            "Receiving objects: 100% (166/166), 46.81 MiB | 43.19 MiB/s, done.\n",
            "Resolving deltas: 100% (49/49), done.\n",
            "/content/FixNoise/FixNoise/FixNoise/FixNoise/FixNoise/FixNoise\n",
            "Looking in indexes: https://pypi.org/simple, https://us-python.pkg.dev/colab-wheels/public/simple/\n",
            "Requirement already satisfied: legacy in /usr/local/lib/python3.7/dist-packages (0.1.6)\n",
            "Requirement already satisfied: pyspng in /usr/local/lib/python3.7/dist-packages (0.1.0)\n",
            "Requirement already satisfied: ninja in /usr/local/lib/python3.7/dist-packages (1.10.2.3)\n",
            "Requirement already satisfied: imageio-ffmpeg==0.4.3 in /usr/local/lib/python3.7/dist-packages (0.4.3)\n",
            "Requirement already satisfied: lpips in /usr/local/lib/python3.7/dist-packages (0.1.4)\n",
            "Requirement already satisfied: numpy in /usr/local/lib/python3.7/dist-packages (from pyspng) (1.21.6)\n",
            "Requirement already satisfied: torchvision>=0.2.1 in /usr/local/lib/python3.7/dist-packages (from lpips) (0.12.0+cu113)\n",
            "Requirement already satisfied: torch>=0.4.0 in /usr/local/lib/python3.7/dist-packages (from lpips) (1.11.0+cu113)\n",
            "Requirement already satisfied: tqdm>=4.28.1 in /usr/local/lib/python3.7/dist-packages (from lpips) (4.64.0)\n",
            "Requirement already satisfied: scipy>=1.0.1 in /usr/local/lib/python3.7/dist-packages (from lpips) (1.4.1)\n",
            "Requirement already satisfied: typing-extensions in /usr/local/lib/python3.7/dist-packages (from torch>=0.4.0->lpips) (4.1.1)\n",
            "Requirement already satisfied: pillow!=8.3.*,>=5.3.0 in /usr/local/lib/python3.7/dist-packages (from torchvision>=0.2.1->lpips) (7.1.2)\n",
            "Requirement already satisfied: requests in /usr/local/lib/python3.7/dist-packages (from torchvision>=0.2.1->lpips) (2.23.0)\n",
            "Requirement already satisfied: urllib3!=1.25.0,!=1.25.1,<1.26,>=1.21.1 in /usr/local/lib/python3.7/dist-packages (from requests->torchvision>=0.2.1->lpips) (1.24.3)\n",
            "Requirement already satisfied: idna<3,>=2.5 in /usr/local/lib/python3.7/dist-packages (from requests->torchvision>=0.2.1->lpips) (2.10)\n",
            "Requirement already satisfied: chardet<4,>=3.0.2 in /usr/local/lib/python3.7/dist-packages (from requests->torchvision>=0.2.1->lpips) (3.0.4)\n",
            "Requirement already satisfied: certifi>=2017.4.17 in /usr/local/lib/python3.7/dist-packages (from requests->torchvision>=0.2.1->lpips) (2022.6.15)\n"
          ]
        },
        {
          "output_type": "stream",
          "name": "stderr",
          "text": [
            "Downloading...\n",
            "From: https://drive.google.com/uc?id=1YHa_g5xC_VM5MbHsr3VSfco1_PX1sRkA\n",
            "To: /content/FixNoise/FixNoise/FixNoise/FixNoise/FixNoise/FixNoise/pretrained/wikiart-fm0.05-004032.pkl\n",
            "100%|██████████| 357M/357M [00:00<00:00, 374MB/s]\n",
            "Downloading...\n",
            "From: https://drive.google.com/uc?id=1Eo4T9KjkzRYdnENXgTpqIUOvaY4-SDeD\n",
            "To: /content/FixNoise/FixNoise/FixNoise/FixNoise/FixNoise/FixNoise/pretrained/metfaces-fm0.05-001612.pkl\n",
            "100%|██████████| 296M/296M [00:00<00:00, 441MB/s]\n",
            "Downloading...\n",
            "From: https://drive.google.com/uc?id=1GzM3icWaSOSGcKfYoidjEaloqc_MyAxX\n",
            "To: /content/FixNoise/FixNoise/FixNoise/FixNoise/FixNoise/FixNoise/pretrained/aahq-fm0.05-010886.pkl\n",
            "100%|██████████| 296M/296M [00:00<00:00, 348MB/s]\n"
          ]
        }
      ],
      "source": [
        "#@title **1.セットアップ**\n",
        "\n",
        "# get code from github\n",
        "! git clone https://github.com/cedro3/FixNoise.git\n",
        "%cd FixNoise\n",
        "\n",
        "# install library\n",
        "! pip install legacy pyspng ninja imageio-ffmpeg==0.4.3 lpips\n",
        "\n",
        "# download pretrained_models\n",
        "! mkdir pretrained\n",
        "import gdown\n",
        "gdown.download('https://drive.google.com/uc?id=1YHa_g5xC_VM5MbHsr3VSfco1_PX1sRkA', 'pretrained/wikiart-fm0.05-004032.pkl', quiet=False)\n",
        "gdown.download('https://drive.google.com/uc?id=1Eo4T9KjkzRYdnENXgTpqIUOvaY4-SDeD', 'pretrained/metfaces-fm0.05-001612.pkl', quiet=False)\n",
        "gdown.download('https://drive.google.com/uc?id=1GzM3icWaSOSGcKfYoidjEaloqc_MyAxX', 'pretrained/aahq-fm0.05-010886.pkl', quiet=False)\n",
        "\n",
        "# import library\n",
        "from torchvision.utils import make_grid\n",
        "import os\n",
        "import torch\n",
        "import PIL.Image\n",
        "import imageio\n",
        "import numpy as np\n",
        "#from IPython.display import Video\n",
        "from IPython.core.display import Video\n",
        "#from legacy import load_network\n",
        "from legacy import *\n",
        "\n",
        "# inital setting\n",
        "c_dim = 0\n",
        "img_resolution = 256\n",
        "img_channels = 3\n",
        "\n",
        "# difine function\n",
        "def generate_blended_img(G_s, G_t, z=None, blend_weights=[0,0.25,0.5,0.75,1], truncation_psi=0.7, truncation_cutoff=8):\n",
        "    all_images = []\n",
        "    \n",
        "    #1*512の乱数を作成\n",
        "    if z == None:\n",
        "        z = torch.randn([1,512]).cuda()\n",
        "    assert z.shape == torch.Size([1, 512]) #テンソルサイズが違ったらエラーが出る\n",
        "    \n",
        "    c = torch.zeros(1,0).cuda() #size(1,0)の空行列\n",
        "\n",
        "    #source, \n",
        "    img = G_s(z, c, truncation_psi, truncation_cutoff, noise_mode='const')\n",
        "    all_images.append(img)\n",
        "\n",
        "    for weight in blend_weights:\n",
        "        img = G_t(z, c, truncation_psi, truncation_cutoff, noise_mode='interpolate', blend_weight=weight)\n",
        "        all_images.append(img)\n",
        "\n",
        "    all_images = torch.cat(all_images)\n",
        "    images = make_grid(all_images, nrow=len(blend_weights)+1, padding=5, pad_value=0.99999)\n",
        "    images = (images.permute(1, 2, 0) * 127.5 + 128).clamp(0, 255).to(torch.uint8).cpu().numpy()\n",
        "    images = PIL.Image.fromarray(images, 'RGB')\n",
        "    return images\n",
        "\n",
        "\n",
        "from IPython.display import display, HTML\n",
        "\n",
        "def display_mp4(path):\n",
        "    from base64 import b64encode\n",
        "    mp4 = open(path,'rb').read()\n",
        "    data_url = \"data:video/mp4;base64,\" + b64encode(mp4).decode()\n",
        "    display(HTML(\"\"\"\n",
        "    <video width=700 controls>\n",
        "        <source src=\"%s\" type=\"video/mp4\">\n",
        "    </video>\n",
        "    \"\"\" % data_url))"
      ]
    },
    {
      "cell_type": "code",
      "source": [
        "#@title **2.セレクト・モデル**\n",
        "\n",
        "target_dataset = 'metfaces' #@param ['metfaces', 'aahq', 'wikiart']\n",
        "\n",
        "if target_dataset == 'metfaces':\n",
        "  cfg = 'paper256'\n",
        "  source_pkl = 'https://nvlabs-fi-cdn.nvidia.com/stylegan2-ada-pytorch/pretrained/transfer-learning-source-nets/ffhq-res256-mirror-paper256-noaug.pkl'\n",
        "  target_pkl = 'pretrained/metfaces-fm0.05-001612.pkl'\n",
        "\n",
        "if target_dataset == 'aahq':\n",
        "  cfg = 'paper256'\n",
        "  source_pkl = 'https://nvlabs-fi-cdn.nvidia.com/stylegan2-ada-pytorch/pretrained/transfer-learning-source-nets/ffhq-res256-mirror-paper256-noaug.pkl'\n",
        "  target_pkl = 'pretrained/aahq-fm0.05-010886.pkl'\n",
        "\n",
        "if target_dataset == 'wikiart':\n",
        "  cfg = 'stylegan2'\n",
        "  source_pkl = 'https://nvlabs-fi-cdn.nvidia.com/stylegan2/networks/stylegan2-church-config-f.pkl'\n",
        "  target_pkl = 'pretrained/wikiart-fm0.05-004032.pkl'\n",
        "\n",
        "# load_networkはlegacy.py内に定義されている。\n",
        "# c_dim = 0\n",
        "# img_resolution = 256\n",
        "# img_channels = 3\n",
        "G_s = load_network(cfg, source_pkl, img_resolution, img_channels, c_dim).cuda()\n",
        "G_t = load_network(cfg, target_pkl, img_resolution, img_channels, c_dim).cuda()"
      ],
      "metadata": {
        "colab": {
          "base_uri": "https://localhost:8080/"
        },
        "id": "tZmF6j8ZD2Pi",
        "outputId": "01c6f1f3-a75f-4866-a6cc-fa7845929426"
      },
      "execution_count": 16,
      "outputs": [
        {
          "output_type": "stream",
          "name": "stdout",
          "text": [
            "Loading networks from \"https://nvlabs-fi-cdn.nvidia.com/stylegan2-ada-pytorch/pretrained/transfer-learning-source-nets/ffhq-res256-mirror-paper256-noaug.pkl\"\n",
            "Loading networks from \"pretrained/metfaces-fm0.05-001612.pkl\"\n"
          ]
        }
      ]
    },
    {
      "cell_type": "code",
      "source": [
        "#@title **3.補間画像**\n",
        "generate_blended_img(G_s, G_t)"
      ],
      "metadata": {
        "id": "j352I9djHEOI"
      },
      "execution_count": null,
      "outputs": []
    },
    {
      "cell_type": "code",
      "source": [
        "#@title **4.補間動画**\n",
        "num_step = 201\n",
        "truncation_psi = 0.7 \n",
        "truncation_cutoff = 8\n",
        "\n",
        "blend_weights = np.linspace(0,1,num_step)\n",
        "\n",
        "outdir = 'results'\n",
        "os.makedirs(outdir, exist_ok=True)\n",
        "video = imageio.get_writer(f'{outdir}/noise_interpolation_{target_dataset}00.mp4', mode='I', fps=50, codec='libx264', bitrate='16M')\n",
        "\n",
        "z = torch.randn([1,512]).cuda()\n",
        "c = torch.zeros(1,0).cuda()\n",
        "\n",
        "img_source = G_s(z, c, truncation_psi, truncation_cutoff, noise_mode='const')\n",
        "\n",
        "for weight in blend_weights:\n",
        "    img = G_t(z, c, truncation_psi, truncation_cutoff, noise_mode='interpolate', blend_weight=weight)\n",
        "   \n",
        "    all_images = torch.cat([img_source, img])\n",
        "    images = make_grid(all_images, nrow=2, padding=0)\n",
        "    images = (images.permute(1, 2, 0) * 127.5 + 128).clamp(0, 255).to(torch.uint8).cpu().numpy()\n",
        "    video.append_data(images)\n",
        "video.close()\n",
        "\n",
        "display_mp4('results/noise_interpolation_'+target_dataset+'00.mp4')"
      ],
      "metadata": {
        "id": "tphp_U4lL-Cp"
      },
      "execution_count": null,
      "outputs": []
    }
  ]
}