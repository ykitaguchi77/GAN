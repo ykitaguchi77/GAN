{
  "nbformat": 4,
  "nbformat_minor": 0,
  "metadata": {
    "colab": {
      "name": "Untitled13.ipynb",
      "provenance": [],
      "machine_shape": "hm",
      "authorship_tag": "ABX9TyMbYNjDKXGGMKJ1D6cFDj8s",
      "include_colab_link": true
    },
    "kernelspec": {
      "name": "python3",
      "display_name": "Python 3"
    },
    "language_info": {
      "name": "python"
    },
    "accelerator": "GPU",
    "gpuClass": "standard"
  },
  "cells": [
    {
      "cell_type": "markdown",
      "metadata": {
        "id": "view-in-github",
        "colab_type": "text"
      },
      "source": [
        "<a href=\"https://colab.research.google.com/github/ykitaguchi77/GAN/blob/master/ProjectGAN.ipynb\" target=\"_parent\"><img src=\"https://colab.research.google.com/assets/colab-badge.svg\" alt=\"Open In Colab\"/></a>"
      ]
    },
    {
      "cell_type": "markdown",
      "source": [
        "#**Projected GAN**\n",
        "\n",
        "Original: https://github.com/autonomousvision/projected_gan\n",
        "\n",
        "Implementation: http://cedro3.com/ai/projected-gan/\n",
        "\n",
        "Paper: http://www.cvlibs.net/publications/Sauer2021NEURIPS.pdf\n"
      ],
      "metadata": {
        "id": "tAaB5N0T7sdW"
      }
    },
    {
      "cell_type": "code",
      "execution_count": null,
      "metadata": {
        "colab": {
          "base_uri": "https://localhost:8080/"
        },
        "id": "ZmzY6ZBz7mJ6",
        "outputId": "294e2dc3-dcf2-443f-80d5-25c8f880789b"
      },
      "outputs": [
        {
          "output_type": "stream",
          "name": "stdout",
          "text": [
            "\u001b[K     |██████████                      | 668.4 MB 1.3 MB/s eta 0:19:01"
          ]
        }
      ],
      "source": [
        "# --- セットアップ ---\n",
        "\n",
        "# Pytorch バージョン変更\n",
        "! pip install torch==1.10.1+cu111 torchvision==0.11.2+cu111 torchaudio==0.10.1 -f https://download.pytorch.org/whl/torch_stable.html\n",
        "\n",
        "# githubからコードを取得\n",
        "! git clone https://github.com/autonomousvision/projected_gan\n",
        "! pip install timm dill\n",
        "%cd projected_gan\n",
        "\n",
        "# 学習済みパラメータのダウンロード\n",
        "#! wget https://s3.eu-central-1.amazonaws.com/avg-projects/projected_gan/models/art_painting.pkl\n",
        "#! wget https://s3.eu-central-1.amazonaws.com/avg-projects/projected_gan/models/church.pkl\n",
        "#! wget https://s3.eu-central-1.amazonaws.com/avg-projects/projected_gan/models/cityscapes.pkl\n",
        "#! wget https://s3.eu-central-1.amazonaws.com/avg-projects/projected_gan/models/clevr.pkl\n",
        "! wget https://s3.eu-central-1.amazonaws.com/avg-projects/projected_gan/models/ffhq.pkl\n",
        "#! wget https://s3.eu-central-1.amazonaws.com/avg-projects/projected_gan/models/flowers.pkl\n",
        "#! wget https://s3.eu-central-1.amazonaws.com/avg-projects/projected_gan/models/landscape.pkl\n",
        "#! wget https://s3.eu-central-1.amazonaws.com/avg-projects/projected_gan/models/pokemon.pkl\n",
        "\n",
        "\n",
        "# 画像表示\n",
        "import matplotlib.pyplot as plt\n",
        "from PIL import Image\n",
        "import os\n",
        "import numpy as np\n",
        "\n",
        "def display_pic(folder):\n",
        "    fig = plt.figure(figsize=(30, 60))\n",
        "    files = os.listdir(folder)\n",
        "    files.sort()\n",
        "    for i, file in enumerate(files):\n",
        "        img = Image.open(folder+'/'+file)    \n",
        "        images = np.asarray(img)\n",
        "        ax = fig.add_subplot(10, 5, i+1, xticks=[], yticks=[])\n",
        "        image_plt = np.array(images)\n",
        "        ax.imshow(image_plt)\n",
        "        ax.set_xlabel(file, fontsize=25)               \n",
        "    plt.show()\n",
        "    plt.close()\n",
        "\n",
        "# リセットフォルダ\n",
        "import shutil\n",
        "\n",
        "def reset_folder(path):\n",
        "    if os.path.isdir(path):\n",
        "      shutil.rmtree(path)\n",
        "    os.makedirs(path,exist_ok=True)\n",
        "\n",
        "# 動画再生\n",
        "from IPython.display import display, HTML\n",
        "from IPython.display import HTML\n",
        "\n",
        "def display_mp4(path):\n",
        "    print('prepere to play movie...')\n",
        "    from base64 import b64encode\n",
        "    mp4 = open(path,'rb').read()\n",
        "    data_url = \"data:video/mp4;base64,\" + b64encode(mp4).decode()\n",
        "    display(HTML(\"\"\"\n",
        "    <video controls loop autoplay>\n",
        "        <source src=\"%s\" type=\"video/mp4\">\n",
        "    </video>\n",
        "    \"\"\" % data_url))"
      ]
    },
    {
      "cell_type": "code",
      "source": [
        "# サンプル画像生成\n",
        "reset_folder('out')\n",
        "! python gen_images.py --outdir=out\\\n",
        "                       --trunc=1.0\\\n",
        "                       --seeds=20-29 \\\n",
        "                       --network=ffhq.pkl"
      ],
      "metadata": {
        "id": "H5gGVwwC9Hhb"
      },
      "execution_count": null,
      "outputs": []
    },
    {
      "cell_type": "code",
      "source": [
        "# 画像の表示\n",
        "display_pic('out')"
      ],
      "metadata": {
        "id": "wjUAyphz9Njq"
      },
      "execution_count": null,
      "outputs": []
    },
    {
      "cell_type": "code",
      "source": [
        "# 補完動画の作成\n",
        "! python gen_video.py --output=lerp.mp4\\\n",
        "                      --trunc=1.0\\\n",
        "                      --seeds=20-49\\\n",
        "                      --grid=3x2 \\\n",
        "                      --network=pokemon.pkl"
      ],
      "metadata": {
        "colab": {
          "base_uri": "https://localhost:8080/"
        },
        "id": "pNA_F7K_9Qux",
        "outputId": "15344fb0-aa4a-4bf2-9015-57e35b387a85"
      },
      "execution_count": 7,
      "outputs": [
        {
          "output_type": "stream",
          "name": "stdout",
          "text": [
            "Loading networks from \"pokemon.pkl\"...\n",
            "100% 600/600 [01:25<00:00,  7.01it/s]\n"
          ]
        }
      ]
    },
    {
      "cell_type": "code",
      "source": [
        "# 動画の再生　メモリ足りない？？\n",
        "display_mp4('lerp.mp4')"
      ],
      "metadata": {
        "id": "O0us6vHMBfJI",
        "outputId": "85c75095-1dc3-4e26-d958-cef3fc407d8a",
        "colab": {
          "base_uri": "https://localhost:8080/"
        }
      },
      "execution_count": 8,
      "outputs": [
        {
          "output_type": "stream",
          "name": "stdout",
          "text": [
            "prepere to play movie...\n"
          ]
        }
      ]
    }
  ]
}