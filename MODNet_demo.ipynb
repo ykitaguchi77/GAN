{
  "cells": [
    {
      "cell_type": "markdown",
      "source": [
        "#**ModNet**\n",
        "\n",
        "背景除去"
      ],
      "metadata": {
        "id": "5TpuYBi47FC-"
      }
    },
    {
      "cell_type": "markdown",
      "metadata": {
        "id": "C89qYpNsQoDA"
      },
      "source": [
        "*論文*  \n",
        "https://arxiv.org/abs/2011.11961v3  \n",
        "  \n",
        "GitHub  \n",
        "https://github.com/ZHKKKe/MODNet  \n",
        "\n",
        "\n",
        "Implementation  \n",
        "https://www.12-technology.com/2022/03/modnet-python.html\n",
        "  \n",
        "<a href=\"https://colab.research.google.com/github/kaz12tech/ai_demos/blob/master/MODNet_demo.ipynb\" target=\"_blank\"><img src=\"https://colab.research.google.com/assets/colab-badge.svg\" alt=\"Open In Colab\"/></a>"
      ]
    },
    {
      "cell_type": "markdown",
      "metadata": {
        "id": "qBLAOVpUQoDG"
      },
      "source": [
        "# ランタイムの設定\n",
        "「ランタイム」→「ランタイムのタイプを変更」→「ハードウェアアクセラレータ」をGPUに変更"
      ]
    },
    {
      "cell_type": "markdown",
      "metadata": {
        "id": "uy3-2Iq0QoDH"
      },
      "source": [
        "# 実行方法\n",
        "「ランタイム」→「すべてのセルを実行」を選択"
      ]
    },
    {
      "cell_type": "markdown",
      "metadata": {
        "id": "QRAx-POhQoDH"
      },
      "source": [
        "# GPU確認"
      ]
    },
    {
      "cell_type": "code",
      "execution_count": null,
      "metadata": {
        "id": "o07iUHqWQoDI"
      },
      "outputs": [],
      "source": [
        "!nvidia-smi"
      ]
    },
    {
      "cell_type": "markdown",
      "metadata": {
        "id": "vE0YBZGIQoDK"
      },
      "source": [
        "# 環境セットアップ"
      ]
    },
    {
      "cell_type": "markdown",
      "metadata": {
        "id": "qqQDLtXzQoDL"
      },
      "source": [
        "## ライブラリのインポート"
      ]
    },
    {
      "cell_type": "code",
      "execution_count": 2,
      "metadata": {
        "id": "3bw42rLBQoDM"
      },
      "outputs": [],
      "source": [
        "import shutil\n",
        "from google.colab import files\n",
        "import os\n",
        "import numpy as np\n",
        "from PIL import Image"
      ]
    },
    {
      "cell_type": "markdown",
      "metadata": {
        "id": "01i5eT_1QoDN"
      },
      "source": [
        "## GitHubからソースコードを取得"
      ]
    },
    {
      "cell_type": "code",
      "execution_count": 3,
      "metadata": {
        "colab": {
          "base_uri": "https://localhost:8080/"
        },
        "id": "IKdiDDOcQoDO",
        "outputId": "83bd5b71-64dc-46a3-e52e-88732abfb539"
      },
      "outputs": [
        {
          "output_type": "stream",
          "name": "stdout",
          "text": [
            "/content\n",
            "Cloning into 'MODNet'...\n",
            "remote: Enumerating objects: 273, done.\u001b[K\n",
            "remote: Total 273 (delta 0), reused 0 (delta 0), pack-reused 273\u001b[K\n",
            "Receiving objects: 100% (273/273), 60.77 MiB | 36.22 MiB/s, done.\n",
            "Resolving deltas: 100% (98/98), done.\n",
            "/content/MODNet\n"
          ]
        }
      ],
      "source": [
        "%cd /content\n",
        "if not os.path.exists('MODNet'):\n",
        "  !git clone https://github.com/ZHKKKe/MODNet\n",
        "%cd MODNet/"
      ]
    },
    {
      "cell_type": "markdown",
      "metadata": {
        "id": "bf3zibN-QoDP"
      },
      "source": [
        "## 学習済みモデルのダウンロード"
      ]
    },
    {
      "cell_type": "code",
      "execution_count": 4,
      "metadata": {
        "colab": {
          "base_uri": "https://localhost:8080/"
        },
        "id": "7p4wgHmBQoDQ",
        "outputId": "d3f4f130-8153-4882-b282-1e9d4e192349"
      },
      "outputs": [
        {
          "output_type": "stream",
          "name": "stdout",
          "text": [
            "/content/MODNet\n",
            "/usr/local/lib/python3.7/dist-packages/gdown/cli.py:131: FutureWarning: Option `--id` was deprecated in version 4.3.1 and will be removed in 5.0. You don't need to pass it anymore to use a file ID.\n",
            "  category=FutureWarning,\n",
            "Downloading...\n",
            "From: https://drive.google.com/uc?id=1mcr7ALciuAsHCpLnrtG_eop5-EYhbCmz\n",
            "To: /content/MODNet/pretrained/modnet_photographic_portrait_matting.ckpt\n",
            "100% 26.3M/26.3M [00:00<00:00, 44.9MB/s]\n"
          ]
        }
      ],
      "source": [
        "%cd /content/MODNet\n",
        "\n",
        "pretrained_ckpt = 'pretrained/modnet_photographic_portrait_matting.ckpt'\n",
        "if not os.path.exists(pretrained_ckpt):\n",
        "  !gdown --id 1mcr7ALciuAsHCpLnrtG_eop5-EYhbCmz \\\n",
        "          -O pretrained/modnet_photographic_portrait_matting.ckpt"
      ]
    },
    {
      "cell_type": "markdown",
      "metadata": {
        "id": "62A1OVFPQoDR"
      },
      "source": [
        "# 予測"
      ]
    },
    {
      "cell_type": "markdown",
      "metadata": {
        "id": "u4jqxJaGQoDS"
      },
      "source": [
        "## テスト画像のセットアップ\n",
        "使用画像  \n",
        "https://www.pakutaso.com/20220130028post-38621.html  \n",
        "背景画像  \n",
        "https://pixabay.com/ja/photos/%e3%83%94%e3%82%a2%e3%83%8e-%e3%82%b3%e3%83%b3%e3%82%b5%e3%83%bc%e3%83%88%e3%83%9b%e3%83%bc%e3%83%ab-1508907/  "
      ]
    },
    {
      "cell_type": "code",
      "execution_count": 6,
      "metadata": {
        "id": "XyGBqbwoQoDS"
      },
      "outputs": [],
      "source": [
        "#input, output, backgroundのフォルダを整備\n",
        "input_folder = 'demo/image_matting/colab/input'\n",
        "if os.path.exists(input_folder):\n",
        "  shutil.rmtree(input_folder)\n",
        "os.makedirs(input_folder)\n",
        "\n",
        "output_folder = 'demo/image_matting/colab/output'\n",
        "if os.path.exists(output_folder):\n",
        "  shutil.rmtree(output_folder)\n",
        "os.makedirs(output_folder)\n",
        "\n",
        "background_folder = 'demo/image_matting/colab/background'\n",
        "if os.path.exists(background_folder):\n",
        "  shutil.rmtree(background_folder)\n",
        "os.makedirs(background_folder)"
      ]
    },
    {
      "cell_type": "code",
      "source": [
        "import urllib.request\n",
        "\n",
        "url = \"https://blogger.googleusercontent.com/img/a/AVvXsEhAvidfE3FTGRJmKGAdTrplSdUTwmJ0hsWCh80wsoQ2THm77jozkyFaPkqfBwpDeTBYPhCqlaNGl-Fg-0Q9Y1h89pkmEztsYaaob4iYemiQCo5Yr0bt4oVxfB-2gyu9cu7p0Jh_gRAEVDWlotlkuyTzesRaTIatkliuTL_9Ye5nvhYOjhadJB-oRx0gYw=s800\"\n",
        "file_name = \"/content/MODNet/demo/image_matting/colab/input/sample.jpg\"\n"
      ],
      "metadata": {
        "id": "5E_MLZJz79rb"
      },
      "execution_count": null,
      "outputs": []
    },
    {
      "cell_type": "code",
      "execution_count": null,
      "metadata": {
        "id": "m0rEI7v5QoDT"
      },
      "outputs": [],
      "source": [
        "# upload images (PNG or JPG)\n",
        "image_names = list(files.upload().keys())\n",
        "for image_name in image_names:\n",
        "  shutil.move(image_name, os.path.join(input_folder, image_name))"
      ]
    },
    {
      "cell_type": "markdown",
      "metadata": {
        "id": "pQrw0cfSQoDT"
      },
      "source": [
        "## Inference"
      ]
    },
    {
      "cell_type": "code",
      "execution_count": null,
      "metadata": {
        "id": "VMZmRaOkQoDT"
      },
      "outputs": [],
      "source": [
        "%%time\n",
        "\n",
        "!python -m demo.image_matting.colab.inference \\\n",
        "    --input-path demo/image_matting/colab/input \\\n",
        "    --output-path demo/image_matting/colab/output \\\n",
        "    --ckpt-path ./pretrained/modnet_photographic_portrait_matting.ckpt\n"
      ]
    },
    {
      "cell_type": "markdown",
      "metadata": {
        "id": "fB3Nms67QoDW"
      },
      "source": [
        "## Visualizatoin"
      ]
    },
    {
      "cell_type": "code",
      "execution_count": null,
      "metadata": {
        "id": "c_g8eewMQoDW"
      },
      "outputs": [],
      "source": [
        "def combined_display(image, matte):\n",
        "  # calculate display resolution\n",
        "  w, h = image.width, image.height\n",
        "  rw, rh = 800, int(h * 800 / (3 * w))\n",
        "  \n",
        "  # obtain predicted foreground\n",
        "  image = np.asarray(image)\n",
        "  if len(image.shape) == 2:\n",
        "    image = image[:, :, None]\n",
        "  if image.shape[2] == 1:\n",
        "    image = np.repeat(image, 3, axis=2)\n",
        "  elif image.shape[2] == 4:\n",
        "    image = image[:, :, 0:3]\n",
        "  matte = np.repeat(np.asarray(matte)[:, :, None], 3, axis=2) / 255\n",
        "  foreground = image * matte + np.full(image.shape, 255) * (1 - matte)\n",
        "  \n",
        "  # combine image, foreground, and alpha into one line\n",
        "  combined = np.concatenate((image, foreground, matte * 255), axis=1)\n",
        "  combined = Image.fromarray(np.uint8(combined)).resize((rw, rh))\n",
        "  return combined"
      ]
    },
    {
      "cell_type": "code",
      "execution_count": null,
      "metadata": {
        "id": "3AqOoWplQoDW"
      },
      "outputs": [],
      "source": [
        "# visualize all images\n",
        "image_names = os.listdir(input_folder)\n",
        "for image_name in image_names:\n",
        "  matte_name = image_name.split('.')[0] + '.png'\n",
        "  image = Image.open(os.path.join(input_folder, image_name))\n",
        "  matte = Image.open(os.path.join(output_folder, matte_name))\n",
        "  display(combined_display(image, matte))\n",
        "  print(image_name, '\\n')"
      ]
    },
    {
      "cell_type": "markdown",
      "metadata": {
        "id": "q_U0EbziTYZZ"
      },
      "source": [
        "# 背景合成"
      ]
    },
    {
      "cell_type": "code",
      "execution_count": null,
      "metadata": {
        "id": "ysofCj7qTZ7Q"
      },
      "outputs": [],
      "source": [
        "# upload image (PNG or JPG)\n",
        "backimage_name = list(files.upload().keys())\n",
        "shutil.move(backimage_name[0], os.path.join(background_folder, backimage_name[0]))"
      ]
    },
    {
      "cell_type": "code",
      "execution_count": null,
      "metadata": {
        "id": "KTww6ciuSoOG"
      },
      "outputs": [],
      "source": [
        "def background_composition(image_path, matte_path, bg_image_path):\n",
        "  foreground = Image.open(image_path)\n",
        "  matte = Image.open(matte_path)\n",
        "  background = Image.open(bg_image_path).resize(foreground.size)\n",
        "  \n",
        "  composition_img = Image.composite(foreground, background, matte)\n",
        "\n",
        "  return composition_img"
      ]
    },
    {
      "cell_type": "code",
      "execution_count": null,
      "metadata": {
        "id": "E6rLl2oXS9ee"
      },
      "outputs": [],
      "source": [
        "image_names = os.listdir(input_folder)\n",
        "for image_name in image_names:\n",
        "  matte_name = image_name.split('.')[0] + '.png'\n",
        "  image_path = os.path.join(input_folder, image_name)\n",
        "  matte_path = os.path.join(output_folder, matte_name)\n",
        "  bg_image_path = os.path.join(background_folder, backimage_name[0])\n",
        "  compos_img = background_composition(image_path, matte_path, bg_image_path)\n",
        "  display(compos_img)\n",
        "  print(image_name, '\\n')\n",
        "\n",
        "  # 合成画像を保存\n",
        "  compos_img.save(os.path.join(output_folder, \"composition_\" + image_name))"
      ]
    }
  ],
  "metadata": {
    "accelerator": "GPU",
    "colab": {
      "collapsed_sections": [],
      "name": "MODNet_demo.ipynb",
      "provenance": [],
      "machine_shape": "hm"
    },
    "kernelspec": {
      "display_name": "Python 3",
      "name": "python3"
    },
    "language_info": {
      "name": "python"
    },
    "orig_nbformat": 4,
    "gpuClass": "standard"
  },
  "nbformat": 4,
  "nbformat_minor": 0
}