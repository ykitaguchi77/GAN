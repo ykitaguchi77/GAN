{
  "nbformat": 4,
  "nbformat_minor": 0,
  "metadata": {
    "colab": {
      "name": "Untitled17.ipynb",
      "provenance": [],
      "toc_visible": true,
      "include_colab_link": true
    },
    "kernelspec": {
      "name": "python3",
      "display_name": "Python 3"
    }
  },
  "cells": [
    {
      "cell_type": "markdown",
      "metadata": {
        "id": "view-in-github",
        "colab_type": "text"
      },
      "source": [
        "<a href=\"https://colab.research.google.com/github/ykitaguchi77/GAN/blob/master/Scraping_image_GoogleSearch.ipynb\" target=\"_parent\"><img src=\"https://colab.research.google.com/assets/colab-badge.svg\" alt=\"Open In Colab\"/></a>"
      ]
    },
    {
      "cell_type": "markdown",
      "metadata": {
        "id": "57FBL-0R_hj3"
      },
      "source": [
        "#Google検索から画像をスクレイピングする"
      ]
    },
    {
      "cell_type": "markdown",
      "metadata": {
        "id": "cESqyg9E_qNw"
      },
      "source": [
        "Google driveをマウントする"
      ]
    },
    {
      "cell_type": "code",
      "metadata": {
        "id": "9aq5TdBT6SKc",
        "outputId": "0a6978a3-1d25-42cd-e084-547192395c15",
        "colab": {
          "base_uri": "https://localhost:8080/",
          "height": 125
        }
      },
      "source": [
        "from google.colab import drive\n",
        "drive.mount('/content/drive')"
      ],
      "execution_count": null,
      "outputs": [
        {
          "output_type": "stream",
          "text": [
            "Go to this URL in a browser: https://accounts.google.com/o/oauth2/auth?client_id=947318989803-6bn6qk8qdgf4n4g3pfee6491hc0brc4i.apps.googleusercontent.com&redirect_uri=urn%3aietf%3awg%3aoauth%3a2.0%3aoob&response_type=code&scope=email%20https%3a%2f%2fwww.googleapis.com%2fauth%2fdocs.test%20https%3a%2f%2fwww.googleapis.com%2fauth%2fdrive%20https%3a%2f%2fwww.googleapis.com%2fauth%2fdrive.photos.readonly%20https%3a%2f%2fwww.googleapis.com%2fauth%2fpeopleapi.readonly\n",
            "\n",
            "Enter your authorization code:\n",
            "··········\n",
            "Mounted at /content/drive\n"
          ],
          "name": "stdout"
        }
      ]
    },
    {
      "cell_type": "markdown",
      "metadata": {
        "id": "BuN9SQ7QdknF"
      },
      "source": [
        "google_images_dowloadをインストール"
      ]
    },
    {
      "cell_type": "code",
      "metadata": {
        "id": "55aQWcNSc6dU",
        "colab": {
          "base_uri": "https://localhost:8080/",
          "height": 266
        },
        "outputId": "a6e8567f-377c-4524-a820-974405a7d375"
      },
      "source": [
        "!pip install google_images_download"
      ],
      "execution_count": null,
      "outputs": [
        {
          "output_type": "stream",
          "text": [
            "Collecting google_images_download\n",
            "  Downloading https://files.pythonhosted.org/packages/18/ed/0319d30c48f3653802da8e6dcfefcea6370157d10d566ef6807cceb5ec4d/google_images_download-2.8.0.tar.gz\n",
            "Collecting selenium\n",
            "\u001b[?25l  Downloading https://files.pythonhosted.org/packages/80/d6/4294f0b4bce4de0abf13e17190289f9d0613b0a44e5dd6a7f5ca98459853/selenium-3.141.0-py2.py3-none-any.whl (904kB)\n",
            "\u001b[K     |████████████████████████████████| 911kB 11.2MB/s \n",
            "\u001b[?25hRequirement already satisfied: urllib3 in /usr/local/lib/python3.6/dist-packages (from selenium->google_images_download) (1.24.3)\n",
            "Building wheels for collected packages: google-images-download\n",
            "  Building wheel for google-images-download (setup.py) ... \u001b[?25l\u001b[?25hdone\n",
            "  Created wheel for google-images-download: filename=google_images_download-2.8.0-py2.py3-none-any.whl size=14550 sha256=f6f3a2a53cf18f1301a6515348e5a7a215e8fec72ea2b8cc00bf4f46a626cc4c\n",
            "  Stored in directory: /root/.cache/pip/wheels/1f/28/ad/f56e7061e1d2a9a1affe2f9c649c2570cb9198dd24ede0bbab\n",
            "Successfully built google-images-download\n",
            "Installing collected packages: selenium, google-images-download\n",
            "Successfully installed google-images-download-2.8.0 selenium-3.141.0\n"
          ],
          "name": "stdout"
        }
      ]
    },
    {
      "cell_type": "markdown",
      "metadata": {
        "id": "Tc1vHuSFd3us"
      },
      "source": [
        "スクレイピングする"
      ]
    },
    {
      "cell_type": "code",
      "metadata": {
        "id": "Nh2XFoQ-cB_V",
        "colab": {
          "base_uri": "https://localhost:8080/",
          "height": 230
        },
        "outputId": "25f642cc-f4e5-4d0b-a6ac-b72a0d76ac0e"
      },
      "source": [
        "from google_images_download import google_images_download\n",
        "response = google_images_download.googleimagesdownload()\n",
        "\n",
        "response.download({\n",
        "    \"keywords\": \"イチゴ\",\n",
        "    \"limit\": 3,\n",
        "    \"no_numbering\": True,\n",
        "    \"output_directory\": \"/content/drive/My Drive/AI_laboratory_course/images\",\n",
        "    \"image_directory\": \"strawberry\",\n",
        "    \"format\": \"jpg\" or \"jpeg\",\n",
        "    \"print_urls\": False,\n",
        "    \"chromedriver\": \"/content/drive/My Drive/AI_laboratory_course/chromedriver.exe\"  #chromedriverをダウンロードして指定の場所に置いておく\n",
        "    })\n",
        "\n",
        "\"\"\"\n",
        "response.download({\n",
        "    \"keywords\": \"リンゴ\",\n",
        "    \"limit\": 500,\n",
        "    \"no_numbering\": True,\n",
        "    \"output_directory\": \"/content/drive/My Drive/AI_laboratory_course/images\",\n",
        "    \"image_directory\": \"apple\",\n",
        "    \"print_urls\": False,\n",
        "    \"format\": \"jpg\" or \"jpeg\",\n",
        "     \"chromedriver\": \"/content/drive/My Drive/AI_laboratory_course/chromedriver.exe\"\n",
        "    })\n",
        "\"\"\""
      ],
      "execution_count": null,
      "outputs": [
        {
          "output_type": "stream",
          "text": [
            "\n",
            "Item no.: 1 --> Item name = \\u30a4\\u30c1\\u30b4\n",
            "Evaluating...\n",
            "Starting Download...\n",
            "Completed Image ====> 1.02215_2007_0315_IMG_1544.jpg\n",
            "Completed Image ====> 2.c61aa8590d330141d2d914da5273b9cf_m-1400x933.jpg\n",
            "Completed Image ====> 3.53S.jpg\n",
            "\n",
            "Errors: 0\n",
            "\n"
          ],
          "name": "stdout"
        },
        {
          "output_type": "execute_result",
          "data": {
            "text/plain": [
              "'\\nresponse.download({\\n    \"keywords\": \"リンゴ\",\\n    \"limit\": 500,\\n    \"no_numbering\": True,\\n    \"output_directory\": \"images\",\\n    \"image_directory\": \"apple\",\\n    \"print_urls\": False,\\n    \"format\": \"jpg\" or \"jpeg\",\\n    \"chromedriver\": r\"C:\\\\Users\\\\ykita\\\\python\\\\chromedriver.exe\"\\n    })\\n'"
            ]
          },
          "metadata": {
            "tags": []
          },
          "execution_count": 5
        }
      ]
    },
    {
      "cell_type": "markdown",
      "metadata": {
        "id": "7q8kcVy9eGjl"
      },
      "source": [
        "#宿題：\n",
        "\n",
        "次回、実際にdeep learningを用いた画像の分類を行います。\n",
        "1. 2つのカテゴリーの画像をダウンロードしましょう\n",
        "2. 実際に1枚ずつ確認し、不適切なものを除きましょう\n"
      ]
    }
  ]
}