{
  "nbformat": 4,
  "nbformat_minor": 0,
  "metadata": {
    "colab": {
      "name": "Untitled7.ipynb",
      "provenance": [],
      "authorship_tag": "ABX9TyNTke2aNliNqC0rKBwsbmNc",
      "include_colab_link": true
    },
    "kernelspec": {
      "name": "python3",
      "display_name": "Python 3"
    },
    "language_info": {
      "name": "python"
    },
    "accelerator": "GPU",
    "gpuClass": "standard"
  },
  "cells": [
    {
      "cell_type": "markdown",
      "metadata": {
        "id": "view-in-github",
        "colab_type": "text"
      },
      "source": [
        "<a href=\"https://colab.research.google.com/github/ykitaguchi77/GAN/blob/master/Toony_Yourself.ipynb\" target=\"_parent\"><img src=\"https://colab.research.google.com/assets/colab-badge.svg\" alt=\"Open In Colab\"/></a>"
      ]
    },
    {
      "cell_type": "markdown",
      "source": [
        "#**Toony Yourself**\n",
        "\n",
        "implementation: http://cedro3.com/ai/toonify-yourself/#comment-869\n",
        "\n",
        "original: "
      ],
      "metadata": {
        "id": "dfb-8Mp_vZVU"
      }
    },
    {
      "cell_type": "code",
      "execution_count": 1,
      "metadata": {
        "colab": {
          "base_uri": "https://localhost:8080/"
        },
        "id": "mrUdKnhCs5P-",
        "outputId": "c0896a8e-5f80-4d06-ccc2-7f07fbcf8bfb"
      },
      "outputs": [
        {
          "output_type": "stream",
          "name": "stdout",
          "text": [
            "TensorFlow 1.x selected.\n",
            "fatal: destination path 'stylegan2' already exists and is not an empty directory.\n",
            "/content/stylegan2\n",
            "CPU says hello.\n",
            "cudaErrorNoDevice: no CUDA-capable device is detected\n",
            "mkdir: cannot create directory ‘aligned’: File exists\n",
            "mkdir: cannot create directory ‘generated’: File exists\n"
          ]
        }
      ],
      "source": [
        "#StyleGANをGit clone\n",
        "%tensorflow_version 1.x\n",
        "!git clone https://github.com/justinpinkney/stylegan2\n",
        "\n",
        "%cd stylegan2\n",
        "!nvcc test_nvcc.cu -o test_nvcc -run\n",
        " \n",
        "# フォルダーの作成\n",
        "!mkdir aligned\n",
        "!mkdir generated"
      ]
    },
    {
      "cell_type": "code",
      "source": [
        "# ffhqモデル(Baseモデル)とblendedモデルのダウンロード\n",
        "#import pretrained_networks\n",
        "import gdown\n",
        "\n",
        " \n",
        "# use my copy of the blended model to save Doron's download bandwidth\n",
        "# get the original here https://mega.nz/folder/OtllzJwa#C947mCCdEfMCRTWnDcs4qw\n",
        "#blended_url = \"https://drive.google.com/uc?id=1H73TfV5gQ9ot7slSed_l-lim9X7pMRiU\"\n",
        "blended_url = \"https://drive.google.com/uc?id=1BRqqHWk_4BjNHLXTrpHkoxmZhGw3CU59\" \n",
        "ffhq_url = \"http://d36zk2xti64re0.cloudfront.net/stylegan2/networks/stylegan2-ffhq-config-f.pkl\"\n",
        "\n",
        "#エラーがでてうまくいかないので、ダイレクトにダウンロードすることにする \n",
        "#_, _, Gs_blended = pretrained_networks.load_networks(blended_url)\n",
        "#_, _, Gs = pretrained_networks.load_networks(ffhq_url)\n",
        "gdown.download(blended_url, quiet=False)\n",
        "gdown.download(ffhq_url, quiet=False)\n"
      ],
      "metadata": {
        "colab": {
          "base_uri": "https://localhost:8080/",
          "height": 178
        },
        "id": "LaHIEZSItJe-",
        "outputId": "2507a9cf-feb1-4123-861e-2f2212e2eda5"
      },
      "execution_count": 2,
      "outputs": [
        {
          "output_type": "stream",
          "name": "stderr",
          "text": [
            "Downloading...\n",
            "From: https://drive.google.com/uc?id=1BRqqHWk_4BjNHLXTrpHkoxmZhGw3CU59\n",
            "To: /content/stylegan2/ffhq-cartoon-blended-64.pkl\n",
            "100%|██████████| 382M/382M [00:01<00:00, 199MB/s]\n",
            "Downloading...\n",
            "From: http://d36zk2xti64re0.cloudfront.net/stylegan2/networks/stylegan2-ffhq-config-f.pkl\n",
            "To: /content/stylegan2/stylegan2-ffhq-config-f.pkl\n",
            "100%|██████████| 382M/382M [00:01<00:00, 196MB/s]\n"
          ]
        },
        {
          "output_type": "execute_result",
          "data": {
            "text/plain": [
              "'stylegan2-ffhq-config-f.pkl'"
            ],
            "application/vnd.google.colaboratory.intrinsic+json": {
              "type": "string"
            }
          },
          "metadata": {},
          "execution_count": 2
        }
      ]
    },
    {
      "cell_type": "markdown",
      "source": [
        "#**必要な関数を定義**"
      ],
      "metadata": {
        "id": "FdKJO8GavUwU"
      }
    },
    {
      "cell_type": "code",
      "source": [
        "# 画像表示\n",
        "import matplotlib.pyplot as plt\n",
        "from PIL import Image\n",
        "import glob\n",
        "import numpy as np\n",
        "\n",
        "def display_pic(folder):\n",
        "    fig = plt.figure(figsize=(30, 40))\n",
        "    files = glob.glob(folder)\n",
        "    files.sort()\n",
        "    images=[]\n",
        "    for i in range(len(files)):\n",
        "        img = Image.open(files[i])    \n",
        "        images = np.asarray(img)\n",
        "        ax = fig.add_subplot(10, 10, i+1, xticks=[], yticks=[])\n",
        "        image_plt = np.array(images)\n",
        "        ax.imshow(image_plt)\n",
        "        ax.set_xlabel(str(i), fontsize=20)               \n",
        "    plt.show()\n",
        "    plt.close()  \n",
        "\n",
        "# 潜在変数(latents)から生成した画像を表示\n",
        "import PIL.Image\n",
        "def display(latents):\n",
        "    \n",
        "    synthesis_kwargs = dict(output_transform=dict(func=tflib.convert_images_to_uint8, nchw_to_nhwc=False), minibatch_size=8)\n",
        "  \n",
        "    fig = plt.figure(figsize=(30, 40))   \n",
        "    for i in range(len(latents)):\n",
        "        vec = latents[i].reshape(1,18,512)\n",
        "        images =  Gs_blended.components.synthesis.run(vec, randomize_noise=False, **synthesis_kwargs)  \n",
        "        images = images.transpose((0,2,3,1))     \n",
        "        PIL.Image.fromarray(images[0], 'RGB')   \n",
        "        ax = fig.add_subplot(10, 10, i+1, xticks=[], yticks=[])\n",
        "        image_plt = np.array(images[0])\n",
        "        ax.imshow(image_plt)\n",
        "        ax.set_xlabel(str(i), fontsize=20)               \n",
        "    plt.show()\n",
        "    plt.close()\n",
        "\n",
        "# 潜在変数(latents)の順番を指定して、トランジションのGIFを作成する\n",
        "import os\n",
        "\n",
        "def generate_gif(latents, idx):\n",
        "\n",
        "    synthesis_kwargs = dict(output_transform=dict(func=tflib.convert_images_to_uint8, nchw_to_nhwc=False), minibatch_size=8)\n",
        "\n",
        "    image_gif = []\n",
        "    os.makedirs('my/gif', exist_ok=True)\n",
        "    for j in range(len(idx)-1):\n",
        "        for i in range(20):\n",
        "            latent = latents[idx[j]]+(latents[idx[j+1]]-latents[idx[j]])*i/19\n",
        "            latent = latent.reshape(1, 18, 512)\n",
        "            images =  Gs_blended.components.synthesis.run(latent, randomize_noise=False, **synthesis_kwargs) \n",
        "            images = images.transpose((0,2,3,1)) \n",
        "            image_one = PIL.Image.fromarray(images[0], 'RGB')\n",
        "            image_gif.append(image_one.resize((256,256))) \n",
        "\n",
        "    image_gif[0].save('./my/gif/anime.gif', save_all=True, append_images=image_gif[1:],\n",
        "                      duration=100, loop=0) "
      ],
      "metadata": {
        "id": "qe2XL4y3vTl6"
      },
      "execution_count": 3,
      "outputs": []
    },
    {
      "cell_type": "code",
      "source": [
        "# サンプル写真のダウンロードと整形\n",
        "import os \n",
        "import bz2\n",
        "import shutil\n",
        "import requests\n",
        "import urllib.request\n",
        "\n",
        "\n",
        "# rawフォルダを作成\n",
        "try: \n",
        "    shutil.rmtree(\"/content/stylegan2/raw\")\n",
        "    print(\"directory presents\")\n",
        "    print(\"\")\n",
        "except:\n",
        "    pass\n",
        "os.makedirs(\"/content/stylegan2/raw\", exist_ok=True)\n",
        "\n",
        "\n",
        "#Webから画像をダウンロードしてrawフォルダに格納\n",
        "url = \"https://images.unsplash.com/photo-1597223557154-721c1cecc4b0?ixlib=rb-1.2.1&ixid=MnwxMjA3fDB8MHxzZWFyY2h8Mnx8aHVtYW4lMjBmYWNlfGVufDB8fDB8fA%3D%3D&w=1000&q=80\"\n",
        "file_name = \"/content/stylegan2/raw/sample.jpg\"\n",
        "\n",
        "response = requests.get(url)\n",
        "image = response.content\n",
        "with open(file_name, \"wb\") as aaa:\n",
        "    aaa.write(image)\n",
        "\n",
        "#styleGANのモジュールを用いて画像のアラインメントを行う\n",
        "!python align_images.py raw aligned"
      ],
      "metadata": {
        "colab": {
          "base_uri": "https://localhost:8080/"
        },
        "id": "wrgcSkltyGEm",
        "outputId": "eda83b0c-f812-4944-9f28-ed24d621e6e7"
      },
      "execution_count": 4,
      "outputs": [
        {
          "output_type": "stream",
          "name": "stdout",
          "text": [
            "directory presents\n",
            "\n"
          ]
        }
      ]
    },
    {
      "cell_type": "code",
      "source": [
        "# 顔画像の潜在変数を求める \n",
        "!python project_images.py --num-steps 500 aligned generated\n",
        "display_pic('./generated/*.png')"
      ],
      "metadata": {
        "id": "24x5X_DNz46r",
        "outputId": "d52c638e-8238-4688-d037-232d72c1e2d6",
        "colab": {
          "base_uri": "https://localhost:8080/",
          "height": 573
        }
      },
      "execution_count": 5,
      "outputs": [
        {
          "output_type": "stream",
          "name": "stdout",
          "text": [
            "Loading networks from \"http://d36zk2xti64re0.cloudfront.net/stylegan2/networks/stylegan2-ffhq-config-f.pkl\"...\n",
            "2022-06-25 17:08:10.646401: E tensorflow/stream_executor/cuda/cuda_driver.cc:318] failed call to cuInit: CUDA_ERROR_NO_DEVICE: no CUDA-capable device is detected\n",
            "Setting up TensorFlow plugin \"fused_bias_act.cu\": Preprocessing... Failed!\n",
            "Traceback (most recent call last):\n",
            "  File \"project_images.py\", line 122, in <module>\n",
            "    main()\n",
            "  File \"project_images.py\", line 100, in main\n",
            "    _G, _D, Gs = pretrained_networks.load_networks(args.network_pkl)\n",
            "  File \"/content/stylegan2/pretrained_networks.py\", line 76, in load_networks\n",
            "    G, D, Gs = pickle.load(stream, encoding='latin1')\n",
            "  File \"/content/stylegan2/dnnlib/tflib/network.py\", line 297, in __setstate__\n",
            "    self._init_graph()\n",
            "  File \"/content/stylegan2/dnnlib/tflib/network.py\", line 154, in _init_graph\n",
            "    out_expr = self._build_func(*self.input_templates, **build_kwargs)\n",
            "  File \"<string>\", line 491, in G_synthesis_stylegan2\n",
            "  File \"<string>\", line 455, in layer\n",
            "  File \"<string>\", line 99, in modulated_conv2d_layer\n",
            "  File \"<string>\", line 68, in apply_bias_act\n",
            "  File \"/content/stylegan2/dnnlib/tflib/ops/fused_bias_act.py\", line 68, in fused_bias_act\n",
            "    return impl_dict[impl](x=x, b=b, axis=axis, act=act, alpha=alpha, gain=gain)\n",
            "  File \"/content/stylegan2/dnnlib/tflib/ops/fused_bias_act.py\", line 122, in _fused_bias_act_cuda\n",
            "    cuda_kernel = _get_plugin().fused_bias_act\n",
            "  File \"/content/stylegan2/dnnlib/tflib/ops/fused_bias_act.py\", line 16, in _get_plugin\n",
            "    return custom_ops.get_plugin(os.path.splitext(__file__)[0] + '.cu')\n",
            "  File \"/content/stylegan2/dnnlib/tflib/custom_ops.py\", line 130, in get_plugin\n",
            "    compile_opts += ' --gpu-architecture=%s' % _get_cuda_gpu_arch_string()\n",
            "  File \"/content/stylegan2/dnnlib/tflib/custom_ops.py\", line 52, in _get_cuda_gpu_arch_string\n",
            "    raise RuntimeError('No GPU devices found')\n",
            "RuntimeError: No GPU devices found\n"
          ]
        },
        {
          "output_type": "display_data",
          "data": {
            "text/plain": [
              "<Figure size 2160x2880 with 0 Axes>"
            ]
          },
          "metadata": {}
        }
      ]
    }
  ]
}