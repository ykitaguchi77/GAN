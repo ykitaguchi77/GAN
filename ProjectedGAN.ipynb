{
  "nbformat": 4,
  "nbformat_minor": 0,
  "metadata": {
    "colab": {
      "name": "Untitled13.ipynb",
      "provenance": [],
      "machine_shape": "hm",
      "authorship_tag": "ABX9TyMbYNjDKXGGMKJ1D6cFDj8s",
      "include_colab_link": true
    },
    "kernelspec": {
      "name": "python3",
      "display_name": "Python 3"
    },
    "language_info": {
      "name": "python"
    },
    "accelerator": "GPU",
    "gpuClass": "standard"
  },
  "cells": [
    {
      "cell_type": "markdown",
      "metadata": {
        "id": "view-in-github",
        "colab_type": "text"
      },
      "source": [
        "<a href=\"https://colab.research.google.com/github/ykitaguchi77/GAN/blob/master/ProjectedGAN.ipynb\" target=\"_parent\"><img src=\"https://colab.research.google.com/assets/colab-badge.svg\" alt=\"Open In Colab\"/></a>"
      ]
    },
    {
      "cell_type": "markdown",
      "source": [
        "#**Projected GAN**\n",
        "\n",
        "Original: https://github.com/autonomousvision/projected_gan\n",
        "\n",
        "Implementation: http://cedro3.com/ai/projected-gan/\n",
        "\n",
        "Paper: http://www.cvlibs.net/publications/Sauer2021NEURIPS.pdf\n"
      ],
      "metadata": {
        "id": "tAaB5N0T7sdW"
      }
    },
    {
      "cell_type": "code",
      "execution_count": null,
      "metadata": {
        "colab": {
          "base_uri": "https://localhost:8080/"
        },
        "id": "ZmzY6ZBz7mJ6",
        "outputId": "294e2dc3-dcf2-443f-80d5-25c8f880789b"
      },
      "outputs": [
        {
          "output_type": "stream",
          "name": "stdout",
          "text": [
            "\u001b[K     |████████████▌                   | 834.1 MB 1.3 MB/s eta 0:17:06tcmalloc: large alloc 1147494400 bytes == 0x39866000 @  0x7f914f10d615 0x592b76 0x4df71e 0x59afff 0x515655 0x549576 0x593fce 0x548ae9 0x51566f 0x549576 0x593fce 0x548ae9 0x5127f1 0x598e3b 0x511f68 0x598e3b 0x511f68 0x598e3b 0x511f68 0x4bc98a 0x532e76 0x594b72 0x515600 0x549576 0x593fce 0x548ae9 0x5127f1 0x549576 0x593fce 0x5118f8 0x593dd7\n",
            "\u001b[K     |███████████████▉                | 1055.7 MB 1.2 MB/s eta 0:14:41tcmalloc: large alloc 1434370048 bytes == 0x7debc000 @  0x7f914f10d615 0x592b76 0x4df71e 0x59afff 0x515655 0x549576 0x593fce 0x548ae9 0x51566f 0x549576 0x593fce 0x548ae9 0x5127f1 0x598e3b 0x511f68 0x598e3b 0x511f68 0x598e3b 0x511f68 0x4bc98a 0x532e76 0x594b72 0x515600 0x549576 0x593fce 0x548ae9 0x5127f1 0x549576 0x593fce 0x5118f8 0x593dd7\n",
            "\u001b[K     |████████████████████            | 1336.2 MB 1.2 MB/s eta 0:11:33tcmalloc: large alloc 1792966656 bytes == 0x2cee000 @  0x7f914f10d615 0x592b76 0x4df71e 0x59afff 0x515655 0x549576 0x593fce 0x548ae9 0x51566f 0x549576 0x593fce 0x548ae9 0x5127f1 0x598e3b 0x511f68 0x598e3b 0x511f68 0x598e3b 0x511f68 0x4bc98a 0x532e76 0x594b72 0x515600 0x549576 0x593fce 0x548ae9 0x5127f1 0x549576 0x593fce 0x5118f8 0x593dd7\n",
            "\u001b[K     |█████████████████████████▎      | 1691.1 MB 1.2 MB/s eta 0:06:19tcmalloc: large alloc 2241208320 bytes == 0x6dad6000 @  0x7f914f10d615 0x592b76 0x4df71e 0x59afff 0x515655 0x549576 0x593fce 0x548ae9 0x51566f 0x549576 0x593fce 0x548ae9 0x5127f1 0x598e3b 0x511f68 0x598e3b 0x511f68 0x598e3b 0x511f68 0x4bc98a 0x532e76 0x594b72 0x515600 0x549576 0x593fce 0x548ae9 0x5127f1 0x549576 0x593fce 0x5118f8 0x593dd7\n",
            "\u001b[K     |████████████████████████████████| 2137.7 MB 1.2 MB/s eta 0:00:01tcmalloc: large alloc 2137653248 bytes == 0xf3438000 @  0x7f914f10c1e7 0x4a3940 0x4a39cc 0x592b76 0x4df71e 0x59afff 0x515655 0x549576 0x593fce 0x511e2c 0x549576 0x593fce 0x511e2c 0x549576 0x593fce 0x511e2c 0x549576 0x593fce 0x511e2c 0x549576 0x593fce 0x511e2c 0x593dd7 0x511e2c 0x549576 0x593fce 0x548ae9 0x5127f1 0x549576 0x593fce 0x548ae9\n",
            "tcmalloc: large alloc 2672066560 bytes == 0x172ad8000 @  0x7f914f10d615 0x592b76 0x4df71e 0x59afff 0x515655 0x549576 0x593fce 0x511e2c 0x549576 0x593fce 0x511e2c 0x549576 0x593fce 0x511e2c 0x549576 0x593fce 0x511e2c 0x549576 0x593fce 0x511e2c 0x593dd7 0x511e2c 0x549576 0x593fce 0x548ae9 0x5127f1 0x549576 0x593fce 0x548ae9 0x5127f1 0x549576\n",
            "\u001b[K     |████████████████████████████████| 2137.7 MB 393 bytes/s \n",
            "\u001b[?25hCollecting torchvision==0.11.2+cu111\n",
            "  Downloading https://download.pytorch.org/whl/cu111/torchvision-0.11.2%2Bcu111-cp37-cp37m-linux_x86_64.whl (24.5 MB)\n",
            "\u001b[K     |████████████████████████████████| 24.5 MB 1.3 MB/s \n",
            "\u001b[?25hCollecting torchaudio==0.10.1\n",
            "  Downloading https://download.pytorch.org/whl/rocm4.1/torchaudio-0.10.1%2Brocm4.1-cp37-cp37m-linux_x86_64.whl (2.7 MB)\n",
            "\u001b[K     |████████████████████████████████| 2.7 MB 84.5 MB/s \n",
            "\u001b[?25hRequirement already satisfied: typing-extensions in /usr/local/lib/python3.7/dist-packages (from torch==1.10.1+cu111) (4.1.1)\n",
            "Requirement already satisfied: numpy in /usr/local/lib/python3.7/dist-packages (from torchvision==0.11.2+cu111) (1.21.6)\n",
            "Requirement already satisfied: pillow!=8.3.0,>=5.3.0 in /usr/local/lib/python3.7/dist-packages (from torchvision==0.11.2+cu111) (7.1.2)\n",
            "Installing collected packages: torch, torchvision, torchaudio\n",
            "  Attempting uninstall: torch\n",
            "    Found existing installation: torch 1.11.0+cu113\n",
            "    Uninstalling torch-1.11.0+cu113:\n",
            "      Successfully uninstalled torch-1.11.0+cu113\n",
            "  Attempting uninstall: torchvision\n",
            "    Found existing installation: torchvision 0.12.0+cu113\n",
            "    Uninstalling torchvision-0.12.0+cu113:\n",
            "      Successfully uninstalled torchvision-0.12.0+cu113\n",
            "  Attempting uninstall: torchaudio\n",
            "    Found existing installation: torchaudio 0.11.0+cu113\n",
            "    Uninstalling torchaudio-0.11.0+cu113:\n",
            "      Successfully uninstalled torchaudio-0.11.0+cu113\n",
            "\u001b[31mERROR: pip's dependency resolver does not currently take into account all the packages that are installed. This behaviour is the source of the following dependency conflicts.\n",
            "torchtext 0.12.0 requires torch==1.11.0, but you have torch 1.10.1+cu111 which is incompatible.\u001b[0m\n",
            "Successfully installed torch-1.10.1+cu111 torchaudio-0.10.1+rocm4.1 torchvision-0.11.2+cu111\n",
            "Cloning into 'projected_gan'...\n",
            "remote: Enumerating objects: 143, done.\u001b[K\n",
            "remote: Total 143 (delta 0), reused 0 (delta 0), pack-reused 143\u001b[K\n",
            "Receiving objects: 100% (143/143), 720.06 KiB | 1.05 MiB/s, done.\n",
            "Resolving deltas: 100% (63/63), done.\n",
            "Looking in indexes: https://pypi.org/simple, https://us-python.pkg.dev/colab-wheels/public/simple/\n",
            "Collecting timm\n",
            "  Downloading timm-0.5.4-py3-none-any.whl (431 kB)\n",
            "\u001b[K     |████████████████████████████████| 431 kB 4.2 MB/s \n",
            "\u001b[?25hRequirement already satisfied: dill in /usr/local/lib/python3.7/dist-packages (0.3.5.1)\n",
            "Requirement already satisfied: torch>=1.4 in /usr/local/lib/python3.7/dist-packages (from timm) (1.10.1+cu111)\n",
            "Requirement already satisfied: torchvision in /usr/local/lib/python3.7/dist-packages (from timm) (0.11.2+cu111)\n",
            "Requirement already satisfied: typing-extensions in /usr/local/lib/python3.7/dist-packages (from torch>=1.4->timm) (4.1.1)\n",
            "Requirement already satisfied: numpy in /usr/local/lib/python3.7/dist-packages (from torchvision->timm) (1.21.6)\n",
            "Requirement already satisfied: pillow!=8.3.0,>=5.3.0 in /usr/local/lib/python3.7/dist-packages (from torchvision->timm) (7.1.2)\n",
            "Installing collected packages: timm\n",
            "Successfully installed timm-0.5.4\n",
            "/content/projected_gan\n",
            "--2022-07-01 13:55:23--  https://s3.eu-central-1.amazonaws.com/avg-projects/projected_gan/models/ffhq.pkl\n",
            "Resolving s3.eu-central-1.amazonaws.com (s3.eu-central-1.amazonaws.com)... 52.219.47.175\n",
            "Connecting to s3.eu-central-1.amazonaws.com (s3.eu-central-1.amazonaws.com)|52.219.47.175|:443... connected.\n",
            "HTTP request sent, awaiting response... 200 OK\n",
            "Length: 1788689579 (1.7G) [binary/octet-stream]\n",
            "Saving to: ‘ffhq.pkl’\n",
            "\n",
            "ffhq.pkl            100%[===================>]   1.67G  11.3MB/s    in 2m 40s  \n",
            "\n",
            "2022-07-01 13:58:04 (10.7 MB/s) - ‘ffhq.pkl’ saved [1788689579/1788689579]\n",
            "\n"
          ]
        }
      ],
      "source": [
        "# --- セットアップ ---\n",
        "\n",
        "# Pytorch バージョン変更\n",
        "! pip install torch==1.10.1+cu111 torchvision==0.11.2+cu111 torchaudio==0.10.1 -f https://download.pytorch.org/whl/torch_stable.html\n",
        "\n",
        "# githubからコードを取得\n",
        "! git clone https://github.com/autonomousvision/projected_gan\n",
        "! pip install timm dill\n",
        "%cd projected_gan\n",
        "\n",
        "# 学習済みパラメータのダウンロード\n",
        "#! wget https://s3.eu-central-1.amazonaws.com/avg-projects/projected_gan/models/art_painting.pkl\n",
        "#! wget https://s3.eu-central-1.amazonaws.com/avg-projects/projected_gan/models/church.pkl\n",
        "#! wget https://s3.eu-central-1.amazonaws.com/avg-projects/projected_gan/models/cityscapes.pkl\n",
        "#! wget https://s3.eu-central-1.amazonaws.com/avg-projects/projected_gan/models/clevr.pkl\n",
        "! wget https://s3.eu-central-1.amazonaws.com/avg-projects/projected_gan/models/ffhq.pkl\n",
        "#! wget https://s3.eu-central-1.amazonaws.com/avg-projects/projected_gan/models/flowers.pkl\n",
        "#! wget https://s3.eu-central-1.amazonaws.com/avg-projects/projected_gan/models/landscape.pkl\n",
        "#! wget https://s3.eu-central-1.amazonaws.com/avg-projects/projected_gan/models/pokemon.pkl\n",
        "\n",
        "\n",
        "# 画像表示\n",
        "import matplotlib.pyplot as plt\n",
        "from PIL import Image\n",
        "import os\n",
        "import numpy as np\n",
        "\n",
        "def display_pic(folder):\n",
        "    fig = plt.figure(figsize=(30, 60))\n",
        "    files = os.listdir(folder)\n",
        "    files.sort()\n",
        "    for i, file in enumerate(files):\n",
        "        img = Image.open(folder+'/'+file)    \n",
        "        images = np.asarray(img)\n",
        "        ax = fig.add_subplot(10, 5, i+1, xticks=[], yticks=[])\n",
        "        image_plt = np.array(images)\n",
        "        ax.imshow(image_plt)\n",
        "        ax.set_xlabel(file, fontsize=25)               \n",
        "    plt.show()\n",
        "    plt.close()\n",
        "\n",
        "# リセットフォルダ\n",
        "import shutil\n",
        "\n",
        "def reset_folder(path):\n",
        "    if os.path.isdir(path):\n",
        "      shutil.rmtree(path)\n",
        "    os.makedirs(path,exist_ok=True)\n",
        "\n",
        "# 動画再生\n",
        "from IPython.display import display, HTML\n",
        "from IPython.display import HTML\n",
        "\n",
        "def display_mp4(path):\n",
        "    print('prepere to play movie...')\n",
        "    from base64 import b64encode\n",
        "    mp4 = open(path,'rb').read()\n",
        "    data_url = \"data:video/mp4;base64,\" + b64encode(mp4).decode()\n",
        "    display(HTML(\"\"\"\n",
        "    <video controls loop autoplay>\n",
        "        <source src=\"%s\" type=\"video/mp4\">\n",
        "    </video>\n",
        "    \"\"\" % data_url))"
      ]
    },
    {
      "cell_type": "code",
      "source": [
        "# サンプル画像生成\n",
        "reset_folder('out')\n",
        "! python gen_images.py --outdir=out\\\n",
        "                       --trunc=1.0\\\n",
        "                       --seeds=20-29 \\\n",
        "                       --network=ffhq.pkl"
      ],
      "metadata": {
        "colab": {
          "base_uri": "https://localhost:8080/"
        },
        "id": "H5gGVwwC9Hhb",
        "outputId": "e60dd719-e945-4e99-ecbf-51307a5f4c1b"
      },
      "execution_count": null,
      "outputs": [
        {
          "output_type": "stream",
          "name": "stdout",
          "text": [
            "Loading networks from \"ffhq.pkl\"...\n",
            "Generating image for seed 20 (0/10) ...\n",
            "Generating image for seed 21 (1/10) ...\n",
            "Generating image for seed 22 (2/10) ...\n",
            "Generating image for seed 23 (3/10) ...\n",
            "Generating image for seed 24 (4/10) ...\n",
            "Generating image for seed 25 (5/10) ...\n",
            "Generating image for seed 26 (6/10) ...\n",
            "Generating image for seed 27 (7/10) ...\n",
            "Generating image for seed 28 (8/10) ...\n",
            "Generating image for seed 29 (9/10) ...\n"
          ]
        }
      ]
    },
    {
      "cell_type": "code",
      "source": [
        "# 画像の表示\n",
        "display_pic('out')"
      ],
      "metadata": {
        "id": "wjUAyphz9Njq"
      },
      "execution_count": null,
      "outputs": []
    },
    {
      "cell_type": "code",
      "source": [
        "# 補完動画の作成\n",
        "! python gen_video.py --output=lerp.mp4\\\n",
        "                      --trunc=1.0\\\n",
        "                      --seeds=20-49\\\n",
        "                      --grid=3x2 \\\n",
        "                      --network=pokemon.pkl"
      ],
      "metadata": {
        "colab": {
          "base_uri": "https://localhost:8080/"
        },
        "id": "pNA_F7K_9Qux",
        "outputId": "15344fb0-aa4a-4bf2-9015-57e35b387a85"
      },
      "execution_count": null,
      "outputs": [
        {
          "output_type": "stream",
          "name": "stdout",
          "text": [
            "Loading networks from \"pokemon.pkl\"...\n",
            "100% 600/600 [01:25<00:00,  7.01it/s]\n"
          ]
        }
      ]
    },
    {
      "cell_type": "code",
      "source": [
        "# 動画の再生　メモリ足りない？？\n",
        "display_mp4('lerp.mp4')"
      ],
      "metadata": {
        "colab": {
          "base_uri": "https://localhost:8080/"
        },
        "id": "O0us6vHMBfJI",
        "outputId": "85c75095-1dc3-4e26-d958-cef3fc407d8a"
      },
      "execution_count": null,
      "outputs": [
        {
          "output_type": "stream",
          "name": "stdout",
          "text": [
            "prepere to play movie...\n"
          ]
        }
      ]
    }
  ]
}