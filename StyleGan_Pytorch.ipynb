{
  "nbformat": 4,
  "nbformat_minor": 0,
  "metadata": {
    "colab": {
      "name": "Untitled27.ipynb",
      "provenance": [],
      "authorship_tag": "ABX9TyMtGbw009s2WkfTTm3GC/eM",
      "include_colab_link": true
    },
    "kernelspec": {
      "name": "python3",
      "display_name": "Python 3"
    },
    "accelerator": "GPU"
  },
  "cells": [
    {
      "cell_type": "markdown",
      "metadata": {
        "id": "view-in-github",
        "colab_type": "text"
      },
      "source": [
        "<a href=\"https://colab.research.google.com/github/ykitaguchi77/GAN/blob/master/StyleGan_Pytorch.ipynb\" target=\"_parent\"><img src=\"https://colab.research.google.com/assets/colab-badge.svg\" alt=\"Open In Colab\"/></a>"
      ]
    },
    {
      "cell_type": "markdown",
      "metadata": {
        "id": "fLrrfKWfKL2b",
        "colab_type": "text"
      },
      "source": [
        "#StyleGAN実行\n",
        "https://github.com/pacifinapacific/StyleGAN_LatentEditor/blob/master/StyleGAN_editor.ipynb"
      ]
    },
    {
      "cell_type": "code",
      "metadata": {
        "id": "0TdqFMFhKlsj",
        "colab_type": "code",
        "colab": {
          "base_uri": "https://localhost:8080/",
          "height": 734
        },
        "outputId": "1cad9402-c7a4-4a2d-84ab-1337028fe4c1"
      },
      "source": [
        "# Install TensorFlow\n",
        "!pip install tensorflow==1.12.0\n",
        "import tensorflow as tf"
      ],
      "execution_count": 1,
      "outputs": [
        {
          "output_type": "stream",
          "text": [
            "Collecting tensorflow==1.12.0\n",
            "\u001b[?25l  Downloading https://files.pythonhosted.org/packages/22/cc/ca70b78087015d21c5f3f93694107f34ebccb3be9624385a911d4b52ecef/tensorflow-1.12.0-cp36-cp36m-manylinux1_x86_64.whl (83.1MB)\n",
            "\u001b[K     |████████████████████████████████| 83.1MB 57kB/s \n",
            "\u001b[?25hRequirement already satisfied: termcolor>=1.1.0 in /usr/local/lib/python3.6/dist-packages (from tensorflow==1.12.0) (1.1.0)\n",
            "Requirement already satisfied: gast>=0.2.0 in /usr/local/lib/python3.6/dist-packages (from tensorflow==1.12.0) (0.3.3)\n",
            "Requirement already satisfied: keras-applications>=1.0.6 in /usr/local/lib/python3.6/dist-packages (from tensorflow==1.12.0) (1.0.8)\n",
            "Requirement already satisfied: six>=1.10.0 in /usr/local/lib/python3.6/dist-packages (from tensorflow==1.12.0) (1.12.0)\n",
            "Requirement already satisfied: keras-preprocessing>=1.0.5 in /usr/local/lib/python3.6/dist-packages (from tensorflow==1.12.0) (1.1.0)\n",
            "Requirement already satisfied: numpy>=1.13.3 in /usr/local/lib/python3.6/dist-packages (from tensorflow==1.12.0) (1.18.3)\n",
            "Requirement already satisfied: absl-py>=0.1.6 in /usr/local/lib/python3.6/dist-packages (from tensorflow==1.12.0) (0.9.0)\n",
            "Requirement already satisfied: wheel>=0.26 in /usr/local/lib/python3.6/dist-packages (from tensorflow==1.12.0) (0.34.2)\n",
            "Requirement already satisfied: astor>=0.6.0 in /usr/local/lib/python3.6/dist-packages (from tensorflow==1.12.0) (0.8.1)\n",
            "Requirement already satisfied: protobuf>=3.6.1 in /usr/local/lib/python3.6/dist-packages (from tensorflow==1.12.0) (3.10.0)\n",
            "Requirement already satisfied: grpcio>=1.8.6 in /usr/local/lib/python3.6/dist-packages (from tensorflow==1.12.0) (1.28.1)\n",
            "Collecting tensorboard<1.13.0,>=1.12.0\n",
            "\u001b[?25l  Downloading https://files.pythonhosted.org/packages/07/53/8d32ce9471c18f8d99028b7cef2e5b39ea8765bd7ef250ca05b490880971/tensorboard-1.12.2-py3-none-any.whl (3.0MB)\n",
            "\u001b[K     |████████████████████████████████| 3.1MB 52.7MB/s \n",
            "\u001b[?25hRequirement already satisfied: h5py in /usr/local/lib/python3.6/dist-packages (from keras-applications>=1.0.6->tensorflow==1.12.0) (2.10.0)\n",
            "Requirement already satisfied: setuptools in /usr/local/lib/python3.6/dist-packages (from protobuf>=3.6.1->tensorflow==1.12.0) (46.1.3)\n",
            "Requirement already satisfied: werkzeug>=0.11.10 in /usr/local/lib/python3.6/dist-packages (from tensorboard<1.13.0,>=1.12.0->tensorflow==1.12.0) (1.0.1)\n",
            "Requirement already satisfied: markdown>=2.6.8 in /usr/local/lib/python3.6/dist-packages (from tensorboard<1.13.0,>=1.12.0->tensorflow==1.12.0) (3.2.1)\n",
            "Installing collected packages: tensorboard, tensorflow\n",
            "  Found existing installation: tensorboard 2.2.1\n",
            "    Uninstalling tensorboard-2.2.1:\n",
            "      Successfully uninstalled tensorboard-2.2.1\n",
            "  Found existing installation: tensorflow 2.2.0rc3\n",
            "    Uninstalling tensorflow-2.2.0rc3:\n",
            "      Successfully uninstalled tensorflow-2.2.0rc3\n",
            "Successfully installed tensorboard-1.12.2 tensorflow-1.12.0\n"
          ],
          "name": "stdout"
        },
        {
          "output_type": "stream",
          "text": [
            "/usr/local/lib/python3.6/dist-packages/tensorflow/python/framework/dtypes.py:523: FutureWarning: Passing (type, 1) or '1type' as a synonym of type is deprecated; in a future version of numpy, it will be understood as (type, (1,)) / '(1,)type'.\n",
            "  _np_qint8 = np.dtype([(\"qint8\", np.int8, 1)])\n",
            "/usr/local/lib/python3.6/dist-packages/tensorflow/python/framework/dtypes.py:524: FutureWarning: Passing (type, 1) or '1type' as a synonym of type is deprecated; in a future version of numpy, it will be understood as (type, (1,)) / '(1,)type'.\n",
            "  _np_quint8 = np.dtype([(\"quint8\", np.uint8, 1)])\n",
            "/usr/local/lib/python3.6/dist-packages/tensorflow/python/framework/dtypes.py:525: FutureWarning: Passing (type, 1) or '1type' as a synonym of type is deprecated; in a future version of numpy, it will be understood as (type, (1,)) / '(1,)type'.\n",
            "  _np_qint16 = np.dtype([(\"qint16\", np.int16, 1)])\n",
            "/usr/local/lib/python3.6/dist-packages/tensorflow/python/framework/dtypes.py:526: FutureWarning: Passing (type, 1) or '1type' as a synonym of type is deprecated; in a future version of numpy, it will be understood as (type, (1,)) / '(1,)type'.\n",
            "  _np_quint16 = np.dtype([(\"quint16\", np.uint16, 1)])\n",
            "/usr/local/lib/python3.6/dist-packages/tensorflow/python/framework/dtypes.py:527: FutureWarning: Passing (type, 1) or '1type' as a synonym of type is deprecated; in a future version of numpy, it will be understood as (type, (1,)) / '(1,)type'.\n",
            "  _np_qint32 = np.dtype([(\"qint32\", np.int32, 1)])\n",
            "/usr/local/lib/python3.6/dist-packages/tensorflow/python/framework/dtypes.py:532: FutureWarning: Passing (type, 1) or '1type' as a synonym of type is deprecated; in a future version of numpy, it will be understood as (type, (1,)) / '(1,)type'.\n",
            "  np_resource = np.dtype([(\"resource\", np.ubyte, 1)])\n"
          ],
          "name": "stderr"
        }
      ]
    },
    {
      "cell_type": "code",
      "metadata": {
        "id": "l880gjTvJY4-",
        "colab_type": "code",
        "colab": {}
      },
      "source": [
        "from google.colab import drive\n",
        "drive.mount('/content/drive')"
      ],
      "execution_count": 0,
      "outputs": []
    },
    {
      "cell_type": "code",
      "metadata": {
        "id": "Sq73r7wQJT0x",
        "colab_type": "code",
        "colab": {
          "base_uri": "https://localhost:8080/",
          "height": 153
        },
        "outputId": "8b24323b-8ef9-4f80-ae43-35f598f30214"
      },
      "source": [
        "import os\n",
        "path = '/content/drive/My Drive/Deep_learning/StyleGAN_LatentEditor'\n",
        "\n",
        "#作業ディレクトリをpathに移動する\n",
        "os.chdir(path)\n",
        "\n",
        "#作業ディレクトリ直下のファイルを確認\n",
        "!ls"
      ],
      "execution_count": 3,
      "outputs": [
        {
          "output_type": "stream",
          "text": [
            "align_images.py        latent_W\t\t    semantic_edit.py\n",
            "dnnlib\t\t       make_morphgif.py     source_image\n",
            "encode_image.py        perceptual_model.py  StyleGAN_editor.ipynb\n",
            "face_alignment.py      __pycache__\t    stylegan_layers.py\n",
            "facial_exchange.py     read_image.py\t    weight_convert.py\n",
            "image_crossover.py     README.txt\t    weight_files\n",
            "image_morphing.py      save_image\n",
            "landmarks_detector.py  save_result\n"
          ],
          "name": "stdout"
        }
      ]
    },
    {
      "cell_type": "markdown",
      "metadata": {
        "id": "24Uaa-cLKJ51",
        "colab_type": "text"
      },
      "source": [
        "#TensorFlowのweight → Pytorchのweight"
      ]
    },
    {
      "cell_type": "code",
      "metadata": {
        "id": "0SzfzPnXKKBC",
        "colab_type": "code",
        "colab": {
          "base_uri": "https://localhost:8080/",
          "height": 649
        },
        "outputId": "c38a2aeb-e8a3-4240-f0fd-623a82514425"
      },
      "source": [
        "#!python weight_convert.py"
      ],
      "execution_count": 5,
      "outputs": [
        {
          "output_type": "stream",
          "text": [
            "/usr/local/lib/python3.6/dist-packages/tensorflow/python/framework/dtypes.py:523: FutureWarning: Passing (type, 1) or '1type' as a synonym of type is deprecated; in a future version of numpy, it will be understood as (type, (1,)) / '(1,)type'.\n",
            "  _np_qint8 = np.dtype([(\"qint8\", np.int8, 1)])\n",
            "/usr/local/lib/python3.6/dist-packages/tensorflow/python/framework/dtypes.py:524: FutureWarning: Passing (type, 1) or '1type' as a synonym of type is deprecated; in a future version of numpy, it will be understood as (type, (1,)) / '(1,)type'.\n",
            "  _np_quint8 = np.dtype([(\"quint8\", np.uint8, 1)])\n",
            "/usr/local/lib/python3.6/dist-packages/tensorflow/python/framework/dtypes.py:525: FutureWarning: Passing (type, 1) or '1type' as a synonym of type is deprecated; in a future version of numpy, it will be understood as (type, (1,)) / '(1,)type'.\n",
            "  _np_qint16 = np.dtype([(\"qint16\", np.int16, 1)])\n",
            "/usr/local/lib/python3.6/dist-packages/tensorflow/python/framework/dtypes.py:526: FutureWarning: Passing (type, 1) or '1type' as a synonym of type is deprecated; in a future version of numpy, it will be understood as (type, (1,)) / '(1,)type'.\n",
            "  _np_quint16 = np.dtype([(\"quint16\", np.uint16, 1)])\n",
            "/usr/local/lib/python3.6/dist-packages/tensorflow/python/framework/dtypes.py:527: FutureWarning: Passing (type, 1) or '1type' as a synonym of type is deprecated; in a future version of numpy, it will be understood as (type, (1,)) / '(1,)type'.\n",
            "  _np_qint32 = np.dtype([(\"qint32\", np.int32, 1)])\n",
            "/usr/local/lib/python3.6/dist-packages/tensorflow/python/framework/dtypes.py:532: FutureWarning: Passing (type, 1) or '1type' as a synonym of type is deprecated; in a future version of numpy, it will be understood as (type, (1,)) / '(1,)type'.\n",
            "  np_resource = np.dtype([(\"resource\", np.ubyte, 1)])\n",
            "sd only g_synthesis.blocks.8x8.conv0_up.intermediate.kernel torch.Size([1, 1, 3, 3])\n",
            "sd only g_synthesis.blocks.16x16.conv0_up.intermediate.kernel torch.Size([1, 1, 3, 3])\n",
            "sd only g_synthesis.blocks.32x32.conv0_up.intermediate.kernel torch.Size([1, 1, 3, 3])\n",
            "sd only g_synthesis.blocks.64x64.conv0_up.intermediate.kernel torch.Size([1, 1, 3, 3])\n",
            "sd only g_synthesis.blocks.128x128.conv0_up.intermediate.kernel torch.Size([1, 1, 3, 3])\n",
            "sd only g_synthesis.blocks.256x256.conv0_up.intermediate.kernel torch.Size([1, 1, 3, 3])\n",
            "sd only g_synthesis.blocks.512x512.conv0_up.intermediate.kernel torch.Size([1, 1, 3, 3])\n",
            "sd only g_synthesis.blocks.1024x1024.conv0_up.intermediate.kernel torch.Size([1, 1, 3, 3])\n",
            "sd only 1024x1024.blur.kernel torch.Size([1, 1, 3, 3])\n",
            "sd only 1024x1024.conv1_down.downscale.blur.kernel torch.Size([1, 1, 2, 2])\n",
            "sd only 512x512.blur.kernel torch.Size([1, 1, 3, 3])\n",
            "sd only 512x512.conv1_down.downscale.blur.kernel torch.Size([1, 1, 2, 2])\n",
            "sd only 256x256.blur.kernel torch.Size([1, 1, 3, 3])\n",
            "sd only 256x256.conv1_down.downscale.blur.kernel torch.Size([1, 1, 2, 2])\n",
            "sd only 128x128.blur.kernel torch.Size([1, 1, 3, 3])\n",
            "sd only 128x128.conv1_down.downscale.blur.kernel torch.Size([1, 1, 2, 2])\n",
            "sd only 64x64.blur.kernel torch.Size([1, 1, 3, 3])\n",
            "sd only 64x64.conv1_down.downscale.blur.kernel torch.Size([1, 1, 2, 2])\n",
            "sd only 32x32.blur.kernel torch.Size([1, 1, 3, 3])\n",
            "sd only 32x32.conv1_down.downscale.blur.kernel torch.Size([1, 1, 2, 2])\n",
            "sd only 16x16.blur.kernel torch.Size([1, 1, 3, 3])\n",
            "sd only 16x16.conv1_down.downscale.blur.kernel torch.Size([1, 1, 2, 2])\n",
            "sd only 8x8.blur.kernel torch.Size([1, 1, 3, 3])\n",
            "sd only 8x8.conv1_down.downscale.blur.kernel torch.Size([1, 1, 2, 2])\n"
          ],
          "name": "stdout"
        }
      ]
    },
    {
      "cell_type": "markdown",
      "metadata": {
        "id": "t1tXMojqKxMM",
        "colab_type": "text"
      },
      "source": [
        "#**[1]潜在変数の推定**\n",
        "(Abdal, R., Qin, Y., & Wonka, P. (2019). Image2StyleGAN: How to Embed Images Into the StyleGAN Latent Space?)"
      ]
    },
    {
      "cell_type": "code",
      "metadata": {
        "id": "BkAAnmlcKweT",
        "colab_type": "code",
        "colab": {
          "base_uri": "https://localhost:8080/",
          "height": 51
        },
        "outputId": "ac6c546d-e23d-436a-fc4d-ac69a79e1819"
      },
      "source": [
        "!mkdir save_image\n",
        "!mkdir save_image/encode1"
      ],
      "execution_count": 4,
      "outputs": [
        {
          "output_type": "stream",
          "text": [
            "mkdir: cannot create directory ‘save_image’: File exists\n",
            "mkdir: cannot create directory ‘save_image/encode1’: File exists\n"
          ],
          "name": "stdout"
        }
      ]
    },
    {
      "cell_type": "code",
      "metadata": {
        "id": "cM_BonYbLADc",
        "colab_type": "code",
        "colab": {
          "base_uri": "https://localhost:8080/",
          "height": 153
        },
        "outputId": "f9a4e6fa-fdd2-4cb6-d706-c4e8222f1c0e"
      },
      "source": [
        "!python image_morphing.py --latent_file1 latent_W/0.npy --latent_file2 latent_W/sample.npy"
      ],
      "execution_count": 5,
      "outputs": [
        {
          "output_type": "stream",
          "text": [
            "Traceback (most recent call last):\n",
            "  File \"image_morphing.py\", line 71, in <module>\n",
            "    main()\n",
            "  File \"image_morphing.py\", line 49, in main\n",
            "    latents_1=np.load(args.latent_file2)\n",
            "  File \"/usr/local/lib/python3.6/dist-packages/numpy/lib/npyio.py\", line 428, in load\n",
            "    fid = open(os_fspath(file), \"rb\")\n",
            "FileNotFoundError: [Errno 2] No such file or directory: 'latent_W/sample.npy'\n"
          ],
          "name": "stdout"
        }
      ]
    },
    {
      "cell_type": "markdown",
      "metadata": {
        "id": "3ArSF8GsLQRz",
        "colab_type": "text"
      },
      "source": [
        "#**morph画像をgifとして保存**\n",
        "save_result以下にgif\n",
        "\n"
      ]
    },
    {
      "cell_type": "code",
      "metadata": {
        "id": "JIGPZ4-yLAF8",
        "colab_type": "code",
        "colab": {
          "base_uri": "https://localhost:8080/",
          "height": 34
        },
        "outputId": "f2d6d2fd-f779-4524-ec23-4cc49aec5e67"
      },
      "source": [
        "!mkdir save_result"
      ],
      "execution_count": 8,
      "outputs": [
        {
          "output_type": "stream",
          "text": [
            "mkdir: cannot create directory ‘save_result’: File exists\n"
          ],
          "name": "stdout"
        }
      ]
    },
    {
      "cell_type": "code",
      "metadata": {
        "id": "hARV2OVVLAID",
        "colab_type": "code",
        "colab": {
          "base_uri": "https://localhost:8080/",
          "height": 102
        },
        "outputId": "df8cc85f-cd63-4011-9b27-456fa2bb6ce1"
      },
      "source": [
        "!python make_morphgif.py\n"
      ],
      "execution_count": 9,
      "outputs": [
        {
          "output_type": "stream",
          "text": [
            "[]\n",
            "Traceback (most recent call last):\n",
            "  File \"make_morphgif.py\", line 32, in <module>\n",
            "    images[0].save('save_result/morph.gif' , save_all = True , append_images = images[1::2] , duration = 100 , loop = 0)\n",
            "IndexError: list index out of range\n"
          ],
          "name": "stdout"
        }
      ]
    },
    {
      "cell_type": "markdown",
      "metadata": {
        "id": "LOdKxtRxLt2b",
        "colab_type": "text"
      },
      "source": [
        "#**[2]Image Crossover**\n",
        "(Abdal, R., Qin, Y., & Wonka, P. (2019). Image2StyleGAN++: How to Edit the Embedded Images? )<br>\n",
        "save_image/crossover/以下に生成画像"
      ]
    },
    {
      "cell_type": "code",
      "metadata": {
        "id": "FyKSvsZvLtOz",
        "colab_type": "code",
        "colab": {
          "base_uri": "https://localhost:8080/",
          "height": 34
        },
        "outputId": "f2c0452c-14e5-445e-a636-63f194bd0293"
      },
      "source": [
        "!mkdir save_image/crossover"
      ],
      "execution_count": 10,
      "outputs": [
        {
          "output_type": "stream",
          "text": [
            "mkdir: cannot create directory ‘save_image/crossover’: File exists\n"
          ],
          "name": "stdout"
        }
      ]
    },
    {
      "cell_type": "code",
      "metadata": {
        "id": "va5O6PfhLtRK",
        "colab_type": "code",
        "colab": {
          "base_uri": "https://localhost:8080/",
          "height": 1000
        },
        "outputId": "507365ba-9410-4cbf-94b3-6fc9f83693fb"
      },
      "source": [
        "!python image_crossover.py --src_im1  source_image/joker.png --src_im2  source_image/0.png --mask source_image/Blur_mask.png --iteration 1500"
      ],
      "execution_count": 11,
      "outputs": [
        {
          "output_type": "stream",
          "text": [
            "/usr/local/lib/python3.6/dist-packages/torch/nn/functional.py:2506: UserWarning: Default upsampling behavior when mode=bilinear is changed to align_corners=False since 0.4.0. Please specify align_corners=True if the old behavior is desired. See the documentation of nn.Upsample for details.\n",
            "  \"See the documentation of nn.Upsample for details.\".format(mode))\n",
            "Downloading: \"https://download.pytorch.org/models/vgg16-397923af.pth\" to /root/.cache/torch/checkpoints/vgg16-397923af.pth\n",
            "100% 528M/528M [00:02<00:00, 247MB/s]\n",
            "Start\n",
            "iter0: loss -- 6.047449111938477,  loss0 --4.542577743530273,  loss1 --1.5048714876174927\n",
            "iter10: loss -- 4.66278600692749,  loss0 --2.6844351291656494,  loss1 --1.9783509969711304\n",
            "iter20: loss -- 4.356183052062988,  loss0 --2.6590285301208496,  loss1 --1.6971544027328491\n",
            "iter30: loss -- 4.1302995681762695,  loss0 --2.550196409225464,  loss1 --1.5801030397415161\n",
            "iter40: loss -- 3.9723610877990723,  loss0 --2.482774257659912,  loss1 --1.4895867109298706\n",
            "iter50: loss -- 3.8139185905456543,  loss0 --2.408419609069824,  loss1 --1.4054991006851196\n",
            "iter60: loss -- 3.695916175842285,  loss0 --2.3301219940185547,  loss1 --1.365794062614441\n",
            "iter70: loss -- 3.5308032035827637,  loss0 --2.239952325820923,  loss1 --1.2908509969711304\n",
            "iter80: loss -- 3.4174797534942627,  loss0 --2.186795473098755,  loss1 --1.2306842803955078\n",
            "iter90: loss -- 3.3204586505889893,  loss0 --2.1248443126678467,  loss1 --1.1956143379211426\n",
            "iter100: loss -- 3.252011775970459,  loss0 --2.019883155822754,  loss1 --1.232128620147705\n",
            "iter110: loss -- 3.153705596923828,  loss0 --1.9473780393600464,  loss1 --1.2063274383544922\n",
            "iter120: loss -- 3.04764986038208,  loss0 --1.8514474630355835,  loss1 --1.1962025165557861\n",
            "iter130: loss -- 2.9648425579071045,  loss0 --1.8173552751541138,  loss1 --1.1474872827529907\n",
            "iter140: loss -- 2.8911828994750977,  loss0 --1.7234268188476562,  loss1 --1.167756199836731\n",
            "iter150: loss -- 2.7924036979675293,  loss0 --1.6673219203948975,  loss1 --1.1250817775726318\n",
            "iter160: loss -- 2.745551586151123,  loss0 --1.6412640810012817,  loss1 --1.1042875051498413\n",
            "iter170: loss -- 2.7272603511810303,  loss0 --1.5849764347076416,  loss1 --1.1422839164733887\n",
            "iter180: loss -- 2.6371078491210938,  loss0 --1.5278693437576294,  loss1 --1.1092383861541748\n",
            "iter190: loss -- 2.584425449371338,  loss0 --1.4942868947982788,  loss1 --1.0901384353637695\n",
            "iter200: loss -- 2.5998916625976562,  loss0 --1.5031355619430542,  loss1 --1.0967562198638916\n",
            "iter210: loss -- 2.872126579284668,  loss0 --1.6062946319580078,  loss1 --1.2658320665359497\n",
            "iter220: loss -- 2.727445125579834,  loss0 --1.4782615900039673,  loss1 --1.2491836547851562\n",
            "iter230: loss -- 2.6252191066741943,  loss0 --1.4372888803482056,  loss1 --1.1879302263259888\n",
            "iter240: loss -- 2.5989785194396973,  loss0 --1.4256378412246704,  loss1 --1.1733405590057373\n",
            "iter250: loss -- 2.4263739585876465,  loss0 --1.3971675634384155,  loss1 --1.0292065143585205\n",
            "iter260: loss -- 2.377045154571533,  loss0 --1.356155276298523,  loss1 --1.0208898782730103\n",
            "iter270: loss -- 2.388033390045166,  loss0 --1.335006594657898,  loss1 --1.0530266761779785\n",
            "iter280: loss -- 2.4490747451782227,  loss0 --1.371791124343872,  loss1 --1.0772837400436401\n",
            "iter290: loss -- 2.358088254928589,  loss0 --1.3063688278198242,  loss1 --1.0517194271087646\n",
            "iter300: loss -- 2.288501739501953,  loss0 --1.2913904190063477,  loss1 --0.9971112608909607\n",
            "iter310: loss -- 2.301269054412842,  loss0 --1.3109819889068604,  loss1 --0.9902871251106262\n",
            "iter320: loss -- 2.2419052124023438,  loss0 --1.2620303630828857,  loss1 --0.9798749685287476\n",
            "iter330: loss -- 2.2217726707458496,  loss0 --1.2441718578338623,  loss1 --0.9776007533073425\n",
            "iter340: loss -- 2.403219223022461,  loss0 --1.331347942352295,  loss1 --1.0718711614608765\n",
            "iter350: loss -- 2.384178638458252,  loss0 --1.3315507173538208,  loss1 --1.0526280403137207\n",
            "iter360: loss -- 2.32855224609375,  loss0 --1.3015557527542114,  loss1 --1.0269964933395386\n",
            "iter370: loss -- 2.2619495391845703,  loss0 --1.252297282218933,  loss1 --1.0096521377563477\n",
            "iter380: loss -- 2.233266592025757,  loss0 --1.2748446464538574,  loss1 --0.9584220051765442\n",
            "iter390: loss -- 2.1433920860290527,  loss0 --1.1882946491241455,  loss1 --0.9550975561141968\n",
            "iter400: loss -- 2.1109795570373535,  loss0 --1.1565948724746704,  loss1 --0.9543846845626831\n",
            "iter410: loss -- 2.1244640350341797,  loss0 --1.1820138692855835,  loss1 --0.942450225353241\n",
            "iter420: loss -- 2.0961899757385254,  loss0 --1.1675173044204712,  loss1 --0.9286726117134094\n",
            "iter430: loss -- 2.0642313957214355,  loss0 --1.1567550897598267,  loss1 --0.9074763655662537\n",
            "iter440: loss -- 2.0615181922912598,  loss0 --1.1559135913848877,  loss1 --0.9056046605110168\n",
            "iter450: loss -- 2.0898518562316895,  loss0 --1.1857562065124512,  loss1 --0.9040957093238831\n",
            "iter460: loss -- 2.075702667236328,  loss0 --1.136151671409607,  loss1 --0.9395508766174316\n",
            "iter470: loss -- 1.9990715980529785,  loss0 --1.1090879440307617,  loss1 --0.889983594417572\n",
            "iter480: loss -- 2.0120184421539307,  loss0 --1.1201435327529907,  loss1 --0.8918749094009399\n",
            "iter490: loss -- 1.98949134349823,  loss0 --1.0978150367736816,  loss1 --0.8916763067245483\n",
            "iter500: loss -- 2.0261456966400146,  loss0 --1.1058075428009033,  loss1 --0.9203381538391113\n",
            "iter510: loss -- 1.9884190559387207,  loss0 --1.0859078168869019,  loss1 --0.9025112390518188\n",
            "iter520: loss -- 1.9996832609176636,  loss0 --1.076845645904541,  loss1 --0.9228376150131226\n",
            "iter530: loss -- 1.937982439994812,  loss0 --1.065775752067566,  loss1 --0.8722066879272461\n",
            "iter540: loss -- 1.9323773384094238,  loss0 --1.0564554929733276,  loss1 --0.8759217858314514\n",
            "iter550: loss -- 1.99515962600708,  loss0 --1.0810563564300537,  loss1 --0.9141033291816711\n",
            "iter560: loss -- 1.9070383310317993,  loss0 --1.053599238395691,  loss1 --0.8534390926361084\n",
            "iter570: loss -- 1.8983440399169922,  loss0 --1.0552558898925781,  loss1 --0.8430882096290588\n",
            "iter580: loss -- 1.8784024715423584,  loss0 --1.0149849653244019,  loss1 --0.8634175658226013\n",
            "iter590: loss -- 1.9093642234802246,  loss0 --1.0458178520202637,  loss1 --0.8635464310646057\n",
            "iter600: loss -- 1.8645825386047363,  loss0 --1.0272414684295654,  loss1 --0.8373411297798157\n",
            "iter610: loss -- 1.8413236141204834,  loss0 --1.019270896911621,  loss1 --0.8220526576042175\n",
            "iter620: loss -- 1.8572988510131836,  loss0 --1.016711950302124,  loss1 --0.8405868411064148\n",
            "iter630: loss -- 1.8096818923950195,  loss0 --1.006946086883545,  loss1 --0.8027358055114746\n",
            "iter640: loss -- 1.8759232759475708,  loss0 --1.0182095766067505,  loss1 --0.8577136993408203\n",
            "iter650: loss -- 1.8588769435882568,  loss0 --1.0111017227172852,  loss1 --0.8477752208709717\n",
            "iter660: loss -- 1.8469719886779785,  loss0 --1.002807855606079,  loss1 --0.8441641330718994\n",
            "iter670: loss -- 1.8278098106384277,  loss0 --0.9981749057769775,  loss1 --0.8296348452568054\n",
            "iter680: loss -- 1.7963452339172363,  loss0 --0.9863356351852417,  loss1 --0.8100096583366394\n",
            "iter690: loss -- 2.6180624961853027,  loss0 --1.3726582527160645,  loss1 --1.2454041242599487\n",
            "iter700: loss -- 2.7951035499572754,  loss0 --1.3474904298782349,  loss1 --1.4476131200790405\n",
            "iter710: loss -- 2.5956032276153564,  loss0 --1.2759615182876587,  loss1 --1.3196417093276978\n",
            "iter720: loss -- 2.312953472137451,  loss0 --1.1802020072937012,  loss1 --1.13275146484375\n",
            "iter730: loss -- 2.263423442840576,  loss0 --1.1855632066726685,  loss1 --1.0778603553771973\n",
            "iter740: loss -- 2.1123738288879395,  loss0 --1.1020601987838745,  loss1 --1.0103135108947754\n",
            "iter750: loss -- 2.04891300201416,  loss0 --1.074289321899414,  loss1 --0.9746236205101013\n",
            "iter760: loss -- 1.9954845905303955,  loss0 --1.0457913875579834,  loss1 --0.9496932625770569\n",
            "iter770: loss -- 1.9604363441467285,  loss0 --1.0487020015716553,  loss1 --0.9117343425750732\n",
            "iter780: loss -- 1.953345537185669,  loss0 --1.0191258192062378,  loss1 --0.9342197179794312\n",
            "iter790: loss -- 1.9298417568206787,  loss0 --1.0301700830459595,  loss1 --0.8996716737747192\n",
            "iter800: loss -- 1.911746859550476,  loss0 --1.0251237154006958,  loss1 --0.8866231441497803\n",
            "iter810: loss -- 1.8840712308883667,  loss0 --1.005317211151123,  loss1 --0.8787540197372437\n",
            "iter820: loss -- 1.8389053344726562,  loss0 --0.9745945334434509,  loss1 --0.8643108606338501\n",
            "iter830: loss -- 1.8193583488464355,  loss0 --0.9521400332450867,  loss1 --0.8672182559967041\n",
            "iter840: loss -- 1.8554540872573853,  loss0 --0.9970139861106873,  loss1 --0.858440101146698\n",
            "iter850: loss -- 1.8168812990188599,  loss0 --0.9758132696151733,  loss1 --0.8410680294036865\n",
            "iter860: loss -- 1.8151233196258545,  loss0 --0.9298675656318665,  loss1 --0.8852556943893433\n",
            "iter870: loss -- 1.7886183261871338,  loss0 --0.9512924551963806,  loss1 --0.837325930595398\n",
            "iter880: loss -- 1.769559621810913,  loss0 --0.9355301260948181,  loss1 --0.8340295553207397\n",
            "iter890: loss -- 1.773879051208496,  loss0 --0.9258982539176941,  loss1 --0.847980797290802\n",
            "iter900: loss -- 1.806201457977295,  loss0 --0.9659149646759033,  loss1 --0.8402864336967468\n",
            "iter910: loss -- 1.7599470615386963,  loss0 --0.9424396753311157,  loss1 --0.8175073862075806\n",
            "iter920: loss -- 1.802258849143982,  loss0 --0.9628486633300781,  loss1 --0.8394101858139038\n",
            "iter930: loss -- 1.7541894912719727,  loss0 --0.9317331910133362,  loss1 --0.8224562406539917\n",
            "iter940: loss -- 1.777565598487854,  loss0 --0.9357613325119019,  loss1 --0.8418042659759521\n",
            "iter950: loss -- 1.7327793836593628,  loss0 --0.9031957983970642,  loss1 --0.8295835852622986\n",
            "iter960: loss -- 1.7242759466171265,  loss0 --0.9017221331596375,  loss1 --0.822553813457489\n",
            "iter970: loss -- 1.7298808097839355,  loss0 --0.9137138724327087,  loss1 --0.816166877746582\n",
            "iter980: loss -- 1.7185392379760742,  loss0 --0.9145585894584656,  loss1 --0.8039806485176086\n",
            "iter990: loss -- 1.7065582275390625,  loss0 --0.8987381458282471,  loss1 --0.8078200221061707\n",
            "iter1000: loss -- 1.7033491134643555,  loss0 --0.9282805323600769,  loss1 --0.7750685811042786\n",
            "iter1010: loss -- 1.666477918624878,  loss0 --0.892005980014801,  loss1 --0.7744718790054321\n",
            "iter1020: loss -- 1.6992683410644531,  loss0 --0.8920713067054749,  loss1 --0.8071970343589783\n",
            "iter1030: loss -- 1.670081377029419,  loss0 --0.880728006362915,  loss1 --0.7893533706665039\n",
            "iter1040: loss -- 1.6583060026168823,  loss0 --0.8893302083015442,  loss1 --0.7689757943153381\n",
            "iter1050: loss -- 1.6631312370300293,  loss0 --0.8842289447784424,  loss1 --0.7789023518562317\n",
            "iter1060: loss -- 1.6689528226852417,  loss0 --0.8944042921066284,  loss1 --0.7745485305786133\n",
            "iter1070: loss -- 1.676393985748291,  loss0 --0.8714410662651062,  loss1 --0.8049529790878296\n",
            "iter1080: loss -- 1.6228680610656738,  loss0 --0.8661987781524658,  loss1 --0.7566693425178528\n",
            "iter1090: loss -- 1.6183199882507324,  loss0 --0.8545826077461243,  loss1 --0.7637373208999634\n",
            "iter1100: loss -- 1.666649341583252,  loss0 --0.8816659450531006,  loss1 --0.7849833369255066\n",
            "iter1110: loss -- 1.6727850437164307,  loss0 --0.9138262867927551,  loss1 --0.7589587569236755\n",
            "iter1120: loss -- 1.641313076019287,  loss0 --0.8659846186637878,  loss1 --0.7753284573554993\n",
            "iter1130: loss -- 1.6461968421936035,  loss0 --0.867733359336853,  loss1 --0.7784634232521057\n",
            "iter1140: loss -- 1.6182305812835693,  loss0 --0.846108615398407,  loss1 --0.7721219658851624\n",
            "iter1150: loss -- 1.6217446327209473,  loss0 --0.8637859225273132,  loss1 --0.757958710193634\n",
            "iter1160: loss -- 1.5999820232391357,  loss0 --0.8378170132637024,  loss1 --0.7621650695800781\n",
            "iter1170: loss -- 1.5846011638641357,  loss0 --0.8372180461883545,  loss1 --0.747383177280426\n",
            "iter1180: loss -- 1.6008069515228271,  loss0 --0.8305726051330566,  loss1 --0.7702343463897705\n",
            "iter1190: loss -- 1.6096277236938477,  loss0 --0.8497889041900635,  loss1 --0.7598387598991394\n",
            "iter1200: loss -- 1.5683411359786987,  loss0 --0.8410892486572266,  loss1 --0.7272518873214722\n",
            "iter1210: loss -- 1.589277982711792,  loss0 --0.8488239049911499,  loss1 --0.7404540777206421\n",
            "iter1220: loss -- 1.5874788761138916,  loss0 --0.8499141931533813,  loss1 --0.7375646829605103\n",
            "iter1230: loss -- 1.5887796878814697,  loss0 --0.8360902667045593,  loss1 --0.7526894807815552\n",
            "iter1240: loss -- 1.6021702289581299,  loss0 --0.8469831943511963,  loss1 --0.7551869750022888\n",
            "iter1250: loss -- 1.6049859523773193,  loss0 --0.8574221134185791,  loss1 --0.7475638389587402\n",
            "iter1260: loss -- 1.6274974346160889,  loss0 --0.8629708290100098,  loss1 --0.7645266056060791\n",
            "iter1270: loss -- 1.595149278640747,  loss0 --0.8305155038833618,  loss1 --0.7646337747573853\n",
            "iter1280: loss -- 1.5971508026123047,  loss0 --0.8328576683998108,  loss1 --0.7642931938171387\n",
            "iter1290: loss -- 1.5879664421081543,  loss0 --0.8429766893386841,  loss1 --0.744989812374115\n",
            "iter1300: loss -- 1.5797170400619507,  loss0 --0.8623371720314026,  loss1 --0.7173798680305481\n",
            "iter1310: loss -- 1.5800793170928955,  loss0 --0.8425984382629395,  loss1 --0.737480878829956\n",
            "iter1320: loss -- 1.5789546966552734,  loss0 --0.8137665390968323,  loss1 --0.7651882171630859\n",
            "iter1330: loss -- 1.5589184761047363,  loss0 --0.8338718414306641,  loss1 --0.725046694278717\n",
            "iter1340: loss -- 1.5551583766937256,  loss0 --0.821807324886322,  loss1 --0.7333511114120483\n",
            "iter1350: loss -- 1.5929291248321533,  loss0 --0.850555956363678,  loss1 --0.7423731088638306\n",
            "iter1360: loss -- 1.5229880809783936,  loss0 --0.810330867767334,  loss1 --0.7126571536064148\n",
            "iter1370: loss -- 1.550902247428894,  loss0 --0.8260750770568848,  loss1 --0.7248271703720093\n",
            "iter1380: loss -- 1.5559347867965698,  loss0 --0.8272234201431274,  loss1 --0.7287113666534424\n",
            "iter1390: loss -- 1.5547828674316406,  loss0 --0.8246188759803772,  loss1 --0.7301639318466187\n",
            "iter1400: loss -- 1.5355443954467773,  loss0 --0.8288770318031311,  loss1 --0.706667423248291\n",
            "iter1410: loss -- 1.5223444700241089,  loss0 --0.8033162355422974,  loss1 --0.7190282344818115\n",
            "iter1420: loss -- 1.5333268642425537,  loss0 --0.7998948097229004,  loss1 --0.7334321141242981\n",
            "iter1430: loss -- 1.5199103355407715,  loss0 --0.8075302839279175,  loss1 --0.712380051612854\n",
            "iter1440: loss -- 1.5654473304748535,  loss0 --0.8373188972473145,  loss1 --0.7281284928321838\n",
            "iter1450: loss -- 1.5367770195007324,  loss0 --0.8287855982780457,  loss1 --0.7079914212226868\n",
            "iter1460: loss -- 1.5529464483261108,  loss0 --0.8132637143135071,  loss1 --0.7396827340126038\n",
            "iter1470: loss -- 1.5201245546340942,  loss0 --0.808112621307373,  loss1 --0.7120119333267212\n",
            "iter1480: loss -- 1.5260202884674072,  loss0 --0.8067943453788757,  loss1 --0.7192260026931763\n",
            "iter1490: loss -- 1.5256407260894775,  loss0 --0.8217583298683167,  loss1 --0.7038824558258057\n"
          ],
          "name": "stdout"
        }
      ]
    },
    {
      "cell_type": "markdown",
      "metadata": {
        "id": "x3c7H-kRMHUs",
        "colab_type": "text"
      },
      "source": [
        "#**[3] 表情の変換** \n",
        "(Yang, C., Lim, S.-N., & Ai, F. (n.d.). Unconstrained Facial Expression Transfer using Style-based Generator)<br>\n",
        "save_image/exchange/以下に生成画像"
      ]
    },
    {
      "cell_type": "code",
      "metadata": {
        "id": "uhtW2dkoLtTe",
        "colab_type": "code",
        "colab": {}
      },
      "source": [
        "!mkdir save_image/exchange\n",
        "!mkdir save_image/exchange/a\n",
        "!mkdir save_image/exchange/e\n",
        "!mkdir save_image/exchange/result1\n",
        "!mkdir save_image/exchange/result2"
      ],
      "execution_count": 0,
      "outputs": []
    },
    {
      "cell_type": "code",
      "metadata": {
        "id": "CDqb6ollLtVr",
        "colab_type": "code",
        "colab": {}
      },
      "source": [
        "!python facial_exchange.py --src_im1  source_image/sample.png --src_im2  source_image/0.png  --iteration 200"
      ],
      "execution_count": 0,
      "outputs": []
    },
    {
      "cell_type": "markdown",
      "metadata": {
        "id": "NE1BajdYMqqu",
        "colab_type": "text"
      },
      "source": [
        "#**[4] 顔属性のmorphing**\n",
        "(Shen, Y., Gu, J., Tang, X., & Zhou, B. (2019).Interpreting the Latent Space of GANs for Semantic Face Editing)<br>\n",
        "save_image/boundary/以下に生成画像\n",
        "\n"
      ]
    },
    {
      "cell_type": "code",
      "metadata": {
        "id": "IjB0hoAsLtaC",
        "colab_type": "code",
        "colab": {}
      },
      "source": [
        "!mkdir save_image/boundary"
      ],
      "execution_count": 0,
      "outputs": []
    },
    {
      "cell_type": "code",
      "metadata": {
        "id": "X4nGys2qLtcV",
        "colab_type": "code",
        "colab": {}
      },
      "source": [
        "!python semantic_edit.py --latent_file  latent_W/0.npy"
      ],
      "execution_count": 0,
      "outputs": []
    },
    {
      "cell_type": "markdown",
      "metadata": {
        "id": "cbCkO9AENLgy",
        "colab_type": "text"
      },
      "source": [
        "#**[5]自前で用意した画像で試したい方へ**"
      ]
    },
    {
      "cell_type": "code",
      "metadata": {
        "id": "PApau_U1NKut",
        "colab_type": "code",
        "colab": {}
      },
      "source": [
        "!mkdir img\n",
        "!mkdir al_img"
      ],
      "execution_count": 0,
      "outputs": []
    },
    {
      "cell_type": "markdown",
      "metadata": {
        "id": "7mCY33DUNfgd",
        "colab_type": "text"
      },
      "source": [
        "入力画像を1024×1024にリサイズしかつalignする必要があります\n"
      ]
    },
    {
      "cell_type": "code",
      "metadata": {
        "id": "2uajobWKLteT",
        "colab_type": "code",
        "colab": {}
      },
      "source": [
        "#以下のセルでdlibを用いてそれを実行します。 imgディレクトリに用意した画像を置きコードを実行するとal_img内にalignされた画像が置かれます。後はsource_imageディレクトリに移して各セルの引数を変更してください\n",
        "!python align_images.py img/ al_img/"
      ],
      "execution_count": 0,
      "outputs": []
    },
    {
      "cell_type": "code",
      "metadata": {
        "id": "iNthbd_hLAKc",
        "colab_type": "code",
        "colab": {}
      },
      "source": [
        ""
      ],
      "execution_count": 0,
      "outputs": []
    }
  ]
}