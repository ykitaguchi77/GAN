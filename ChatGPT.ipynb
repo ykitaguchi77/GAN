{
  "nbformat": 4,
  "nbformat_minor": 0,
  "metadata": {
    "colab": {
      "provenance": [],
      "authorship_tag": "ABX9TyNDnW2+emWiKJOB1nUJ2K+L",
      "include_colab_link": true
    },
    "kernelspec": {
      "name": "python3",
      "display_name": "Python 3"
    },
    "language_info": {
      "name": "python"
    }
  },
  "cells": [
    {
      "cell_type": "markdown",
      "metadata": {
        "id": "view-in-github",
        "colab_type": "text"
      },
      "source": [
        "<a href=\"https://colab.research.google.com/github/ykitaguchi77/GAN/blob/master/ChatGPT.ipynb\" target=\"_parent\"><img src=\"https://colab.research.google.com/assets/colab-badge.svg\" alt=\"Open In Colab\"/></a>"
      ]
    },
    {
      "cell_type": "code",
      "source": [
        "from google.colab import drive\n",
        "drive.mount(\"/content/drive\")\n",
        "\n",
        "!pip install openai --q\n",
        "!pip install --upgrade deepl --q\n",
        "import openai\n",
        "import deepl\n",
        "import textwrap\n",
        "import pandas as pd\n",
        "\n",
        "with open(\"/content/drive/MyDrive/Deep_learning/api.txt\") as file:\n",
        "    #text = file.read()\n",
        "    i=1\n",
        "    key = []\n",
        "    while True:\n",
        "        include_break_line = file.readline() #改行が含まれた行\n",
        "        line = include_break_line.rstrip() #改行を取り除く\n",
        "        if line: #keyの読み込み\n",
        "            #print(f'{i}行目：{line}')\n",
        "            key.append(line)\n",
        "            i += 1\n",
        "        else:\n",
        "            break\n",
        "\n",
        "# APIキーの準備\n",
        "#ngrok_aceess_token = key[5]\n",
        "openai.api_key = key[3]\n",
        "deepl_auth_key = key[1]\n",
        "\n",
        "translator = deepl.Translator(deepl_auth_key)\n"
      ],
      "metadata": {
        "colab": {
          "base_uri": "https://localhost:8080/"
        },
        "id": "RTce3wIiMyNe",
        "outputId": "8c1ad44d-ff04-47bf-a04b-7d1d0a9b1e72"
      },
      "execution_count": 97,
      "outputs": [
        {
          "output_type": "stream",
          "name": "stdout",
          "text": [
            "Drive already mounted at /content/drive; to attempt to forcibly remount, call drive.mount(\"/content/drive\", force_remount=True).\n"
          ]
        }
      ]
    },
    {
      "cell_type": "code",
      "source": [
        "#@title #**ChatGPT configulation**\n",
        "question_translate_English= True #@param {type:\"boolean\"}\n",
        "answer_Japanese= False #@param {type:\"boolean\"}\n",
        "reset= True #@param {type:\"boolean\"}\n",
        "show_all = True #@param {type:\"boolean\"}\n",
        "arrangement = True #@param {type:\"boolean\"}\n",
        "\n",
        "\n",
        "\n",
        "if \"text_input\" not in globals():\n",
        "    text_input = []\n",
        "if reset == True:\n",
        "    text_input = []\n",
        "\n",
        "\n",
        "def wrap(sentence):\n",
        "    wrap_list =  textwrap.wrap(sentence, 120)\n",
        "    output = '\\n'.join(wrap_list)\n",
        "    return(output)\n",
        "\n",
        "\n",
        "def interference(question):\n",
        "    question = question.replace('\\n', '') #前後の空白と改行を削除\n",
        "\n",
        "    if question_translate_English == True:\n",
        "        question_translated = translator.translate_text(question, target_lang=\"EN-US\").text\n",
        "        question = question_translated\n",
        "    else:\n",
        "        question = question\n",
        "\n",
        "    prompt = \"Q:\" + question +\"\\nA:\"\n",
        "\n",
        "    text_input.append(question+\"\\nA:\")\n",
        "\n",
        "    prompt =  \",\".join(map(str, text_input)) # aaa,bbb,100,200,300 \n",
        "\n",
        "    response = openai.Completion.create(\n",
        "      model=\"text-davinci-003\",\n",
        "      prompt=prompt,\n",
        "      temperature=0.5,\n",
        "      max_tokens= 1024,\n",
        "      #top_p=1,\n",
        "      frequency_penalty=0.0,\n",
        "      presence_penalty=0.0,\n",
        "      stop=None)\n",
        "\n",
        "    answer = response['choices'][0]['text']\n",
        "    text_input.append(answer)\n",
        "\n",
        "    if answer_Japanese == True:\n",
        "        answer = translator.translate_text(response['choices'][0]['text'], target_lang=\"JA\").text\n",
        "    else:\n",
        "        answer = answer\n",
        "\n",
        "    output(text_input, show_all=show_all, arrangement=arrangement)\n",
        "    # print(f\"{prompt}\")\n",
        "    # print(f\"{wrap(answer)} \\n\")\n",
        "    #print(text_input)\n",
        "\n",
        "\n",
        "def output(text_input, show_all = True, arrangement = False):\n",
        "    if arrangement == True:\n",
        "        if show_all == False:\n",
        "            print(f\"Q: {wrap(text_input[-2]).rstrip('A:')} \\n\")\n",
        "            print(f\"A: {wrap(text_input[-1])} \\n\")\n",
        "\n",
        "        elif show_all == True:\n",
        "            for i, text in enumerate(text_input):\n",
        "                if i % 2 == 0:\n",
        "                    print(f\"Q: {wrap(text).rstrip('A:')} \\n\")\n",
        "                else:\n",
        "                    print(f\"A: {wrap(text)} \\n\")\n",
        "\n",
        "    elif arrangement == False:\n",
        "        if show_all == False:\n",
        "            print(f\"Q: {text_input[-2].rstrip('A:')} \\n\")\n",
        "            print(f\"{text_input[-1]} \\n\")\n",
        "\n",
        "        elif show_all == True:\n",
        "            for i, text in enumerate(text_input):\n",
        "                if i % 2 == 0:\n",
        "                    print(f\"Q: {text.rstrip('A:')} \\n\")\n",
        "                else:\n",
        "                    print(f\"{text} \\n\")\n",
        "\n",
        "\n"
      ],
      "metadata": {
        "id": "Y8-pjNNBgII9"
      },
      "execution_count": 98,
      "outputs": []
    },
    {
      "cell_type": "code",
      "source": [
        "#@title #**Question & Answer list**\n",
        "\n",
        "Leave_first = 2 #@param {type:\"slider\", min:0, max:10, step:2}\n",
        "\n",
        "Leave_last = 0 #@param {type:\"slider\", min:0, max:10, step:2}\n",
        "\n",
        "tmp = []\n",
        "\n",
        "if Leave_first == 0:\n",
        "    pass\n",
        "else:\n",
        "    tmp.extend(text_input[0:Leave_first])\n",
        "\n",
        "if Leave_last == 0:\n",
        "    pass\n",
        "else:\n",
        "    tmp.extend(text_input[-1*Leave_last:])\n",
        "\n",
        "text_input = tmp\n",
        "output(text_input)\n"
      ],
      "metadata": {
        "id": "NQtBuJHu5cNJ",
        "cellView": "form"
      },
      "execution_count": null,
      "outputs": []
    },
    {
      "cell_type": "code",
      "source": [
        "Delete_last_two= True #@param {type:\"boolean\"}\n",
        "if Delete_last_two == True:\n",
        "    text_input = text_input[:-2]\n",
        "\n",
        "output(text_input)"
      ],
      "metadata": {
        "id": "9CcUQoWY23gg",
        "outputId": "bf22d57d-b20b-472b-963d-ef43297e9357",
        "colab": {
          "base_uri": "https://localhost:8080/"
        },
        "cellView": "form"
      },
      "execution_count": 95,
      "outputs": [
        {
          "output_type": "stream",
          "name": "stdout",
          "text": [
            "Q: 次の文を、誤解のないように言い換えて下さい A challenge in diagnostic AI to assist physicians is the possibility that the cost of development may not match the expected benefits.\n",
            " \n",
            "\n",
            " The potential challenge of developing diagnostic AI to assist physicians is that the cost may not be commensurate with the anticipated rewards. \n",
            "\n"
          ]
        }
      ]
    },
    {
      "cell_type": "markdown",
      "source": [
        "#**Interference**"
      ],
      "metadata": {
        "id": "zXnkitKAfcDs"
      }
    },
    {
      "cell_type": "code",
      "source": [
        "question = '''\n",
        "\n",
        "次の文を、単語を使って言い換えて下さい。かつ誤解のないようにして下さい\n",
        "The potential challenge of developing diagnostic AI to assist physicians is that the cost may not be commensurate with\n",
        "the anticipated rewards. \n",
        "\n",
        "'''\n",
        "interference(question)"
      ],
      "metadata": {
        "id": "JXm2qK5CeBhn",
        "outputId": "261ab070-2c15-46d6-b0c2-14d452a80b8b",
        "colab": {
          "base_uri": "https://localhost:8080/"
        }
      },
      "execution_count": 96,
      "outputs": [
        {
          "output_type": "stream",
          "name": "stdout",
          "text": [
            "Q: 次の文を、誤解のないように言い換えて下さい A challenge in diagnostic AI to assist physicians is the possibility that the cost of development\n",
            "may not match the expected benefits.  \n",
            "\n",
            "A:  The potential challenge of developing diagnostic AI to assist physicians is that the cost may not be commensurate with\n",
            "the anticipated rewards. \n",
            "\n",
            "Q: Paraphrase the following sentence using the words: The potential challenge of developing diagnostic AI to assist\n",
            "physicians is that the cost may not be commensurate withthe anticipated cost. The potential challenge of developing\n",
            "diagnostic AI to assist physicians is that the cost may not be commensurate withthe anticipated rewards.  \n",
            "\n",
            "A: The potential challenge of developing diagnostic AI to assist physicians is that the cost may not be proportional to the\n",
            "expected benefits. \n",
            "\n"
          ]
        }
      ]
    },
    {
      "cell_type": "code",
      "source": [
        "output(text_input, show_all = True, arrangement = False)"
      ],
      "metadata": {
        "colab": {
          "base_uri": "https://localhost:8080/"
        },
        "id": "hqLWGG0E4Prj",
        "outputId": "34bb8a52-6e91-4712-9aa1-d7b42e400099"
      },
      "execution_count": null,
      "outputs": [
        {
          "output_type": "stream",
          "name": "stdout",
          "text": [
            "Q: I need you to act as a research assistant for a scientific article I am writing. I will provide you with specific questions and information, and I expect you to find relevant and credible sources to support my research. Your responses should include a summary of the main points from the sources, along with the full citation in the desired format (APA, MLA, etc.). Additionally, you should flag any potential issues or limitations in the sources you provide. The title of the article is: Real-time smartphone identification of corneal diseases displayed on computer screen using embedded deep-learning model. Please show me the bullets which I need to contain in the introduction. The number of bullets should be 4 to 6.\n",
            " \n",
            "\n",
            " \n",
            "• Introduction to corneal diseases and their diagnosis \n",
            "• Overview of existing corneal disease diagnosis methods \n",
            "• Description of deep learning models for diagnosis of corneal diseases\n",
            "• Advantages of using real-time smartphone identification of corneal diseases\n",
            "• Limitations of existing corneal disease diagnosis methods \n",
            "• Overview of the proposed embedded deep-learning model for real-time smartphone identification of corneal diseases \n",
            "\n",
            "Q: 以下の文章を、角膜疾患の診断に関する内容に書き換えて下さい。'Skin diseases are considered as major public health problems. Early diagnosis of skin diseases is crucial for patients to get the treatment on time. However, several factors make difficult to access medical care. For instance, physical disability, physiological problems, old age, distance, limited medical expertise in rural areas, climate conditions and employment. Also, long diagnosing time and high cost can discourage people from receiving dermatological care.The increasing availability and easy to use of smartphone applications has allowed significant growth of smartphones. Various smartphone applications have been introduced in different areas of medicine. They are becoming important particularly in dermatology since dermatological diseases are usually visible by human eyes and diagnosis is mainly based on visual screening of the lesions and pattern recognition. Therefore, patients can have active roles in their health-management using these applications. However, is it possible to diagnose skin diseases automatically with the advancements in mobile technologies and deep learning-based methodologies? To answer this question, in this paper, recent smartphone applications have been reviewed.'\n",
            " \n",
            "\n",
            "\n",
            "Corneal diseases are considered as major public health problems. Early diagnosis of corneal diseases is crucial for patients to get the treatment on time. However, several factors make difficult to access medical care. For instance, physical disability, physiological problems, old age, distance, limited medical expertise in rural areas, climate conditions and employment. Also, long diagnosing time and high cost can discourage people from receiving ophthalmological care.The increasing availability and easy to use of smartphone applications has allowed significant growth of smartphones. Various smartphone applications have been introduced in different areas of ophthalmology. They are becoming important particularly in corneal diseases diagnosis since corneal diseases are usually visible by human eyes and diagnosis is mainly based on visual screening of the lesions and pattern recognition. Therefore, patients can have active roles in their health-management using these applications. However, is it possible to diagnose corneal diseases automatically with the advancements in mobile technologies and deep learning-based methodologies? To answer this question, in this paper, recent smartphone applications have been reviewed for real-time smartphone identification of corneal diseases displayed on computer screen using embedded deep-learning model. \n",
            "\n",
            "Q: 以下の内容の詳細について、4-8文で示して下さい。'Corneal diseases are considered as major public health problems. Early diagnosis of corneal diseases is crucial forpatients to get the treatment on time. 'Use a format appropriate for a medical paper, so that it is not obvious that the text was written by an AI.\n",
            " \n",
            "\n",
            " Corneal diseases are a major public health concern, and early diagnosis is essential for successful treatment. Delayed diagnosis can lead to severe complications, including vision loss and even blindness. Factors such as physical disability, physiological problems, old age, distance, limited medical expertise in rural areas, climate conditions, and employment can make access to medical care difficult. Additionally, long diagnosing times and high costs can discourage people from receiving ophthalmological care. Therefore, it is important to develop new methods for the early and accurate diagnosis of corneal diseases. \n",
            "\n"
          ]
        }
      ]
    },
    {
      "cell_type": "markdown",
      "source": [
        "# **Save and load data**"
      ],
      "metadata": {
        "id": "hckwkeNG_GNd"
      }
    },
    {
      "cell_type": "code",
      "source": [
        "save_dir = \"/content/drive/MyDrive/Deep_learning/chatGPT\"\n",
        "file_name = \"corneAI\"\n",
        "\n",
        "\n",
        "# save_data\n",
        "import pickle\n",
        "f = open(f'{save_dir}/{file_name}.txt', 'wb')\n",
        "list_row = text_input\n",
        "pickle.dump(list_row, f)"
      ],
      "metadata": {
        "id": "uRuUkac-7wZ6"
      },
      "execution_count": null,
      "outputs": []
    },
    {
      "cell_type": "code",
      "source": [
        "# load data\n",
        "f = open(f'{save_dir}/{file_name}.txt', 'rb')\n",
        "text_input = pickle.load(f)"
      ],
      "metadata": {
        "id": "ddfBk0bM-bqN"
      },
      "execution_count": null,
      "outputs": []
    },
    {
      "cell_type": "code",
      "source": [],
      "metadata": {
        "id": "RFY43eo7-28P"
      },
      "execution_count": null,
      "outputs": []
    }
  ]
}