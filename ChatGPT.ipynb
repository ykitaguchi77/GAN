{
  "nbformat": 4,
  "nbformat_minor": 0,
  "metadata": {
    "colab": {
      "provenance": [],
      "authorship_tag": "ABX9TyN49jlLEecBOyI9w3dKnjBA",
      "include_colab_link": true
    },
    "kernelspec": {
      "name": "python3",
      "display_name": "Python 3"
    },
    "language_info": {
      "name": "python"
    }
  },
  "cells": [
    {
      "cell_type": "markdown",
      "metadata": {
        "id": "view-in-github",
        "colab_type": "text"
      },
      "source": [
        "<a href=\"https://colab.research.google.com/github/ykitaguchi77/GAN/blob/master/ChatGPT.ipynb\" target=\"_parent\"><img src=\"https://colab.research.google.com/assets/colab-badge.svg\" alt=\"Open In Colab\"/></a>"
      ]
    },
    {
      "cell_type": "code",
      "source": [
        "from google.colab import drive\n",
        "drive.mount(\"/content/drive\")\n",
        "\n",
        "!pip install openai --q\n",
        "!pip install --upgrade deepl --q\n",
        "import openai\n",
        "import deepl\n",
        "import textwrap\n",
        "import pandas as pd\n",
        "\n",
        "with open(\"/content/drive/MyDrive/Deep_learning/api.txt\") as file:\n",
        "    #text = file.read()\n",
        "    i=1\n",
        "    key = []\n",
        "    while True:\n",
        "        include_break_line = file.readline() #改行が含まれた行\n",
        "        line = include_break_line.rstrip() #改行を取り除く\n",
        "        if line: #keyの読み込み\n",
        "            #print(f'{i}行目：{line}')\n",
        "            key.append(line)\n",
        "            i += 1\n",
        "        else:\n",
        "            break\n",
        "\n",
        "# APIキーの準備\n",
        "#ngrok_aceess_token = key[5]\n",
        "openai.api_key = key[3]\n",
        "deepl_auth_key = key[1]\n",
        "\n",
        "translator = deepl.Translator(deepl_auth_key)\n"
      ],
      "metadata": {
        "colab": {
          "base_uri": "https://localhost:8080/"
        },
        "id": "RTce3wIiMyNe",
        "outputId": "a509fa92-e01f-4b58-d7fe-0b4148e52f16"
      },
      "execution_count": 2,
      "outputs": [
        {
          "output_type": "stream",
          "name": "stdout",
          "text": [
            "Mounted at /content/drive\n",
            "\u001b[2K     \u001b[90m━━━━━━━━━━━━━━━━━━━━━━━━━━━━━━━━━━━━━━━━\u001b[0m \u001b[32m55.3/55.3 KB\u001b[0m \u001b[31m3.2 MB/s\u001b[0m eta \u001b[36m0:00:00\u001b[0m\n",
            "\u001b[?25h  Installing build dependencies ... \u001b[?25l\u001b[?25hdone\n",
            "  Getting requirements to build wheel ... \u001b[?25l\u001b[?25hdone\n",
            "  Preparing metadata (pyproject.toml) ... \u001b[?25l\u001b[?25hdone\n",
            "  Building wheel for openai (pyproject.toml) ... \u001b[?25l\u001b[?25hdone\n"
          ]
        }
      ]
    },
    {
      "cell_type": "code",
      "source": [
        "#@title #**ChatGPT configulation**\n",
        "question_translate_English= True #@param {type:\"boolean\"}\n",
        "answer_Japanese= False #@param {type:\"boolean\"}\n",
        "reset= True #@param {type:\"boolean\"}\n",
        "show_all = True #@param {type:\"boolean\"}\n",
        "arrangement = True #@param {type:\"boolean\"}\n",
        "\n",
        "\n",
        "\n",
        "if \"text_input\" not in globals():\n",
        "    text_input = []\n",
        "if reset == True:\n",
        "    text_input = []\n",
        "\n",
        "\n",
        "def wrap(sentence):\n",
        "    wrap_list =  textwrap.wrap(sentence, 120)\n",
        "    output = '\\n'.join(wrap_list)\n",
        "    return(output)\n",
        "\n",
        "\n",
        "def interference(question):\n",
        "    question = question.replace('\\n', '') #前後の空白と改行を削除\n",
        "\n",
        "    if question_translate_English == True:\n",
        "        question_translated = translator.translate_text(question, target_lang=\"EN-US\").text\n",
        "        question = question_translated\n",
        "    else:\n",
        "        question = question\n",
        "\n",
        "    prompt = \"Q:\" + question +\"\\nA:\"\n",
        "\n",
        "    text_input.append(question+\"\\nA:\")\n",
        "\n",
        "    prompt =  \",\".join(map(str, text_input)) # aaa,bbb,100,200,300 \n",
        "\n",
        "    response = openai.Completion.create(\n",
        "      model=\"text-davinci-003\",\n",
        "      prompt=prompt,\n",
        "      temperature=0.5,\n",
        "      max_tokens= 1024,\n",
        "      #top_p=1,\n",
        "      frequency_penalty=0.0,\n",
        "      presence_penalty=0.0,\n",
        "      stop=None)\n",
        "\n",
        "    answer = response['choices'][0]['text']\n",
        "    text_input.append(answer)\n",
        "\n",
        "    if answer_Japanese == True:\n",
        "        answer = translator.translate_text(response['choices'][0]['text'], target_lang=\"JA\").text\n",
        "    else:\n",
        "        answer = answer\n",
        "\n",
        "    output(text_input, show_all=show_all, arrangement=arrangement)\n",
        "    # print(f\"{prompt}\")\n",
        "    # print(f\"{wrap(answer)} \\n\")\n",
        "    #print(text_input)\n",
        "\n",
        "\n",
        "def output(text_input, show_all = True, arrangement = False):\n",
        "    if arrangement == True:\n",
        "        if show_all == False:\n",
        "            print(f\"Q: {wrap(text_input[-2]).rstrip('A:')} \\n\")\n",
        "            print(f\"A: {wrap(text_input[-1])} \\n\")\n",
        "\n",
        "        elif show_all == True:\n",
        "            for i, text in enumerate(text_input):\n",
        "                if i % 2 == 0:\n",
        "                    print(f\"Q: {wrap(text).rstrip('A:')} \\n\")\n",
        "                else:\n",
        "                    print(f\"A: {wrap(text)} \\n\")\n",
        "\n",
        "    elif arrangement == False:\n",
        "        if show_all == False:\n",
        "            print(f\"Q: {text_input[-2].rstrip('A:')} \\n\")\n",
        "            print(f\"{text_input[-1]} \\n\")\n",
        "\n",
        "        elif show_all == True:\n",
        "            for i, text in enumerate(text_input):\n",
        "                if i % 2 == 0:\n",
        "                    print(f\"Q: {text.rstrip('A:')} \\n\")\n",
        "                else:\n",
        "                    print(f\"{text} \\n\")\n",
        "\n",
        "\n"
      ],
      "metadata": {
        "id": "Y8-pjNNBgII9"
      },
      "execution_count": 40,
      "outputs": []
    },
    {
      "cell_type": "code",
      "source": [
        "#@title #**Question & Answer list**\n",
        "Leave_first_2= False #@param {type:\"boolean\"}\n",
        "Leave_last_2 = False #@param {type:\"boolean\"}\n",
        "Leave_last_4 = False #@param {type:\"boolean\"}\n",
        "Leave_last_6 = False #@param {type:\"boolean\"}\n",
        "\n",
        "tmp = []\n",
        "\n",
        "if Leave_first_2 == True:\n",
        "    tmp = [i for i in text_input[0:2]]    \n",
        "\n",
        "if Leave_last_6 == True:\n",
        "    tmp.extend([i for i in text_input[-6:]])\n",
        "elif Leave_last_4 == True:\n",
        "    tmp.extend([i for i in text_input[-4:]])\n",
        "elif Leave_last_2 == True:\n",
        "    tmp.extend([i for i in text_input[-2:]])\n",
        "\n",
        "text_input = [text_input[i] for i in tmp]\n",
        "\n",
        "print(text_input)"
      ],
      "metadata": {
        "id": "wAtnR76ZyFW5"
      },
      "execution_count": null,
      "outputs": []
    },
    {
      "cell_type": "code",
      "source": [
        "#@title #**Question & Answer list**\n",
        "\n",
        "Leave_first = 2 #@param {type:\"slider\", min:0, max:10, step:2}\n",
        "\n",
        "Leave_last = 0 #@param {type:\"slider\", min:0, max:10, step:2}\n",
        "\n",
        "tmp = []\n",
        "\n",
        "if Leave_first == 0:\n",
        "    pass\n",
        "else:\n",
        "    tmp.extend(text_input[0:Leave_first])\n",
        "\n",
        "if Leave_last == 0:\n",
        "    pass\n",
        "else:\n",
        "    tmp.extend(text_input[-1*Leave_last:])\n",
        "\n",
        "text_input = tmp\n",
        "output(text_input)\n"
      ],
      "metadata": {
        "id": "NQtBuJHu5cNJ",
        "outputId": "6e24eb2f-a81e-4c4c-f747-eaa9af30c824",
        "colab": {
          "base_uri": "https://localhost:8080/"
        }
      },
      "execution_count": 72,
      "outputs": [
        {
          "output_type": "stream",
          "name": "stdout",
          "text": [
            "Q: I need you to act as a research assistant for a scientific article I am writing. I will provide you with specific questions and information, and I expect you to find relevant and credible sources to support my research. Your responses should include a summary of the main points from the sources, along with the full citation in the desired format (APA, MLA, etc.). Additionally, you should flag any potential issues or limitations in the sources you provide. The title of the article is: Real-time smartphone identification of corneal diseases displayed on computer screen using embedded deep-learning model. Please show me the bullets which I need to contain in the introduction. The number of bullets should be 4 to 6.\n",
            " \n",
            "\n",
            " \n",
            "• Introduction to corneal diseases and their diagnosis \n",
            "• Overview of existing corneal disease diagnosis methods \n",
            "• Description of deep learning models for diagnosis of corneal diseases\n",
            "• Advantages of using real-time smartphone identification of corneal diseases\n",
            "• Limitations of existing corneal disease diagnosis methods \n",
            "• Overview of the proposed embedded deep-learning model for real-time smartphone identification of corneal diseases \n",
            "\n"
          ]
        }
      ]
    },
    {
      "cell_type": "code",
      "source": [
        "Delete_last_two= True #@param {type:\"boolean\"}\n",
        "if Delete_last_two == True:\n",
        "    text_input = text_input[:-2]\n",
        "\n",
        "output(text_input)"
      ],
      "metadata": {
        "id": "9CcUQoWY23gg",
        "outputId": "41f8c17f-c24b-4bc9-9096-8aa1c2cd130d",
        "colab": {
          "base_uri": "https://localhost:8080/"
        }
      },
      "execution_count": 66,
      "outputs": [
        {
          "output_type": "stream",
          "name": "stdout",
          "text": [
            "Q: I need you to act as a research assistant for a scientific article I am writing. I will provide you with specific questions and information, and I expect you to find relevant and credible sources to support my research. Your responses should include a summary of the main points from the sources, along with the full citation in the desired format (APA, MLA, etc.). Additionally, you should flag any potential issues or limitations in the sources you provide. The title of the article is: Real-time smartphone identification of corneal diseases displayed on computer screen using embedded deep-learning model. Please show me the bullets which I need to contain in the introduction. The number of bullets should be 4 to 6.\n",
            " \n",
            "\n",
            " \n",
            "• Introduction to corneal diseases and their diagnosis \n",
            "• Overview of existing corneal disease diagnosis methods \n",
            "• Description of deep learning models for diagnosis of corneal diseases\n",
            "• Advantages of using real-time smartphone identification of corneal diseases\n",
            "• Limitations of existing corneal disease diagnosis methods \n",
            "• Overview of the proposed embedded deep-learning model for real-time smartphone identification of corneal diseases \n",
            "\n",
            "Q: I would like to write an introduction according to the following bullet:• Introduction to corneal diseases and their diagnosis • Overview of existing corneal disease diagnosis methods and limitation of these methods.  • Overview of disease diagnosis using deep learning and its advantages/limitations • Need for smartphone implementation of deep-learning models in medical applications • Overview of the proposed embedded deep-learning model for real-time smartphone identification of corneal diseases • Benefits of using the proposed model for diagnosis of corneal diseases • Potential challenges and limitations of the proposed model\n",
            " \n",
            "\n",
            " \n",
            "• Introduction to corneal diseases and their diagnosis \n",
            "• Overview of existing corneal disease diagnosis methods and limitations of these methods \n",
            "• Overview of disease diagnosis using deep learning and its advantages/limitations \n",
            "• Need for smartphone implementation of deep-learning models in medical applications \n",
            "• Overview of the proposed embedded deep-learning model for real-time smartphone identification of corneal diseases \n",
            "• Benefits of using the proposed model for diagnosis of corneal diseases \n",
            "• Potential challenges and limitations of the proposed model \n",
            "\n"
          ]
        }
      ]
    },
    {
      "cell_type": "markdown",
      "source": [
        "#**Interference**"
      ],
      "metadata": {
        "id": "zXnkitKAfcDs"
      }
    },
    {
      "cell_type": "code",
      "source": [
        "question = '''\n",
        "\n",
        "以下の内容の詳細について、4-8文で示して下さい。\n",
        "\n",
        "\n",
        "'Corneal diseases are considered as major public health problems. Early diagnosis of corneal diseases is crucial for\n",
        "patients to get the treatment on time. '\n",
        "\n",
        "Use a format appropriate for a medical paper, so that it is not obvious that the text was written by an AI.\n",
        "\n",
        "\n",
        "'''\n",
        "interference(question)"
      ],
      "metadata": {
        "id": "JXm2qK5CeBhn"
      },
      "execution_count": null,
      "outputs": []
    },
    {
      "cell_type": "code",
      "source": [
        "output(text_input, show_all = True, arrangement = False)"
      ],
      "metadata": {
        "colab": {
          "base_uri": "https://localhost:8080/"
        },
        "id": "hqLWGG0E4Prj",
        "outputId": "34bb8a52-6e91-4712-9aa1-d7b42e400099"
      },
      "execution_count": 75,
      "outputs": [
        {
          "output_type": "stream",
          "name": "stdout",
          "text": [
            "Q: I need you to act as a research assistant for a scientific article I am writing. I will provide you with specific questions and information, and I expect you to find relevant and credible sources to support my research. Your responses should include a summary of the main points from the sources, along with the full citation in the desired format (APA, MLA, etc.). Additionally, you should flag any potential issues or limitations in the sources you provide. The title of the article is: Real-time smartphone identification of corneal diseases displayed on computer screen using embedded deep-learning model. Please show me the bullets which I need to contain in the introduction. The number of bullets should be 4 to 6.\n",
            " \n",
            "\n",
            " \n",
            "• Introduction to corneal diseases and their diagnosis \n",
            "• Overview of existing corneal disease diagnosis methods \n",
            "• Description of deep learning models for diagnosis of corneal diseases\n",
            "• Advantages of using real-time smartphone identification of corneal diseases\n",
            "• Limitations of existing corneal disease diagnosis methods \n",
            "• Overview of the proposed embedded deep-learning model for real-time smartphone identification of corneal diseases \n",
            "\n",
            "Q: 以下の文章を、角膜疾患の診断に関する内容に書き換えて下さい。'Skin diseases are considered as major public health problems. Early diagnosis of skin diseases is crucial for patients to get the treatment on time. However, several factors make difficult to access medical care. For instance, physical disability, physiological problems, old age, distance, limited medical expertise in rural areas, climate conditions and employment. Also, long diagnosing time and high cost can discourage people from receiving dermatological care.The increasing availability and easy to use of smartphone applications has allowed significant growth of smartphones. Various smartphone applications have been introduced in different areas of medicine. They are becoming important particularly in dermatology since dermatological diseases are usually visible by human eyes and diagnosis is mainly based on visual screening of the lesions and pattern recognition. Therefore, patients can have active roles in their health-management using these applications. However, is it possible to diagnose skin diseases automatically with the advancements in mobile technologies and deep learning-based methodologies? To answer this question, in this paper, recent smartphone applications have been reviewed.'\n",
            " \n",
            "\n",
            "\n",
            "Corneal diseases are considered as major public health problems. Early diagnosis of corneal diseases is crucial for patients to get the treatment on time. However, several factors make difficult to access medical care. For instance, physical disability, physiological problems, old age, distance, limited medical expertise in rural areas, climate conditions and employment. Also, long diagnosing time and high cost can discourage people from receiving ophthalmological care.The increasing availability and easy to use of smartphone applications has allowed significant growth of smartphones. Various smartphone applications have been introduced in different areas of ophthalmology. They are becoming important particularly in corneal diseases diagnosis since corneal diseases are usually visible by human eyes and diagnosis is mainly based on visual screening of the lesions and pattern recognition. Therefore, patients can have active roles in their health-management using these applications. However, is it possible to diagnose corneal diseases automatically with the advancements in mobile technologies and deep learning-based methodologies? To answer this question, in this paper, recent smartphone applications have been reviewed for real-time smartphone identification of corneal diseases displayed on computer screen using embedded deep-learning model. \n",
            "\n",
            "Q: 以下の内容の詳細について、4-8文で示して下さい。'Corneal diseases are considered as major public health problems. Early diagnosis of corneal diseases is crucial forpatients to get the treatment on time. 'Use a format appropriate for a medical paper, so that it is not obvious that the text was written by an AI.\n",
            " \n",
            "\n",
            " Corneal diseases are a major public health concern, and early diagnosis is essential for successful treatment. Delayed diagnosis can lead to severe complications, including vision loss and even blindness. Factors such as physical disability, physiological problems, old age, distance, limited medical expertise in rural areas, climate conditions, and employment can make access to medical care difficult. Additionally, long diagnosing times and high costs can discourage people from receiving ophthalmological care. Therefore, it is important to develop new methods for the early and accurate diagnosis of corneal diseases. \n",
            "\n"
          ]
        }
      ]
    },
    {
      "cell_type": "markdown",
      "source": [
        "# **Save and load data**"
      ],
      "metadata": {
        "id": "hckwkeNG_GNd"
      }
    },
    {
      "cell_type": "code",
      "source": [
        "save_dir = \"/content/drive/MyDrive/Deep_learning/chatGPT\"\n",
        "file_name = \"corneAI\"\n",
        "\n",
        "\n",
        "# save_data\n",
        "import pickle\n",
        "f = open(f'{save_dir}/{file_name}.txt', 'wb')\n",
        "list_row = text_input\n",
        "pickle.dump(list_row, f)"
      ],
      "metadata": {
        "id": "uRuUkac-7wZ6"
      },
      "execution_count": 76,
      "outputs": []
    },
    {
      "cell_type": "code",
      "source": [
        "# load data\n",
        "f = open(f'{save_dir}/{file_name}.txt', 'rb')\n",
        "text_input = pickle.load(f)"
      ],
      "metadata": {
        "id": "ddfBk0bM-bqN"
      },
      "execution_count": null,
      "outputs": []
    },
    {
      "cell_type": "code",
      "source": [],
      "metadata": {
        "id": "RFY43eo7-28P"
      },
      "execution_count": null,
      "outputs": []
    }
  ]
}