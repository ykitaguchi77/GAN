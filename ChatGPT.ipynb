{
  "nbformat": 4,
  "nbformat_minor": 0,
  "metadata": {
    "colab": {
      "provenance": [],
      "authorship_tag": "ABX9TyMJyKqX4W7oLEWIgc0JWqUK",
      "include_colab_link": true
    },
    "kernelspec": {
      "name": "python3",
      "display_name": "Python 3"
    },
    "language_info": {
      "name": "python"
    }
  },
  "cells": [
    {
      "cell_type": "markdown",
      "metadata": {
        "id": "view-in-github",
        "colab_type": "text"
      },
      "source": [
        "<a href=\"https://colab.research.google.com/github/ykitaguchi77/GAN/blob/master/ChatGPT.ipynb\" target=\"_parent\"><img src=\"https://colab.research.google.com/assets/colab-badge.svg\" alt=\"Open In Colab\"/></a>"
      ]
    },
    {
      "cell_type": "code",
      "source": [
        "from google.colab import drive\n",
        "drive.mount(\"/content/drive\")\n",
        "\n",
        "!pip install openai --q\n",
        "!pip install --upgrade deepl --q\n",
        "import openai\n",
        "import deepl\n",
        "import textwrap\n",
        "import pandas as pd\n",
        "\n",
        "with open(\"/content/drive/MyDrive/Deep_learning/api.txt\") as file:\n",
        "    #text = file.read()\n",
        "    i=1\n",
        "    key = []\n",
        "    while True:\n",
        "        include_break_line = file.readline() #改行が含まれた行\n",
        "        line = include_break_line.rstrip() #改行を取り除く\n",
        "        if line: #keyの読み込み\n",
        "            #print(f'{i}行目：{line}')\n",
        "            key.append(line)\n",
        "            i += 1\n",
        "        else:\n",
        "            break\n",
        "\n",
        "# APIキーの準備\n",
        "#ngrok_aceess_token = key[5]\n",
        "openai.api_key = key[3]\n",
        "deepl_auth_key = key[1]\n",
        "\n",
        "translator = deepl.Translator(deepl_auth_key)\n"
      ],
      "metadata": {
        "colab": {
          "base_uri": "https://localhost:8080/"
        },
        "id": "RTce3wIiMyNe",
        "outputId": "1a7b61c3-b896-4bf7-9836-f53b5a4f730c"
      },
      "execution_count": 1,
      "outputs": [
        {
          "output_type": "stream",
          "name": "stdout",
          "text": [
            "Mounted at /content/drive\n",
            "\u001b[2K     \u001b[90m━━━━━━━━━━━━━━━━━━━━━━━━━━━━━━━━━━━━━━━━\u001b[0m \u001b[32m55.3/55.3 KB\u001b[0m \u001b[31m2.2 MB/s\u001b[0m eta \u001b[36m0:00:00\u001b[0m\n",
            "\u001b[?25h  Installing build dependencies ... \u001b[?25l\u001b[?25hdone\n",
            "  Getting requirements to build wheel ... \u001b[?25l\u001b[?25hdone\n",
            "  Preparing metadata (pyproject.toml) ... \u001b[?25l\u001b[?25hdone\n",
            "  Building wheel for openai (pyproject.toml) ... \u001b[?25l\u001b[?25hdone\n"
          ]
        }
      ]
    },
    {
      "cell_type": "code",
      "source": [
        "#@title #**ChatGPT configulation**\n",
        "question_translate_English= True #@param {type:\"boolean\"}\n",
        "answer_Japanese= False #@param {type:\"boolean\"}\n",
        "reset= True #@param {type:\"boolean\"}\n",
        "show_all = True #@param {type:\"boolean\"}\n",
        "arrangement = True #@param {type:\"boolean\"}\n",
        "\n",
        "\n",
        "\n",
        "if \"text_input\" not in globals():\n",
        "    text_input = []\n",
        "if reset == True:\n",
        "    text_input = []\n",
        "\n",
        "\n",
        "def wrap(sentence):\n",
        "    wrap_list =  textwrap.wrap(sentence, 120)\n",
        "    output = '\\n'.join(wrap_list)\n",
        "    return(output)\n",
        "\n",
        "\n",
        "def interference(question):\n",
        "    question = question.replace('\\n', '') #前後の空白と改行を削除\n",
        "\n",
        "    if question_translate_English == True:\n",
        "        question_translated = translator.translate_text(question, target_lang=\"EN-US\").text\n",
        "        question = question_translated\n",
        "    else:\n",
        "        question = question\n",
        "\n",
        "    prompt = \"Q:\" + question +\"\\nA:\"\n",
        "\n",
        "    text_input.append(question+\"\\nA:\")\n",
        "\n",
        "    prompt =  \",\".join(map(str, text_input)) # aaa,bbb,100,200,300 \n",
        "\n",
        "    response = openai.Completion.create(\n",
        "      model=\"text-davinci-003\",\n",
        "      prompt=prompt,\n",
        "      temperature=0.5,\n",
        "      max_tokens= 1024,\n",
        "      #top_p=1,\n",
        "      frequency_penalty=0.0,\n",
        "      presence_penalty=0.0,\n",
        "      stop=None)\n",
        "\n",
        "    answer = response['choices'][0]['text']\n",
        "    text_input.append(answer)\n",
        "\n",
        "    if answer_Japanese == True:\n",
        "        answer = translator.translate_text(response['choices'][0]['text'], target_lang=\"JA\").text\n",
        "    else:\n",
        "        answer = answer\n",
        "\n",
        "    output(text_input, show_all=show_all, arrangement=arrangement)\n",
        "    # print(f\"{prompt}\")\n",
        "    # print(f\"{wrap(answer)} \\n\")\n",
        "    #print(text_input)\n",
        "\n",
        "\n",
        "def output(text_input, show_all = True, arrangement = False):\n",
        "    if arrangement == True:\n",
        "        if show_all == False:\n",
        "            print(f\"Q: {wrap(text_input[-2]).rstrip('A:')} \\n\")\n",
        "            print(f\"A: {wrap(text_input[-1])} \\n\")\n",
        "\n",
        "        elif show_all == True:\n",
        "            for i, text in enumerate(text_input):\n",
        "                if i % 2 == 0:\n",
        "                    print(f\"Q: {wrap(text).rstrip('A:')} \\n\")\n",
        "                else:\n",
        "                    print(f\"A: {wrap(text)} \\n\")\n",
        "\n",
        "    elif arrangement == False:\n",
        "        if show_all == False:\n",
        "            print(f\"Q: {text_input[-2].rstrip('A:')} \\n\")\n",
        "            print(f\"{text_input[-1]} \\n\")\n",
        "\n",
        "        elif show_all == True:\n",
        "            for i, text in enumerate(text_input):\n",
        "                if i % 2 == 0:\n",
        "                    print(f\"Q: {text.rstrip('A:')} \\n\")\n",
        "                else:\n",
        "                    print(f\"{text} \\n\")\n",
        "\n",
        "\n"
      ],
      "metadata": {
        "id": "Y8-pjNNBgII9"
      },
      "execution_count": 42,
      "outputs": []
    },
    {
      "cell_type": "code",
      "source": [
        "#@title #**Question & Answer list**\n",
        "Leave_first_2= False #@param {type:\"boolean\"}\n",
        "Leave_last_2 = False #@param {type:\"boolean\"}\n",
        "Leave_last_4 = False #@param {type:\"boolean\"}\n",
        "Leave_last_6 = False #@param {type:\"boolean\"}\n",
        "\n",
        "tmp = []\n",
        "\n",
        "if Leave_first_2 == True:\n",
        "    tmp = [i for i in text_input[0:2]]    \n",
        "\n",
        "if Leave_last_6 == True:\n",
        "    tmp.extend([i for i in text_input[-6:]])\n",
        "elif Leave_last_4 == True:\n",
        "    tmp.extend([i for i in text_input[-4:]])\n",
        "elif Leave_last_2 == True:\n",
        "    tmp.extend([i for i in text_input[-2:]])\n",
        "\n",
        "text_input = [text_input[i] for i in tmp]\n",
        "\n",
        "print(text_input)"
      ],
      "metadata": {
        "id": "wAtnR76ZyFW5"
      },
      "execution_count": 41,
      "outputs": []
    },
    {
      "cell_type": "code",
      "source": [
        "Delete_last_two= True #@param {type:\"boolean\"}\n",
        "if Delete_last_two == True:\n",
        "    text_input = text_input[:-2]\n",
        "\n",
        "print(text_input)"
      ],
      "metadata": {
        "id": "9CcUQoWY23gg"
      },
      "execution_count": null,
      "outputs": []
    },
    {
      "cell_type": "markdown",
      "source": [
        "#**Interference**"
      ],
      "metadata": {
        "id": "zXnkitKAfcDs"
      }
    },
    {
      "cell_type": "code",
      "source": [
        "question = '''\n",
        "\n",
        "Deep learning\n",
        "\n",
        "\n",
        "\n",
        "'''\n",
        "interference(question)"
      ],
      "metadata": {
        "colab": {
          "base_uri": "https://localhost:8080/"
        },
        "id": "JXm2qK5CeBhn",
        "outputId": "f6ee344f-8126-41e0-d834-6550f8d7ca04"
      },
      "execution_count": 45,
      "outputs": [
        {
          "output_type": "stream",
          "name": "stdout",
          "text": [
            "Q: I need you to act as a research assistant for a scientific article I am writing. I will provide you with specific\n",
            "questions and information, and I expect you to find relevant and credible sources to support my research. Your responses\n",
            "should include a summary of the main points from the sources, along with the full citation in the desired format (APA,\n",
            "MLA, etc.). Additionally, you should flag any potential issues or limitations in the sources you provide. The title of\n",
            "the article is: Real-time smartphone identification of corneal diseases displayed on computer screen using embedded\n",
            "deep-learning model. Please show me the bullets which I need to contain in the introduction.  \n",
            "\n",
            "A:   • Overview of corneal diseases and their diagnosis • Overview of existing methods for corneal disease diagnosis •\n",
            "Overview of deep learning and its potential applications • Overview of the advantages of using a smartphone to identify\n",
            "corneal diseases • Overview of the proposed study and its aims • Overview of the research methodology and its\n",
            "implications \n",
            "\n",
            "Q: Corneal disease is a common and debilitating condition that affects the transparency of the clear front surface of the\n",
            "eye. If left untreated, some corneal diseases, especially corneal infections and autoimmune diseases, can lead to\n",
            "permanent corneal opacity and vision loss. On the contrary, the consequences of these diseases are mostly preventable if\n",
            "treated promptly. Therefore, early diagnosis and treatment of corneal diseases are essential to prevent progression of\n",
            "the disease and its associated complications.Slit lamp examination is a key element in the diagnosis of corneal disease.\n",
            "It allows the practitioner to observe the cornea, lens, iris and other structures of the eye in detail. However, slit\n",
            "lamp examination has the limitation that the diagnostic performance is largely dependent on the skill of the\n",
            "practitioner. Since not all institutions have specialists in corneal diseases, it is critical to secure resources to\n",
            "avoid missing emerging diseases.Next, I want to write overview of deep learning and its potential applications.Consider\n",
            "the situation that not all institutions have specialists in corneal diseases.  \n",
            "\n",
            "A:  • Overview of deep learning and its potential applications Deep learning is a subset of machine learning that uses\n",
            "artificial neural networks to create models and algorithms that can learn and make decisions from data. It has been used\n",
            "in a variety of applications such as computer vision, natural language processing, and robotics. Deep learning has\n",
            "become increasingly popular in medical imaging, where it has been used to classify and diagnose diseases. In particular,\n",
            "deep learning has been applied to corneal imaging to identify and diagnose corneal diseases. Furthermore, deep learning\n",
            "models have been used to detect and classify corneal lesions, as well as to predict the prognosis of corneal diseases.\n",
            "For example, deep learning models have been used to identify corneal neovascularization, surface irregularity, and\n",
            "endothelial cell density. Additionally, deep learning models have been used to detect and classify corneal infections,\n",
            "including bacterial and fungal infections. As such, deep learning has the potential to revolutionize the diagnosis of\n",
            "corneal diseases. \n",
            "\n",
            "Q: It is hot today.  \n",
            "\n",
            "A:  This question is unrelated to the topic of the article. \n",
            "\n"
          ]
        }
      ]
    },
    {
      "cell_type": "code",
      "source": [
        "output(text_input, show_all = False, arrangement = True)"
      ],
      "metadata": {
        "colab": {
          "base_uri": "https://localhost:8080/"
        },
        "id": "hqLWGG0E4Prj",
        "outputId": "eb1647e8-cafa-479d-dac0-5ecf7d55a598"
      },
      "execution_count": 57,
      "outputs": [
        {
          "output_type": "stream",
          "name": "stdout",
          "text": [
            "Q: Corneal disease is a common and debilitating condition that affects the transparency of the clear front surface of the\n",
            "eye. If left untreated, some corneal diseases, especially corneal infections and autoimmune diseases, can lead to\n",
            "permanent corneal opacity and vision loss. On the contrary, the consequences of these diseases are mostly preventable if\n",
            "treated promptly. Therefore, early diagnosis and treatment of corneal diseases are essential to prevent progression of\n",
            "the disease and its associated complications.Slit lamp examination is a key element in the diagnosis of corneal disease.\n",
            "It allows the practitioner to observe the cornea, lens, iris and other structures of the eye in detail. However, slit\n",
            "lamp examination has the limitation that the diagnostic performance is largely dependent on the skill of the\n",
            "practitioner. Since not all institutions have specialists in corneal diseases, it is critical to secure resources to\n",
            "avoid missing emerging diseases.Next, I want to write overview of deep learning and its potential applications.Consider\n",
            "the situation that not all institutions have specialists in corneal diseases.  \n",
            "\n",
            "A:  • Overview of deep learning and its potential applications Deep learning is a subset of machine learning that uses\n",
            "artificial neural networks to create models and algorithms that can learn and make decisions from data. It has been used\n",
            "in a variety of applications such as computer vision, natural language processing, and robotics. Deep learning has\n",
            "become increasingly popular in medical imaging, where it has been used to classify and diagnose diseases. In particular,\n",
            "deep learning has been applied to corneal imaging to identify and diagnose corneal diseases. Furthermore, deep learning\n",
            "models have been used to detect and classify corneal lesions, as well as to predict the prognosis of corneal diseases.\n",
            "For example, deep learning models have been used to identify corneal neovascularization, surface irregularity, and\n",
            "endothelial cell density. Additionally, deep learning models have been used to detect and classify corneal infections,\n",
            "including bacterial and fungal infections. As such, deep learning has the potential to revolutionize the diagnosis of\n",
            "corneal diseases. \n",
            "\n"
          ]
        }
      ]
    },
    {
      "cell_type": "code",
      "source": [],
      "metadata": {
        "id": "uRuUkac-7wZ6"
      },
      "execution_count": null,
      "outputs": []
    }
  ]
}