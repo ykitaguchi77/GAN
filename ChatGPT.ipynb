{
  "nbformat": 4,
  "nbformat_minor": 0,
  "metadata": {
    "colab": {
      "provenance": [],
      "authorship_tag": "ABX9TyPJUE4ZWsfvK7J1NZdATOy6",
      "include_colab_link": true
    },
    "kernelspec": {
      "name": "python3",
      "display_name": "Python 3"
    },
    "language_info": {
      "name": "python"
    }
  },
  "cells": [
    {
      "cell_type": "markdown",
      "metadata": {
        "id": "view-in-github",
        "colab_type": "text"
      },
      "source": [
        "<a href=\"https://colab.research.google.com/github/ykitaguchi77/GAN/blob/master/ChatGPT.ipynb\" target=\"_parent\"><img src=\"https://colab.research.google.com/assets/colab-badge.svg\" alt=\"Open In Colab\"/></a>"
      ]
    },
    {
      "cell_type": "code",
      "source": [
        "from google.colab import drive\n",
        "drive.mount(\"/content/drive\")\n",
        "\n",
        "!pip install openai --q\n",
        "!pip install --upgrade deepl --q\n",
        "import openai\n",
        "import deepl\n",
        "import textwrap\n",
        "import pandas as pd\n",
        "\n",
        "with open(\"/content/drive/MyDrive/Deep_learning/api.txt\") as file:\n",
        "    #text = file.read()\n",
        "    i=1\n",
        "    key = []\n",
        "    while True:\n",
        "        include_break_line = file.readline() #改行が含まれた行\n",
        "        line = include_break_line.rstrip() #改行を取り除く\n",
        "        if line: #keyの読み込み\n",
        "            #print(f'{i}行目：{line}')\n",
        "            key.append(line)\n",
        "            i += 1\n",
        "        else:\n",
        "            break\n",
        "\n",
        "# APIキーの準備\n",
        "#ngrok_aceess_token = key[5]\n",
        "openai.api_key = key[3]\n",
        "deepl_auth_key = key[1]\n",
        "\n",
        "translator = deepl.Translator(deepl_auth_key)\n",
        "\n",
        "k = 0"
      ],
      "metadata": {
        "colab": {
          "base_uri": "https://localhost:8080/"
        },
        "id": "RTce3wIiMyNe",
        "outputId": "3f787dff-d9a2-42a9-b442-f5c051eba578"
      },
      "execution_count": 85,
      "outputs": [
        {
          "output_type": "stream",
          "name": "stdout",
          "text": [
            "Drive already mounted at /content/drive; to attempt to forcibly remount, call drive.mount(\"/content/drive\", force_remount=True).\n"
          ]
        }
      ]
    },
    {
      "cell_type": "code",
      "source": [
        "#@title #**ChatGPT configulation**\n",
        "question_translate_English= True #@param {type:\"boolean\"}\n",
        "answer_Japanese= False #@param {type:\"boolean\"}\n",
        "reset= False #@param {type:\"boolean\"}\n",
        "show_all = True #@param {type:\"boolean\"}\n",
        "arrangement = True #@param {type:\"boolean\"}\n",
        "\n",
        "\n",
        "\n",
        "if \"text_input\" not in globals():\n",
        "    text_input = []\n",
        "if reset == True:\n",
        "    text_input = []\n",
        "\n",
        "\n",
        "def wrap(sentence):\n",
        "    wrap_list =  textwrap.wrap(sentence, 120)\n",
        "    output = '\\n'.join(wrap_list)\n",
        "    return(output)\n",
        "\n",
        "\n",
        "def interference(question):\n",
        "    question = question.replace('\\n', '') #前後の空白と改行を削除\n",
        "\n",
        "    if question_translate_English == True:\n",
        "        question_translated = translator.translate_text(question, target_lang=\"EN-US\").text\n",
        "        question = question_translated\n",
        "    else:\n",
        "        question = question\n",
        "\n",
        "    prompt = \"Q:\" + question +\"\\nA:\"\n",
        "\n",
        "    text_input.append(question+\"\\nA:\")\n",
        "\n",
        "    prompt =  \",\".join(map(str, text_input)) # aaa,bbb,100,200,300 \n",
        "\n",
        "    response = openai.Completion.create(\n",
        "      model=\"text-davinci-003\",\n",
        "      prompt=prompt,\n",
        "      temperature=0.5,\n",
        "      max_tokens=1024,\n",
        "      #top_p=1,\n",
        "      frequency_penalty=0.0,\n",
        "      presence_penalty=0.0,\n",
        "      stop=None)\n",
        "\n",
        "    answer = response['choices'][0]['text']\n",
        "    text_input.append(answer)\n",
        "\n",
        "    if answer_Japanese == True:\n",
        "        answer = translator.translate_text(response['choices'][0]['text'], target_lang=\"JA\").text\n",
        "    else:\n",
        "        answer = answer\n",
        "\n",
        "    output(text_input, show_all=show_all, arrangement=arrangement)\n",
        "    # print(f\"{prompt}\")\n",
        "    # print(f\"{wrap(answer)} \\n\")\n",
        "    #print(text_input)\n",
        "\n",
        "\n",
        "def output(text_input, show_all = True, arrangement = False):\n",
        "    if arrangement == True:\n",
        "        if show_all == False:\n",
        "            print(f\"Q: {wrap(text_input[-2]).rstrip('A:')} \\n\")\n",
        "            print(f\"A: {wrap(text_input[-1])} \\n\")\n",
        "\n",
        "        elif show_all == True:\n",
        "            for i, text in enumerate(text_input):\n",
        "                if i % 2 == 0:\n",
        "                    print(f\"Q: {wrap(text).rstrip('A:')} \\n\")\n",
        "                else:\n",
        "                    print(f\"A: {wrap(text)} \\n\")\n",
        "\n",
        "    elif arrangement == False:\n",
        "        if show_all == False:\n",
        "            print(f\"Q: {text_input[-2].rstrip('A:')} \\n\")\n",
        "            print(f\"{text_input[-1]} \\n\")\n",
        "\n",
        "        elif show_all == True:\n",
        "            for i, text in enumerate(text_input):\n",
        "                if i % 2 == 0:\n",
        "                    print(f\"Q: {text.rstrip('A:')} \\n\")\n",
        "                else:\n",
        "                    print(f\"{text} \\n\")\n",
        "\n",
        "\n"
      ],
      "metadata": {
        "id": "Y8-pjNNBgII9"
      },
      "execution_count": 111,
      "outputs": []
    },
    {
      "cell_type": "markdown",
      "source": [
        "#**Interference**"
      ],
      "metadata": {
        "id": "zXnkitKAfcDs"
      }
    },
    {
      "cell_type": "code",
      "source": [
        "question = '''\n",
        "第二段落は以下の通りです。\n",
        "Currently, corneal diseases are typically diagnosed using slit-lamp biomicroscopy and imaging with specialized equipment. These methods have their limitations, including the need for specialized equipment and/or skilled physicians because these diseases are sometimes similar in appearance for proper differentiation. Unfortunately, many facilities lack the necessary resources to ensure early diagnosis and treatment, leading to delays in diagnosis and an increased risk of permanent vision loss. \n",
        "論理性を補強するために１〜２文を加えて下さい。\n",
        "'''\n",
        "interference(question)"
      ],
      "metadata": {
        "colab": {
          "base_uri": "https://localhost:8080/",
          "height": 208
        },
        "id": "JXm2qK5CeBhn",
        "outputId": "fc2c7518-6156-46c4-a178-877d1fac156a"
      },
      "execution_count": 109,
      "outputs": [
        {
          "output_type": "error",
          "ename": "TypeError",
          "evalue": "ignored",
          "traceback": [
            "\u001b[0;31m---------------------------------------------------------------------------\u001b[0m",
            "\u001b[0;31mTypeError\u001b[0m                                 Traceback (most recent call last)",
            "\u001b[0;32m<ipython-input-109-6e10b4381494>\u001b[0m in \u001b[0;36m<module>\u001b[0;34m\u001b[0m\n\u001b[1;32m      4\u001b[0m \u001b[0m論理性を補強するために１\u001b[0m\u001b[0;31m〜\u001b[0m\u001b[0;34m２文を加えて下さい\u001b[0m\u001b[0;31m。\u001b[0m\u001b[0;34m\u001b[0m\u001b[0;34m\u001b[0m\u001b[0m\n\u001b[1;32m      5\u001b[0m '''\n\u001b[0;32m----> 6\u001b[0;31m \u001b[0minterference\u001b[0m\u001b[0;34m(\u001b[0m\u001b[0mquestion\u001b[0m\u001b[0;34m)\u001b[0m\u001b[0;34m\u001b[0m\u001b[0;34m\u001b[0m\u001b[0m\n\u001b[0m",
            "\u001b[0;31mTypeError\u001b[0m: interference() missing 1 required positional argument: 'k'"
          ]
        }
      ]
    },
    {
      "cell_type": "code",
      "source": [
        "output(text_input, show_all = False, arrangement = False)"
      ],
      "metadata": {
        "id": "hqLWGG0E4Prj"
      },
      "execution_count": null,
      "outputs": []
    }
  ]
}