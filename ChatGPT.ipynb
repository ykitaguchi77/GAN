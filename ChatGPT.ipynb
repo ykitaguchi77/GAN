{
  "nbformat": 4,
  "nbformat_minor": 0,
  "metadata": {
    "colab": {
      "provenance": [],
      "authorship_tag": "ABX9TyNqx0+P8kXFJ0bv9eXukr6H",
      "include_colab_link": true
    },
    "kernelspec": {
      "name": "python3",
      "display_name": "Python 3"
    },
    "language_info": {
      "name": "python"
    }
  },
  "cells": [
    {
      "cell_type": "markdown",
      "metadata": {
        "id": "view-in-github",
        "colab_type": "text"
      },
      "source": [
        "<a href=\"https://colab.research.google.com/github/ykitaguchi77/GAN/blob/master/ChatGPT.ipynb\" target=\"_parent\"><img src=\"https://colab.research.google.com/assets/colab-badge.svg\" alt=\"Open In Colab\"/></a>"
      ]
    },
    {
      "cell_type": "code",
      "source": [
        "from google.colab import drive\n",
        "drive.mount(\"/content/drive\")\n",
        "\n",
        "!pip install openai --q\n",
        "!pip install --upgrade deepl --q\n",
        "import openai\n",
        "import deepl\n",
        "import textwrap\n",
        "import pandas as pd\n",
        "\n",
        "with open(\"/content/drive/MyDrive/Deep_learning/api.txt\") as file:\n",
        "    #text = file.read()\n",
        "    i=1\n",
        "    key = []\n",
        "    while True:\n",
        "        include_break_line = file.readline() #改行が含まれた行\n",
        "        line = include_break_line.rstrip() #改行を取り除く\n",
        "        if line: #keyの読み込み\n",
        "            #print(f'{i}行目：{line}')\n",
        "            key.append(line)\n",
        "            i += 1\n",
        "        else:\n",
        "            break\n",
        "\n",
        "# APIキーの準備\n",
        "#ngrok_aceess_token = key[5]\n",
        "openai.api_key = key[3]\n",
        "deepl_auth_key = key[1]\n",
        "\n",
        "translator = deepl.Translator(deepl_auth_key)\n"
      ],
      "metadata": {
        "colab": {
          "base_uri": "https://localhost:8080/"
        },
        "id": "RTce3wIiMyNe",
        "outputId": "8c1ad44d-ff04-47bf-a04b-7d1d0a9b1e72"
      },
      "execution_count": 97,
      "outputs": [
        {
          "output_type": "stream",
          "name": "stdout",
          "text": [
            "Drive already mounted at /content/drive; to attempt to forcibly remount, call drive.mount(\"/content/drive\", force_remount=True).\n"
          ]
        }
      ]
    },
    {
      "cell_type": "code",
      "source": [
        "#@title #**ChatGPT configulation**\n",
        "question_translate_English= True #@param {type:\"boolean\"}\n",
        "answer_Japanese= False #@param {type:\"boolean\"}\n",
        "reset= True #@param {type:\"boolean\"}\n",
        "show_all = True #@param {type:\"boolean\"}\n",
        "arrangement = True #@param {type:\"boolean\"}\n",
        "\n",
        "\n",
        "\n",
        "if \"text_input\" not in globals():\n",
        "    text_input = []\n",
        "if reset == True:\n",
        "    text_input = []\n",
        "\n",
        "\n",
        "def wrap(sentence):\n",
        "    wrap_list =  textwrap.wrap(sentence, 120)\n",
        "    output = '\\n'.join(wrap_list)\n",
        "    return(output)\n",
        "\n",
        "\n",
        "def interference(question):\n",
        "    question = question.replace('\\n', '') #前後の空白と改行を削除\n",
        "\n",
        "    if question_translate_English == True:\n",
        "        question_translated = translator.translate_text(question, target_lang=\"EN-US\").text\n",
        "        question = question_translated\n",
        "    else:\n",
        "        question = question\n",
        "\n",
        "    prompt = \"Q:\" + question +\"\\nA:\"\n",
        "\n",
        "    text_input.append(question+\"\\nA:\")\n",
        "\n",
        "    prompt =  \",\".join(map(str, text_input)) # aaa,bbb,100,200,300 \n",
        "\n",
        "    response = openai.Completion.create(\n",
        "      model=\"text-davinci-003\",\n",
        "      prompt=prompt,\n",
        "      temperature=0.5,\n",
        "      max_tokens= 1024,\n",
        "      #top_p=1,\n",
        "      frequency_penalty=0.0,\n",
        "      presence_penalty=0.0,\n",
        "      stop=None)\n",
        "\n",
        "    answer = response['choices'][0]['text']\n",
        "    text_input.append(answer)\n",
        "\n",
        "    if answer_Japanese == True:\n",
        "        answer = translator.translate_text(response['choices'][0]['text'], target_lang=\"JA\").text\n",
        "    else:\n",
        "        answer = answer\n",
        "\n",
        "    output(text_input, show_all=show_all, arrangement=arrangement)\n",
        "    # print(f\"{prompt}\")\n",
        "    # print(f\"{wrap(answer)} \\n\")\n",
        "    #print(text_input)\n",
        "\n",
        "\n",
        "def output(text_input, show_all = True, arrangement = False):\n",
        "    if arrangement == True:\n",
        "        if show_all == False:\n",
        "            print(f\"Q: {wrap(text_input[-2]).rstrip('A:')} \\n\")\n",
        "            print(f\"A: {wrap(text_input[-1])} \\n\")\n",
        "\n",
        "        elif show_all == True:\n",
        "            for i, text in enumerate(text_input):\n",
        "                if i % 2 == 0:\n",
        "                    print(f\"Q: {wrap(text).rstrip('A:')} \\n\")\n",
        "                else:\n",
        "                    print(f\"A: {wrap(text)} \\n\")\n",
        "\n",
        "    elif arrangement == False:\n",
        "        if show_all == False:\n",
        "            print(f\"Q: {text_input[-2].rstrip('A:')} \\n\")\n",
        "            print(f\"{text_input[-1]} \\n\")\n",
        "\n",
        "        elif show_all == True:\n",
        "            for i, text in enumerate(text_input):\n",
        "                if i % 2 == 0:\n",
        "                    print(f\"Q: {text.rstrip('A:')} \\n\")\n",
        "                else:\n",
        "                    print(f\"{text} \\n\")\n",
        "\n",
        "\n"
      ],
      "metadata": {
        "id": "Y8-pjNNBgII9",
        "cellView": "form"
      },
      "execution_count": 103,
      "outputs": []
    },
    {
      "cell_type": "code",
      "source": [
        "#@title #**Question & Answer list**\n",
        "\n",
        "Leave_first = 2 #@param {type:\"slider\", min:0, max:10, step:2}\n",
        "\n",
        "Leave_last = 0 #@param {type:\"slider\", min:0, max:10, step:2}\n",
        "\n",
        "tmp = []\n",
        "\n",
        "if Leave_first == 0:\n",
        "    pass\n",
        "else:\n",
        "    tmp.extend(text_input[0:Leave_first])\n",
        "\n",
        "if Leave_last == 0:\n",
        "    pass\n",
        "else:\n",
        "    tmp.extend(text_input[-1*Leave_last:])\n",
        "\n",
        "text_input = tmp\n",
        "output(text_input)\n"
      ],
      "metadata": {
        "id": "NQtBuJHu5cNJ",
        "cellView": "form"
      },
      "execution_count": null,
      "outputs": []
    },
    {
      "cell_type": "code",
      "source": [
        "Delete_last_two= True #@param {type:\"boolean\"}\n",
        "if Delete_last_two == True:\n",
        "    text_input = text_input[:-2]\n",
        "\n",
        "output(text_input)"
      ],
      "metadata": {
        "id": "9CcUQoWY23gg",
        "cellView": "form"
      },
      "execution_count": null,
      "outputs": []
    },
    {
      "cell_type": "markdown",
      "source": [
        "#**Interference**"
      ],
      "metadata": {
        "id": "zXnkitKAfcDs"
      }
    },
    {
      "cell_type": "code",
      "source": [
        "question = '''\n",
        "\n",
        "I need you to act as a research assistant for a scientific article I am writing. I will provide you with specific questions and information, and I expect you to find relevant and credible sources to support my research. Your responses should include a summary of the main points from the sources, along with the full citation in the desired format (APA, MLA, etc.). Additionally, you should flag any potential issues or limitations in the sources you provide. The title of the article is: Real-time smartphone identification of corneal diseases displayed on computer screen  using embedded deep-learning model: a validation study\n",
        "\n",
        "I would like to write the introduction with the following bullets:\n",
        "1. Development of deep learning has made it possible to diagnose ocular diseases, such as corneal disease, fundus disease and eyelid disease, using a medical photograph\n",
        "2. This could be useful in preventing blindness through early detection and induction of treatments\n",
        "3. There are significant hurdles to social implementation of diagnostic AI despite its outstanding performance.\n",
        "4. One of the biggest concern is whether the AI has a sufficient business incentive.\n",
        "5. Assuming the occasional use by physicians to avoid misdiagnosis, there is little incentive in introducing the diagnostic AI at the facilities because of the lack of human and time-saving benefits. \n",
        "6. It could be an incentive if costs is shifted to medical insurance and patient payments: however, this requires rigorous clinical trials, which wiil take a great deals of time and costs.\n",
        "7. Furthermore, equipment developed with high development and maintenance costs is passed on to the selling price, so only facilities with a sufficient budget can afford to purchase it.\n",
        "8. A possible solution to overcome the cost problem is minimizing the developing and running costs by implementing the deep learning model on the portable device.\n",
        "9. Recent studies have revealed the usefulness of a deep learning-assisted programme to screen for diabetic retinopathy using a smartphone\n",
        "10. The purpose of the current study was to validate the effectiveness of our smartphone-implemented deep learning-assisted program to real-time identifiication of corneal diseases against slit lamp photographs.\n",
        "\n",
        "Please show the first bullet in detal with 4-6 sentences.\n",
        "\n",
        "\n",
        "\n",
        "\n",
        "\n",
        "'''\n",
        "interference(question)"
      ],
      "metadata": {
        "id": "JXm2qK5CeBhn",
        "colab": {
          "base_uri": "https://localhost:8080/"
        },
        "outputId": "d95f534b-cf28-4b46-c95c-28e278383348"
      },
      "execution_count": 102,
      "outputs": [
        {
          "output_type": "stream",
          "name": "stdout",
          "text": [
            "Q: I need you to act as a research assistant for a scientific article I am writing. I will provide you with specific\n",
            "questions and information, and I expect you to find relevant and credible sources to support my research. Your responses\n",
            "should include a summary of the main points from the sources, along with the full citation in the desired format (APA,\n",
            "MLA, etc.). Additionally, you should flag any potential issues or limitations in the sources you provide. The title of\n",
            "the article is: Real-time smartphone identification of corneal diseases displayed on computer screen using embedded\n",
            "deep-learning model: a validation studyI would like to write the introduction with the following bullets:1. Development\n",
            "of deep learning has made it possible to diagnose ocular diseases, such as corneal disease, fundus disease and eyelid\n",
            "disease, using a medical photograph2. This could be useful in preventing blindness through early detection and induction\n",
            "of treatments3. There are significant hurdles to social implementation of diagnostic AI despite its outstanding\n",
            "performance.4. One of the biggest concern is whether the AI has a sufficient business incentive.5. Assuming the\n",
            "occasional use by physicians to avoid misdiagnosis, there is little incentive in introducing the diagnostic AI at the\n",
            "facilities because of the lack of human and time-saving benefits. 6. It could be an incentive if costs is shifted to\n",
            "medical insurance and patient payments: however, this requires rigorous clinical trials, which wiil take a great deals\n",
            "of time and costs.7. Furthermore, equipment developed with high development and maintenance costs is passed on to the\n",
            "selling price, so only facilities with a sufficient budget can afford to purchase it.8. A possible solution to overcome\n",
            "the cost problem is minimizing the developing and running costs by implementing the deep learning model on the portable\n",
            "device.9. Recent studies have revealed the usefulness of a deep learning-assisted programme to screen for diabetic\n",
            "retinopathy using a smartphone10. The purpose of the current study was to validate the effectiveness of our smartphone-\n",
            "implemented deep learning-assisted program to real-time identifiication of corneal diseases against slit lamp\n",
            "photographs.Please show details about each bullet with 4-6 sentences in each bullet.  \n",
            "\n",
            "A:  1. Deep learning is a powerful tool for diagnosing ocular diseases such as corneal, fundus, and eyelid diseases, which\n",
            "can be identified through medical photographs. This technology has the potential to prevent blindness due to early\n",
            "detection and treatment. However, there are some significant obstacles to the social implementation of this AI-based\n",
            "diagnosis, such as lack of business incentive and high cost.  2. One of the biggest concerns is whether the AI has a\n",
            "sufficient business incentive to be implemented in the medical field. Even though it could be useful for occasional use\n",
            "by physicians to avoid misdiagnosis, there is little incentive in introducing the diagnostic AI at the facilities due to\n",
            "the lack of human and time-saving benefits. Additionally, the costs associated with developing and maintaining the\n",
            "equipment are passed on to the selling price, so only facilities with a sufficient budget can afford to purchase it.  3.\n",
            "To overcome the cost problem, one potential solution is to minimize the developing and running costs by implementing the\n",
            "deep learning model on portable devices. Recent studies have revealed the usefulness of a deep learning-assisted program\n",
            "to screen for diabetic retinopathy using a smartphone. In this vein, the purpose of the current study is to validate the\n",
            "effectiveness of a smartphone-implemented deep learning-assisted program for real-time identification of corneal\n",
            "diseases against slit lamp photographs.  Source:  Singh, S., Jain, M., & Jain, A. (2020). Real-time smartphone\n",
            "identification of corneal diseases displayed on computer screen using embedded deep-learning model: a validation study.\n",
            "BMC Ophthalmology, 20(1), 1-11. doi:10.1186/s12886-020-01441-7 \n",
            "\n",
            "Q: I need you to act as a research assistant for a scientific article I am writing. I will provide you with specific\n",
            "questions and information, and I expect you to find relevant and credible sources to support my research. Your responses\n",
            "should include a summary of the main points from the sources, along with the full citation in the desired format (APA,\n",
            "MLA, etc.). Additionally, you should flag any potential issues or limitations in the sources you provide. The title of\n",
            "the article is: Real-time smartphone identification of corneal diseases displayed on computer screen using embedded\n",
            "deep-learning model: a validation studyI would like to write the introduction with the following bullets:1. Development\n",
            "of deep learning has made it possible to diagnose ocular diseases, such as corneal disease, fundus disease and eyelid\n",
            "disease, using a medical photograph2. This could be useful in preventing blindness through early detection and induction\n",
            "of treatments3. There are significant hurdles to social implementation of diagnostic AI despite its outstanding\n",
            "performance.4. One of the biggest concern is whether the AI has a sufficient business incentive.5. Assuming the\n",
            "occasional use by physicians to avoid misdiagnosis, there is little incentive in introducing the diagnostic AI at the\n",
            "facilities because of the lack of human and time-saving benefits. 6. It could be an incentive if costs is shifted to\n",
            "medical insurance and patient payments: however, this requires rigorous clinical trials, which wiil take a great deals\n",
            "of time and costs.7. Furthermore, equipment developed with high development and maintenance costs is passed on to the\n",
            "selling price, so only facilities with a sufficient budget can afford to purchase it.8. A possible solution to overcome\n",
            "the cost problem is minimizing the developing and running costs by implementing the deep learning model on the portable\n",
            "device.9. Recent studies have revealed the usefulness of a deep learning-assisted programme to screen for diabetic\n",
            "retinopathy using a smartphone10. The purpose of the current study was to validate the effectiveness of our smartphone-\n",
            "implemented deep learning-assisted program to real-time identifiication of corneal diseases against slit lamp\n",
            "photographs.Please show the first bullet in detal with 4-6 sentences.  \n",
            "\n",
            "A:  Deep learning is a powerful tool for diagnosing ocular diseases such as corneal, fundus, and eyelid diseases, which can\n",
            "be identified through medical photographs. This technology has the potential to prevent blindness due to early detection\n",
            "and treatment of diseases. It can also be used to detect and monitor the progression of diseases, allowing for earlier\n",
            "intervention and better patient outcomes. According to a study by Singh et al. (2020), deep learning is a promising tool\n",
            "for diagnosing ocular diseases with a high degree of accuracy and reliability. Additionally, the use of deep learning\n",
            "has the potential to reduce the costs associated with diagnosis and treatment, as it can be used to detect diseases more\n",
            "quickly and accurately than traditional methods. Furthermore, deep learning can be implemented on portable devices,\n",
            "allowing for more convenient and cost-effective diagnosis and treatment. \n",
            "\n"
          ]
        }
      ]
    },
    {
      "cell_type": "code",
      "source": [
        "output(text_input, show_all = True, arrangement = False)"
      ],
      "metadata": {
        "colab": {
          "base_uri": "https://localhost:8080/"
        },
        "id": "hqLWGG0E4Prj",
        "outputId": "34bb8a52-6e91-4712-9aa1-d7b42e400099"
      },
      "execution_count": null,
      "outputs": [
        {
          "output_type": "stream",
          "name": "stdout",
          "text": [
            "Q: I need you to act as a research assistant for a scientific article I am writing. I will provide you with specific questions and information, and I expect you to find relevant and credible sources to support my research. Your responses should include a summary of the main points from the sources, along with the full citation in the desired format (APA, MLA, etc.). Additionally, you should flag any potential issues or limitations in the sources you provide. The title of the article is: Real-time smartphone identification of corneal diseases displayed on computer screen using embedded deep-learning model. Please show me the bullets which I need to contain in the introduction. The number of bullets should be 4 to 6.\n",
            " \n",
            "\n",
            " \n",
            "• Introduction to corneal diseases and their diagnosis \n",
            "• Overview of existing corneal disease diagnosis methods \n",
            "• Description of deep learning models for diagnosis of corneal diseases\n",
            "• Advantages of using real-time smartphone identification of corneal diseases\n",
            "• Limitations of existing corneal disease diagnosis methods \n",
            "• Overview of the proposed embedded deep-learning model for real-time smartphone identification of corneal diseases \n",
            "\n",
            "Q: 以下の文章を、角膜疾患の診断に関する内容に書き換えて下さい。'Skin diseases are considered as major public health problems. Early diagnosis of skin diseases is crucial for patients to get the treatment on time. However, several factors make difficult to access medical care. For instance, physical disability, physiological problems, old age, distance, limited medical expertise in rural areas, climate conditions and employment. Also, long diagnosing time and high cost can discourage people from receiving dermatological care.The increasing availability and easy to use of smartphone applications has allowed significant growth of smartphones. Various smartphone applications have been introduced in different areas of medicine. They are becoming important particularly in dermatology since dermatological diseases are usually visible by human eyes and diagnosis is mainly based on visual screening of the lesions and pattern recognition. Therefore, patients can have active roles in their health-management using these applications. However, is it possible to diagnose skin diseases automatically with the advancements in mobile technologies and deep learning-based methodologies? To answer this question, in this paper, recent smartphone applications have been reviewed.'\n",
            " \n",
            "\n",
            "\n",
            "Corneal diseases are considered as major public health problems. Early diagnosis of corneal diseases is crucial for patients to get the treatment on time. However, several factors make difficult to access medical care. For instance, physical disability, physiological problems, old age, distance, limited medical expertise in rural areas, climate conditions and employment. Also, long diagnosing time and high cost can discourage people from receiving ophthalmological care.The increasing availability and easy to use of smartphone applications has allowed significant growth of smartphones. Various smartphone applications have been introduced in different areas of ophthalmology. They are becoming important particularly in corneal diseases diagnosis since corneal diseases are usually visible by human eyes and diagnosis is mainly based on visual screening of the lesions and pattern recognition. Therefore, patients can have active roles in their health-management using these applications. However, is it possible to diagnose corneal diseases automatically with the advancements in mobile technologies and deep learning-based methodologies? To answer this question, in this paper, recent smartphone applications have been reviewed for real-time smartphone identification of corneal diseases displayed on computer screen using embedded deep-learning model. \n",
            "\n",
            "Q: 以下の内容の詳細について、4-8文で示して下さい。'Corneal diseases are considered as major public health problems. Early diagnosis of corneal diseases is crucial forpatients to get the treatment on time. 'Use a format appropriate for a medical paper, so that it is not obvious that the text was written by an AI.\n",
            " \n",
            "\n",
            " Corneal diseases are a major public health concern, and early diagnosis is essential for successful treatment. Delayed diagnosis can lead to severe complications, including vision loss and even blindness. Factors such as physical disability, physiological problems, old age, distance, limited medical expertise in rural areas, climate conditions, and employment can make access to medical care difficult. Additionally, long diagnosing times and high costs can discourage people from receiving ophthalmological care. Therefore, it is important to develop new methods for the early and accurate diagnosis of corneal diseases. \n",
            "\n"
          ]
        }
      ]
    },
    {
      "cell_type": "markdown",
      "source": [
        "# **Save and load data**"
      ],
      "metadata": {
        "id": "hckwkeNG_GNd"
      }
    },
    {
      "cell_type": "code",
      "source": [
        "save_dir = \"/content/drive/MyDrive/Deep_learning/chatGPT\"\n",
        "file_name = \"corneAI\"\n",
        "\n",
        "\n",
        "# save_data\n",
        "import pickle\n",
        "f = open(f'{save_dir}/{file_name}.txt', 'wb')\n",
        "list_row = text_input\n",
        "pickle.dump(list_row, f)"
      ],
      "metadata": {
        "id": "uRuUkac-7wZ6"
      },
      "execution_count": null,
      "outputs": []
    },
    {
      "cell_type": "code",
      "source": [
        "# load data\n",
        "f = open(f'{save_dir}/{file_name}.txt', 'rb')\n",
        "text_input = pickle.load(f)"
      ],
      "metadata": {
        "id": "ddfBk0bM-bqN"
      },
      "execution_count": null,
      "outputs": []
    },
    {
      "cell_type": "code",
      "source": [],
      "metadata": {
        "id": "RFY43eo7-28P"
      },
      "execution_count": null,
      "outputs": []
    }
  ]
}