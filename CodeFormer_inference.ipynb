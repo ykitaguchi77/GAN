{
  "cells": [
    {
      "cell_type": "markdown",
      "metadata": {
        "id": "view-in-github",
        "colab_type": "text"
      },
      "source": [
        "<a href=\"https://colab.research.google.com/github/ykitaguchi77/GAN/blob/master/CodeFormer_inference.ipynb\" target=\"_parent\"><img src=\"https://colab.research.google.com/assets/colab-badge.svg\" alt=\"Open In Colab\"/></a>"
      ]
    },
    {
      "cell_type": "code",
      "execution_count": null,
      "metadata": {
        "id": "8SG9AcLQO_FQ"
      },
      "outputs": [],
      "source": [
        "#@title **セットアップ**\n",
        "\n",
        "# Clone CodeFormer and enter the CodeFormer folder\n",
        "%cd /content\n",
        "!rm -rf CodeFormer\n",
        "!git clone https://github.com/cedro3/CodeFormer.git\n",
        "%cd CodeFormer\n",
        "\n",
        "# Set up the environment\n",
        "# Install python dependencies\n",
        "!pip install -r requirements.txt\n",
        "# Install basicsr\n",
        "!python basicsr/setup.py develop\n",
        "\n",
        "# Download the pre-trained model\n",
        "!python scripts/download_pretrained_models.py facelib\n",
        "!python scripts/download_pretrained_models.py CodeFormer\n",
        "\n",
        "# Visualization function\n",
        "import cv2\n",
        "import matplotlib.pyplot as plt\n",
        "def display(img1, img2):\n",
        "  fig = plt.figure(figsize=(25, 10))\n",
        "  ax1 = fig.add_subplot(1, 2, 1) \n",
        "  plt.title('Input', fontsize=16)\n",
        "  ax1.axis('off')\n",
        "  ax2 = fig.add_subplot(1, 2, 2)\n",
        "  plt.title('CodeFormer', fontsize=16)\n",
        "  ax2.axis('off')\n",
        "  ax1.imshow(img1)\n",
        "  ax2.imshow(img2)\n",
        "def imread(img_path):\n",
        "  img = cv2.imread(img_path)\n",
        "  img = cv2.cvtColor(img, cv2.COLOR_BGR2RGB)\n",
        "  return img\n",
        "\n",
        "# display result\n",
        "from IPython.display import clear_output\n",
        "import os\n",
        "import glob\n",
        "def display_result(input_folder, result_folder):\n",
        "  input_list = sorted(glob.glob(os.path.join(input_folder, '*')))\n",
        "  for input_path in input_list:\n",
        "    img_input = imread(input_path)\n",
        "    basename = os.path.splitext(os.path.basename(input_path))[0]\n",
        "    output_path = os.path.join(result_folder, basename+'.png')\n",
        "    img_output = imread(output_path) \n",
        "    display(img_input, img_output)\n",
        "\n",
        "# reset_folder\n",
        "import shutil\n",
        "def reset_folder(path):\n",
        "    if os.path.isdir(path):\n",
        "      shutil.rmtree(path)\n",
        "    os.makedirs(path,exist_ok=True)\n"
      ]
    },
    {
      "cell_type": "code",
      "source": [
        "#@title **クロップした顔のデモ**\n",
        "input_folder = 'inputs/cropped_faces' \n",
        "w = 0.7 #@param {type:\"slider\", min:0.1, max:0.9, step:0.1}\n",
        "\n",
        "! python inference_codeformer.py --w $w\\\n",
        "                                  --test_path $input_folder\\\n",
        "                                  --has_aligned\n",
        "\n",
        "clear_output()\n",
        "result_folder = 'results/cropped_faces_'+str(w)+'/restored_faces'\n",
        "display_result(input_folder, result_folder )"
      ],
      "metadata": {
        "id": "4v30bKtDnxJV"
      },
      "execution_count": null,
      "outputs": []
    },
    {
      "cell_type": "code",
      "source": [
        "#@title **画像全体のデモ**\n",
        "input_folder = 'inputs/whole_imgs' \n",
        "w = 0.7 #@param {type:\"slider\", min:0.1, max:0.9, step:0.1}\n",
        "\n",
        "\n",
        "! python inference_codeformer.py --w $w\\\n",
        "                                  --test_path $input_folder\\\n",
        "                                  --bg_upsampler realesrgan\n",
        "\n",
        "clear_output()\n",
        "result_folder = 'results/whole_imgs_'+str(w)+'/final_results'\n",
        "display_result(input_folder, result_folder )"
      ],
      "metadata": {
        "id": "yucZNeQ_8-O1"
      },
      "execution_count": null,
      "outputs": []
    },
    {
      "cell_type": "code",
      "source": [
        "#@title **画像全体オリジナル**\n",
        "import os\n",
        "import shutil\n",
        "from PIL import Image\n",
        "\n",
        "pic ='01.jpg'#@param {type:\"string\"} \n",
        "input_folder = 'inputs/whole_imgs_original'\n",
        "reset_folder(input_folder)\n",
        "im = Image.open('pic/'+pic)\n",
        "im.save(input_folder+'/'+os.path.splitext(pic)[0]+'.png')\n",
        "\n",
        "w = 0.2 #@param {type:\"slider\", min:0.1, max:0.9, step:0.1}\n",
        "\n",
        "\n",
        "! python inference_codeformer.py --w $w\\\n",
        "                                  --test_path $input_folder\\\n",
        "                                  --bg_upsampler realesrgan\\\n",
        "                                  --face_upsample\n",
        "\n",
        "clear_output()\n",
        "result_folder = 'results/whole_imgs_original_'+str(w)+'/final_results'\n",
        "display_result(input_folder, result_folder )"
      ],
      "metadata": {
        "id": "ABIHNx4Cnb2n"
      },
      "execution_count": null,
      "outputs": []
    },
    {
      "cell_type": "code",
      "source": [
        "#@title **ダウンロード**\n",
        "#@markdown -google chrome 専用\n",
        "from google.colab import files\n",
        "files.download(result_folder+'/'+os.path.splitext(pic)[0]+'.png')"
      ],
      "metadata": {
        "id": "DRBeTppXSMzi"
      },
      "execution_count": null,
      "outputs": []
    }
  ],
  "metadata": {
    "accelerator": "GPU",
    "colab": {
      "collapsed_sections": [],
      "provenance": [],
      "include_colab_link": true
    },
    "gpuClass": "standard",
    "kernelspec": {
      "display_name": "Python 3",
      "name": "python3"
    },
    "language_info": {
      "name": "python"
    }
  },
  "nbformat": 4,
  "nbformat_minor": 0
}