{
  "nbformat": 4,
  "nbformat_minor": 0,
  "metadata": {
    "colab": {
      "name": "Untitled16.ipynb",
      "provenance": [],
      "authorship_tag": "ABX9TyPzghw66yuYgfvs6gyAymnZ",
      "include_colab_link": true
    },
    "kernelspec": {
      "name": "python3",
      "display_name": "Python 3"
    },
    "language_info": {
      "name": "python"
    }
  },
  "cells": [
    {
      "cell_type": "markdown",
      "metadata": {
        "id": "view-in-github",
        "colab_type": "text"
      },
      "source": [
        "<a href=\"https://colab.research.google.com/github/ykitaguchi77/GAN/blob/master/Scrape_Pinterest.ipynb\" target=\"_parent\"><img src=\"https://colab.research.google.com/assets/colab-badge.svg\" alt=\"Open In Colab\"/></a>"
      ]
    },
    {
      "cell_type": "markdown",
      "source": [
        "#**Scrape images from Pinterest**"
      ],
      "metadata": {
        "id": "_q4sU18K8zHK"
      }
    },
    {
      "cell_type": "code",
      "execution_count": 1,
      "metadata": {
        "colab": {
          "base_uri": "https://localhost:8080/"
        },
        "id": "YM5hgM0B4iIf",
        "outputId": "c59f7814-4f25-460f-e823-9242dbb3d137"
      },
      "outputs": [
        {
          "output_type": "stream",
          "name": "stdout",
          "text": [
            "Cloning into 'pinterest-web-scraper'...\n",
            "remote: Enumerating objects: 152, done.\u001b[K\n",
            "remote: Counting objects: 100% (43/43), done.\u001b[K\n",
            "remote: Compressing objects: 100% (10/10), done.\u001b[K\n",
            "remote: Total 152 (delta 36), reused 33 (delta 33), pack-reused 109\u001b[K\n",
            "Receiving objects: 100% (152/152), 221.60 KiB | 11.66 MiB/s, done.\n",
            "Resolving deltas: 100% (52/52), done.\n",
            "/content/pinterest-web-scraper\n"
          ]
        }
      ],
      "source": [
        "!git clone https://github.com/SwatiModi/pinterest-web-scraper\n",
        "%cd pinterest-web-scraper\n"
      ]
    },
    {
      "cell_type": "code",
      "source": [
        "path_w = '/content/pinterest-web-scraper/requirements.txt'\n",
        "s = 'New file'\n",
        "\n",
        "with open(path_w, mode='w') as f:\n",
        "    f.write(\"\"\"   \n",
        "    beautifulsoup4==4.7.1    \n",
        "    bs4==0.0.1    \n",
        "    certifi==2019.6.16\n",
        "    chardet==3.0.4    \n",
        "    Click==7.0      \n",
        "    future==0.17.1   \n",
        "    idna==2.8      \n",
        "    lxml==4.6.3    \n",
        "    np-utils==0.5.10.0 \n",
        "    numpy\n",
        "    pandas  \n",
        "    Pillow    \n",
        "    pip==21.1   \n",
        "    pyparsing==2.4.1.1  \n",
        "    python-dateutil==2.8.0    \n",
        "    pytz==2019.1   \n",
        "    requests==2.22.0   \n",
        "    selenium==3.141.0  \n",
        "    setuptools==41.0.1   \n",
        "    six==1.12.0   \n",
        "    soupsieve==1.9.2    \n",
        "    split-folders==0.2.3    \n",
        "    svgwrite==1.3.1    \n",
        "    Tree==0.2.4    \n",
        "    urllib3   \n",
        "    wheel==0.33.4\"\"\")\n",
        "\n",
        "with open(path_w) as f:\n",
        "    print(f.read())\n",
        "# New file"
      ],
      "metadata": {
        "colab": {
          "base_uri": "https://localhost:8080/"
        },
        "id": "s4BNDkj357Zk",
        "outputId": "8def9bab-9929-4cc1-f026-888df63566bb"
      },
      "execution_count": 2,
      "outputs": [
        {
          "output_type": "stream",
          "name": "stdout",
          "text": [
            "   \n",
            "    beautifulsoup4==4.7.1    \n",
            "    bs4==0.0.1    \n",
            "    certifi==2019.6.16\n",
            "    chardet==3.0.4    \n",
            "    Click==7.0      \n",
            "    future==0.17.1   \n",
            "    idna==2.8      \n",
            "    lxml==4.6.3    \n",
            "    np-utils==0.5.10.0 \n",
            "    numpy\n",
            "    pandas  \n",
            "    Pillow    \n",
            "    pip==21.1   \n",
            "    pyparsing==2.4.1.1  \n",
            "    python-dateutil==2.8.0    \n",
            "    pytz==2019.1   \n",
            "    requests==2.22.0   \n",
            "    selenium==3.141.0  \n",
            "    setuptools==41.0.1   \n",
            "    six==1.12.0   \n",
            "    soupsieve==1.9.2    \n",
            "    split-folders==0.2.3    \n",
            "    svgwrite==1.3.1    \n",
            "    Tree==0.2.4    \n",
            "    urllib3   \n",
            "    wheel==0.33.4\n"
          ]
        }
      ]
    },
    {
      "cell_type": "code",
      "source": [
        "!pip install -r requirements.txt"
      ],
      "metadata": {
        "colab": {
          "base_uri": "https://localhost:8080/",
          "height": 1000
        },
        "id": "u9Wt1jBB5Bn0",
        "outputId": "692d12d9-3d31-43be-d34d-ea61c11504d6"
      },
      "execution_count": 3,
      "outputs": [
        {
          "output_type": "stream",
          "name": "stdout",
          "text": [
            "Looking in indexes: https://pypi.org/simple, https://us-python.pkg.dev/colab-wheels/public/simple/\n",
            "Collecting beautifulsoup4==4.7.1\n",
            "  Downloading beautifulsoup4-4.7.1-py3-none-any.whl (94 kB)\n",
            "\u001b[K     |████████████████████████████████| 94 kB 1.8 MB/s \n",
            "\u001b[?25hRequirement already satisfied: bs4==0.0.1 in /usr/local/lib/python3.7/dist-packages (from -r requirements.txt (line 3)) (0.0.1)\n",
            "Collecting certifi==2019.6.16\n",
            "  Downloading certifi-2019.6.16-py2.py3-none-any.whl (157 kB)\n",
            "\u001b[K     |████████████████████████████████| 157 kB 51.0 MB/s \n",
            "\u001b[?25hRequirement already satisfied: chardet==3.0.4 in /usr/local/lib/python3.7/dist-packages (from -r requirements.txt (line 5)) (3.0.4)\n",
            "Collecting Click==7.0\n",
            "  Downloading Click-7.0-py2.py3-none-any.whl (81 kB)\n",
            "\u001b[K     |████████████████████████████████| 81 kB 9.0 MB/s \n",
            "\u001b[?25hCollecting future==0.17.1\n",
            "  Downloading future-0.17.1.tar.gz (829 kB)\n",
            "\u001b[K     |████████████████████████████████| 829 kB 27.1 MB/s \n",
            "\u001b[?25hCollecting idna==2.8\n",
            "  Downloading idna-2.8-py2.py3-none-any.whl (58 kB)\n",
            "\u001b[K     |████████████████████████████████| 58 kB 4.7 MB/s \n",
            "\u001b[?25hCollecting lxml==4.6.3\n",
            "  Downloading lxml-4.6.3-cp37-cp37m-manylinux2014_x86_64.whl (6.3 MB)\n",
            "\u001b[K     |████████████████████████████████| 6.3 MB 56.0 MB/s \n",
            "\u001b[?25hCollecting np-utils==0.5.10.0\n",
            "  Downloading np_utils-0.5.10.0.tar.gz (61 kB)\n",
            "\u001b[K     |████████████████████████████████| 61 kB 6.6 MB/s \n",
            "\u001b[?25hRequirement already satisfied: numpy in /usr/local/lib/python3.7/dist-packages (from -r requirements.txt (line 11)) (1.21.6)\n",
            "Requirement already satisfied: pandas in /usr/local/lib/python3.7/dist-packages (from -r requirements.txt (line 12)) (1.3.5)\n",
            "Requirement already satisfied: Pillow in /usr/local/lib/python3.7/dist-packages (from -r requirements.txt (line 13)) (7.1.2)\n",
            "Collecting pip==21.1\n",
            "  Downloading pip-21.1-py3-none-any.whl (1.5 MB)\n",
            "\u001b[K     |████████████████████████████████| 1.5 MB 60.5 MB/s \n",
            "\u001b[?25hCollecting pyparsing==2.4.1.1\n",
            "  Downloading pyparsing-2.4.1.1-py2.py3-none-any.whl (64 kB)\n",
            "\u001b[K     |████████████████████████████████| 64 kB 3.0 MB/s \n",
            "\u001b[?25hCollecting python-dateutil==2.8.0\n",
            "  Downloading python_dateutil-2.8.0-py2.py3-none-any.whl (226 kB)\n",
            "\u001b[K     |████████████████████████████████| 226 kB 77.0 MB/s \n",
            "\u001b[?25hCollecting pytz==2019.1\n",
            "  Downloading pytz-2019.1-py2.py3-none-any.whl (510 kB)\n",
            "\u001b[K     |████████████████████████████████| 510 kB 46.2 MB/s \n",
            "\u001b[?25hCollecting requests==2.22.0\n",
            "  Downloading requests-2.22.0-py2.py3-none-any.whl (57 kB)\n",
            "\u001b[K     |████████████████████████████████| 57 kB 6.2 MB/s \n",
            "\u001b[?25hCollecting selenium==3.141.0\n",
            "  Downloading selenium-3.141.0-py2.py3-none-any.whl (904 kB)\n",
            "\u001b[K     |████████████████████████████████| 904 kB 56.9 MB/s \n",
            "\u001b[?25hCollecting setuptools==41.0.1\n",
            "  Downloading setuptools-41.0.1-py2.py3-none-any.whl (575 kB)\n",
            "\u001b[K     |████████████████████████████████| 575 kB 47.7 MB/s \n",
            "\u001b[?25hCollecting six==1.12.0\n",
            "  Downloading six-1.12.0-py2.py3-none-any.whl (10 kB)\n",
            "Collecting soupsieve==1.9.2\n",
            "  Downloading soupsieve-1.9.2-py2.py3-none-any.whl (34 kB)\n",
            "Collecting split-folders==0.2.3\n",
            "  Downloading split_folders-0.2.3-py3-none-any.whl (5.9 kB)\n",
            "Collecting svgwrite==1.3.1\n",
            "  Downloading svgwrite-1.3.1-py2.py3-none-any.whl (67 kB)\n",
            "\u001b[K     |████████████████████████████████| 67 kB 6.6 MB/s \n",
            "\u001b[?25hCollecting Tree==0.2.4\n",
            "  Downloading Tree-0.2.4.tar.gz (6.5 kB)\n",
            "Requirement already satisfied: urllib3 in /usr/local/lib/python3.7/dist-packages (from -r requirements.txt (line 26)) (1.24.3)\n",
            "Collecting wheel==0.33.4\n",
            "  Downloading wheel-0.33.4-py2.py3-none-any.whl (21 kB)\n",
            "Building wheels for collected packages: future, np-utils, Tree\n",
            "  Building wheel for future (setup.py) ... \u001b[?25l\u001b[?25hdone\n",
            "  Created wheel for future: filename=future-0.17.1-py3-none-any.whl size=488740 sha256=f8ce0bd398d9b02d40eec8042857ca988a549ec8cbb497665f258e5dc0843eb4\n",
            "  Stored in directory: /root/.cache/pip/wheels/16/4c/84/8a6161d44282ede60ed233d090156c6109a7ab865e49c1c9f6\n",
            "  Building wheel for np-utils (setup.py) ... \u001b[?25l\u001b[?25hdone\n",
            "  Created wheel for np-utils: filename=np_utils-0.5.10.0-py3-none-any.whl size=56525 sha256=68bf6a825b740578ea9c2d9d827a7c10ea940340f04cfa31573ac560a0e8ea3e\n",
            "  Stored in directory: /root/.cache/pip/wheels/ba/93/90/6f2f108ee20a52671769f61a447c94c1616bae01211926a041\n",
            "  Building wheel for Tree (setup.py) ... \u001b[?25l\u001b[?25hdone\n",
            "  Created wheel for Tree: filename=Tree-0.2.4-py3-none-any.whl size=7873 sha256=131db17d0bf37c2b9ee898b1728cc0ff0568fbc56e56e7e0c4225cfdb62486e7\n",
            "  Stored in directory: /root/.cache/pip/wheels/64/46/53/3a413f321c09b0df8d4a26edd5fc3501c6c1b238497d166638\n",
            "Successfully built future np-utils Tree\n",
            "Installing collected packages: soupsieve, six, pyparsing, svgwrite, setuptools, pytz, python-dateutil, idna, future, Click, certifi, beautifulsoup4, wheel, Tree, split-folders, selenium, requests, pip, np-utils, lxml\n",
            "  Attempting uninstall: soupsieve\n",
            "    Found existing installation: soupsieve 2.3.2.post1\n",
            "    Uninstalling soupsieve-2.3.2.post1:\n",
            "      Successfully uninstalled soupsieve-2.3.2.post1\n",
            "  Attempting uninstall: six\n",
            "    Found existing installation: six 1.15.0\n",
            "    Uninstalling six-1.15.0:\n",
            "      Successfully uninstalled six-1.15.0\n",
            "  Attempting uninstall: pyparsing\n",
            "    Found existing installation: pyparsing 3.0.9\n",
            "    Uninstalling pyparsing-3.0.9:\n",
            "      Successfully uninstalled pyparsing-3.0.9\n",
            "  Attempting uninstall: setuptools\n",
            "    Found existing installation: setuptools 57.4.0\n",
            "    Uninstalling setuptools-57.4.0:\n",
            "      Successfully uninstalled setuptools-57.4.0\n",
            "  Attempting uninstall: pytz\n",
            "    Found existing installation: pytz 2022.1\n",
            "    Uninstalling pytz-2022.1:\n",
            "      Successfully uninstalled pytz-2022.1\n",
            "  Attempting uninstall: python-dateutil\n",
            "    Found existing installation: python-dateutil 2.8.2\n",
            "    Uninstalling python-dateutil-2.8.2:\n",
            "      Successfully uninstalled python-dateutil-2.8.2\n",
            "  Attempting uninstall: idna\n",
            "    Found existing installation: idna 2.10\n",
            "    Uninstalling idna-2.10:\n",
            "      Successfully uninstalled idna-2.10\n",
            "  Attempting uninstall: future\n",
            "    Found existing installation: future 0.16.0\n",
            "    Uninstalling future-0.16.0:\n",
            "      Successfully uninstalled future-0.16.0\n",
            "  Attempting uninstall: Click\n",
            "    Found existing installation: click 7.1.2\n",
            "    Uninstalling click-7.1.2:\n",
            "      Successfully uninstalled click-7.1.2\n",
            "  Attempting uninstall: certifi\n",
            "    Found existing installation: certifi 2022.6.15\n",
            "    Uninstalling certifi-2022.6.15:\n",
            "      Successfully uninstalled certifi-2022.6.15\n",
            "  Attempting uninstall: beautifulsoup4\n",
            "    Found existing installation: beautifulsoup4 4.6.3\n",
            "    Uninstalling beautifulsoup4-4.6.3:\n",
            "      Successfully uninstalled beautifulsoup4-4.6.3\n",
            "  Attempting uninstall: wheel\n",
            "    Found existing installation: wheel 0.37.1\n",
            "    Uninstalling wheel-0.37.1:\n",
            "      Successfully uninstalled wheel-0.37.1\n",
            "  Attempting uninstall: requests\n",
            "    Found existing installation: requests 2.23.0\n",
            "    Uninstalling requests-2.23.0:\n",
            "      Successfully uninstalled requests-2.23.0\n",
            "  Attempting uninstall: pip\n",
            "    Found existing installation: pip 21.1.3\n",
            "    Uninstalling pip-21.1.3:\n",
            "      Successfully uninstalled pip-21.1.3\n",
            "  Attempting uninstall: lxml\n",
            "    Found existing installation: lxml 4.2.6\n",
            "    Uninstalling lxml-4.2.6:\n",
            "      Successfully uninstalled lxml-4.2.6\n",
            "\u001b[31mERROR: pip's dependency resolver does not currently take into account all the packages that are installed. This behaviour is the source of the following dependency conflicts.\n",
            "typer 0.4.1 requires click<9.0.0,>=7.1.1, but you have click 7.0 which is incompatible.\n",
            "google-colab 1.0.0 requires requests~=2.23.0, but you have requests 2.22.0 which is incompatible.\n",
            "google-colab 1.0.0 requires six~=1.15.0, but you have six 1.12.0 which is incompatible.\n",
            "google-api-python-client 1.12.11 requires six<2dev,>=1.13.0, but you have six 1.12.0 which is incompatible.\n",
            "google-api-core 1.31.6 requires six>=1.13.0, but you have six 1.12.0 which is incompatible.\n",
            "datascience 0.10.6 requires folium==0.2.1, but you have folium 0.8.3 which is incompatible.\n",
            "albumentations 0.1.12 requires imgaug<0.2.7,>=0.2.5, but you have imgaug 0.2.9 which is incompatible.\u001b[0m\n",
            "Successfully installed Click-7.0 Tree-0.2.4 beautifulsoup4-4.7.1 certifi-2019.6.16 future-0.17.1 idna-2.8 lxml-4.6.3 np-utils-0.5.10.0 pip-21.1 pyparsing-2.4.1.1 python-dateutil-2.8.0 pytz-2019.1 requests-2.22.0 selenium-3.141.0 setuptools-41.0.1 six-1.12.0 soupsieve-1.9.2 split-folders-0.2.3 svgwrite-1.3.1 wheel-0.33.4\n"
          ]
        },
        {
          "output_type": "display_data",
          "data": {
            "application/vnd.colab-display-data+json": {
              "pip_warning": {
                "packages": [
                  "dateutil",
                  "pkg_resources",
                  "pyparsing",
                  "six"
                ]
              }
            }
          },
          "metadata": {}
        }
      ]
    }
  ]
}