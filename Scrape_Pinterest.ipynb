{
  "nbformat": 4,
  "nbformat_minor": 0,
  "metadata": {
    "colab": {
      "name": "Untitled16.ipynb",
      "provenance": [],
      "authorship_tag": "ABX9TyMax9K62zskcGx1Hl9PvtSv",
      "include_colab_link": true
    },
    "kernelspec": {
      "name": "python3",
      "display_name": "Python 3"
    },
    "language_info": {
      "name": "python"
    }
  },
  "cells": [
    {
      "cell_type": "markdown",
      "metadata": {
        "id": "view-in-github",
        "colab_type": "text"
      },
      "source": [
        "<a href=\"https://colab.research.google.com/github/ykitaguchi77/GAN/blob/master/Scrape_Pinterest.ipynb\" target=\"_parent\"><img src=\"https://colab.research.google.com/assets/colab-badge.svg\" alt=\"Open In Colab\"/></a>"
      ]
    },
    {
      "cell_type": "markdown",
      "source": [
        "#**Scrape images from Pinterest**"
      ],
      "metadata": {
        "id": "_q4sU18K8zHK"
      }
    },
    {
      "cell_type": "code",
      "execution_count": 1,
      "metadata": {
        "colab": {
          "base_uri": "https://localhost:8080/"
        },
        "id": "YM5hgM0B4iIf",
        "outputId": "c5faefb3-e545-4a8f-b938-1b157f4ac97d"
      },
      "outputs": [
        {
          "output_type": "stream",
          "name": "stdout",
          "text": [
            "Cloning into 'PinterestScraper'...\n",
            "remote: Enumerating objects: 13, done.\u001b[K\n",
            "remote: Total 13 (delta 0), reused 0 (delta 0), pack-reused 13\u001b[K\n",
            "Unpacking objects: 100% (13/13), done.\n",
            "/content/PinterestScraper\n"
          ]
        }
      ],
      "source": [
        "!git clone https://github.com/civiliangame/PinterestScraper.git\n",
        "%cd PinterestScraper"
      ]
    },
    {
      "cell_type": "code",
      "source": [
        "#Chromiumとseleniumをインストール\n",
        "print(\"前処理を開始\")\n",
        "!apt-get update\n",
        "!apt install chromium-chromedriver\n",
        "!cp /usr/lib/chromium-browser/chromedriver /usr/bin\n",
        "\n",
        "#!pip install -U google-colab\n",
        "#!pip install -U datascience\n",
        "#!pip install -U requests\n",
        "#!pip install -U urllib3\n",
        "!pip install selenium\n",
        "\n",
        "#ライブラリをインポート\n",
        "from selenium import webdriver\n",
        "import time\n",
        "\n",
        "#---------------------------------------------------------------------------------------\n",
        "# 処理開始\n",
        "#---------------------------------------------------------------------------------------\n",
        "# ブラウザをheadlessモード実行\n",
        "print(\"\\nブラウザを設定\")\n",
        "options = webdriver.ChromeOptions()\n",
        "options.add_argument('--headless')\n",
        "options.add_argument('--no-sandbox')\n",
        "options.add_argument('--disable-dev-shm-usage')\n",
        "driver = webdriver.Chrome('chromedriver',options=options)\n",
        "driver.implicitly_wait(10)\n",
        "\n",
        "# # サイトにアクセス\n",
        "# print(\"サイトにアクセス開始\")\n",
        "# driver.get(\"https://www.google.com/?hl=ja\")\n",
        "# time.sleep(3)\n",
        "\n",
        "# # driver.find_elements_by_css_selector(\"xxx\") 的な処理を自由に\n",
        "# print(\"サイトのタイトル：\", driver.title)\n",
        "\n",
        "# print(\"\\nお疲れさまです。\\n処理が完了しました。\")"
      ],
      "metadata": {
        "colab": {
          "base_uri": "https://localhost:8080/"
        },
        "id": "r0-cRQqsxsIc",
        "outputId": "2ecbf0da-86af-41cb-9bf7-bacf93b44d59"
      },
      "execution_count": 2,
      "outputs": [
        {
          "output_type": "stream",
          "name": "stdout",
          "text": [
            "前処理を開始\n",
            "Get:1 http://security.ubuntu.com/ubuntu bionic-security InRelease [88.7 kB]\n",
            "Hit:2 http://ppa.launchpad.net/c2d4u.team/c2d4u4.0+/ubuntu bionic InRelease\n",
            "Hit:3 http://archive.ubuntu.com/ubuntu bionic InRelease\n",
            "Get:4 http://archive.ubuntu.com/ubuntu bionic-updates InRelease [88.7 kB]\n",
            "Hit:5 https://developer.download.nvidia.com/compute/cuda/repos/ubuntu1804/x86_64  InRelease\n",
            "Hit:6 http://ppa.launchpad.net/cran/libgit2/ubuntu bionic InRelease\n",
            "Get:7 https://cloud.r-project.org/bin/linux/ubuntu bionic-cran40/ InRelease [3,626 B]\n",
            "Hit:8 http://ppa.launchpad.net/deadsnakes/ppa/ubuntu bionic InRelease\n",
            "Get:9 http://archive.ubuntu.com/ubuntu bionic-backports InRelease [74.6 kB]\n",
            "Hit:10 http://ppa.launchpad.net/graphics-drivers/ppa/ubuntu bionic InRelease\n",
            "Ign:11 https://developer.download.nvidia.com/compute/machine-learning/repos/ubuntu1804/x86_64  InRelease\n",
            "Hit:12 https://developer.download.nvidia.com/compute/machine-learning/repos/ubuntu1804/x86_64  Release\n",
            "Get:13 http://security.ubuntu.com/ubuntu bionic-security/main amd64 Packages [2,867 kB]\n",
            "Get:14 http://archive.ubuntu.com/ubuntu bionic-updates/restricted amd64 Packages [1,075 kB]\n",
            "Get:15 http://archive.ubuntu.com/ubuntu bionic-updates/universe amd64 Packages [2,297 kB]\n",
            "Get:16 http://archive.ubuntu.com/ubuntu bionic-updates/main amd64 Packages [3,302 kB]\n",
            "Fetched 9,797 kB in 2s (5,052 kB/s)\n",
            "Reading package lists... Done\n",
            "Reading package lists... Done\n",
            "Building dependency tree       \n",
            "Reading state information... Done\n",
            "The following package was automatically installed and is no longer required:\n",
            "  libnvidia-common-460\n",
            "Use 'apt autoremove' to remove it.\n",
            "The following additional packages will be installed:\n",
            "  chromium-browser chromium-browser-l10n chromium-codecs-ffmpeg-extra\n",
            "Suggested packages:\n",
            "  webaccounts-chromium-extension unity-chromium-extension\n",
            "The following NEW packages will be installed:\n",
            "  chromium-browser chromium-browser-l10n chromium-chromedriver\n",
            "  chromium-codecs-ffmpeg-extra\n",
            "0 upgraded, 4 newly installed, 0 to remove and 49 not upgraded.\n",
            "Need to get 89.8 MB of archives.\n",
            "After this operation, 302 MB of additional disk space will be used.\n",
            "Get:1 http://archive.ubuntu.com/ubuntu bionic-updates/universe amd64 chromium-codecs-ffmpeg-extra amd64 101.0.4951.64-0ubuntu0.18.04.1 [1,142 kB]\n",
            "Get:2 http://archive.ubuntu.com/ubuntu bionic-updates/universe amd64 chromium-browser amd64 101.0.4951.64-0ubuntu0.18.04.1 [78.5 MB]\n",
            "Get:3 http://archive.ubuntu.com/ubuntu bionic-updates/universe amd64 chromium-browser-l10n all 101.0.4951.64-0ubuntu0.18.04.1 [4,980 kB]\n",
            "Get:4 http://archive.ubuntu.com/ubuntu bionic-updates/universe amd64 chromium-chromedriver amd64 101.0.4951.64-0ubuntu0.18.04.1 [5,153 kB]\n",
            "Fetched 89.8 MB in 1s (70.5 MB/s)\n",
            "Selecting previously unselected package chromium-codecs-ffmpeg-extra.\n",
            "(Reading database ... 155639 files and directories currently installed.)\n",
            "Preparing to unpack .../chromium-codecs-ffmpeg-extra_101.0.4951.64-0ubuntu0.18.04.1_amd64.deb ...\n",
            "Unpacking chromium-codecs-ffmpeg-extra (101.0.4951.64-0ubuntu0.18.04.1) ...\n",
            "Selecting previously unselected package chromium-browser.\n",
            "Preparing to unpack .../chromium-browser_101.0.4951.64-0ubuntu0.18.04.1_amd64.deb ...\n",
            "Unpacking chromium-browser (101.0.4951.64-0ubuntu0.18.04.1) ...\n",
            "Selecting previously unselected package chromium-browser-l10n.\n",
            "Preparing to unpack .../chromium-browser-l10n_101.0.4951.64-0ubuntu0.18.04.1_all.deb ...\n",
            "Unpacking chromium-browser-l10n (101.0.4951.64-0ubuntu0.18.04.1) ...\n",
            "Selecting previously unselected package chromium-chromedriver.\n",
            "Preparing to unpack .../chromium-chromedriver_101.0.4951.64-0ubuntu0.18.04.1_amd64.deb ...\n",
            "Unpacking chromium-chromedriver (101.0.4951.64-0ubuntu0.18.04.1) ...\n",
            "Setting up chromium-codecs-ffmpeg-extra (101.0.4951.64-0ubuntu0.18.04.1) ...\n",
            "Setting up chromium-browser (101.0.4951.64-0ubuntu0.18.04.1) ...\n",
            "update-alternatives: using /usr/bin/chromium-browser to provide /usr/bin/x-www-browser (x-www-browser) in auto mode\n",
            "update-alternatives: using /usr/bin/chromium-browser to provide /usr/bin/gnome-www-browser (gnome-www-browser) in auto mode\n",
            "Setting up chromium-chromedriver (101.0.4951.64-0ubuntu0.18.04.1) ...\n",
            "Setting up chromium-browser-l10n (101.0.4951.64-0ubuntu0.18.04.1) ...\n",
            "Processing triggers for man-db (2.8.3-2ubuntu0.1) ...\n",
            "Processing triggers for hicolor-icon-theme (0.17-2) ...\n",
            "Processing triggers for mime-support (3.60ubuntu1) ...\n",
            "Processing triggers for libc-bin (2.27-3ubuntu1.3) ...\n",
            "/sbin/ldconfig.real: /usr/local/lib/python3.7/dist-packages/ideep4py/lib/libmkldnn.so.0 is not a symbolic link\n",
            "\n",
            "cp: '/usr/lib/chromium-browser/chromedriver' and '/usr/bin/chromedriver' are the same file\n",
            "Looking in indexes: https://pypi.org/simple, https://us-python.pkg.dev/colab-wheels/public/simple/\n",
            "Collecting selenium\n",
            "  Downloading selenium-4.3.0-py3-none-any.whl (981 kB)\n",
            "\u001b[K     |████████████████████████████████| 981 kB 16.9 MB/s \n",
            "\u001b[?25hCollecting trio-websocket~=0.9\n",
            "  Downloading trio_websocket-0.9.2-py3-none-any.whl (16 kB)\n",
            "Collecting urllib3[secure,socks]~=1.26\n",
            "  Downloading urllib3-1.26.9-py2.py3-none-any.whl (138 kB)\n",
            "\u001b[K     |████████████████████████████████| 138 kB 92.7 MB/s \n",
            "\u001b[?25hCollecting trio~=0.17\n",
            "  Downloading trio-0.21.0-py3-none-any.whl (358 kB)\n",
            "\u001b[K     |████████████████████████████████| 358 kB 89.7 MB/s \n",
            "\u001b[?25hRequirement already satisfied: sortedcontainers in /usr/local/lib/python3.7/dist-packages (from trio~=0.17->selenium) (2.4.0)\n",
            "Collecting outcome\n",
            "  Downloading outcome-1.2.0-py2.py3-none-any.whl (9.7 kB)\n",
            "Requirement already satisfied: attrs>=19.2.0 in /usr/local/lib/python3.7/dist-packages (from trio~=0.17->selenium) (21.4.0)\n",
            "Collecting async-generator>=1.9\n",
            "  Downloading async_generator-1.10-py3-none-any.whl (18 kB)\n",
            "Collecting sniffio\n",
            "  Downloading sniffio-1.2.0-py3-none-any.whl (10 kB)\n",
            "Requirement already satisfied: idna in /usr/local/lib/python3.7/dist-packages (from trio~=0.17->selenium) (2.10)\n",
            "Collecting wsproto>=0.14\n",
            "  Downloading wsproto-1.1.0-py3-none-any.whl (24 kB)\n",
            "Requirement already satisfied: PySocks!=1.5.7,<2.0,>=1.5.6 in /usr/local/lib/python3.7/dist-packages (from urllib3[secure,socks]~=1.26->selenium) (1.7.1)\n",
            "Collecting cryptography>=1.3.4\n",
            "  Downloading cryptography-37.0.2-cp36-abi3-manylinux_2_24_x86_64.whl (4.0 MB)\n",
            "\u001b[K     |████████████████████████████████| 4.0 MB 62.7 MB/s \n",
            "\u001b[?25hCollecting pyOpenSSL>=0.14\n",
            "  Downloading pyOpenSSL-22.0.0-py2.py3-none-any.whl (55 kB)\n",
            "\u001b[K     |████████████████████████████████| 55 kB 5.5 MB/s \n",
            "\u001b[?25hRequirement already satisfied: certifi in /usr/local/lib/python3.7/dist-packages (from urllib3[secure,socks]~=1.26->selenium) (2022.6.15)\n",
            "Requirement already satisfied: cffi>=1.12 in /usr/local/lib/python3.7/dist-packages (from cryptography>=1.3.4->urllib3[secure,socks]~=1.26->selenium) (1.15.0)\n",
            "Requirement already satisfied: pycparser in /usr/local/lib/python3.7/dist-packages (from cffi>=1.12->cryptography>=1.3.4->urllib3[secure,socks]~=1.26->selenium) (2.21)\n",
            "Collecting h11<1,>=0.9.0\n",
            "  Downloading h11-0.13.0-py3-none-any.whl (58 kB)\n",
            "\u001b[K     |████████████████████████████████| 58 kB 8.4 MB/s \n",
            "\u001b[?25hRequirement already satisfied: typing-extensions in /usr/local/lib/python3.7/dist-packages (from h11<1,>=0.9.0->wsproto>=0.14->trio-websocket~=0.9->selenium) (4.1.1)\n",
            "Installing collected packages: sniffio, outcome, h11, cryptography, async-generator, wsproto, urllib3, trio, pyOpenSSL, trio-websocket, selenium\n",
            "  Attempting uninstall: urllib3\n",
            "    Found existing installation: urllib3 1.24.3\n",
            "    Uninstalling urllib3-1.24.3:\n",
            "      Successfully uninstalled urllib3-1.24.3\n",
            "\u001b[31mERROR: pip's dependency resolver does not currently take into account all the packages that are installed. This behaviour is the source of the following dependency conflicts.\n",
            "requests 2.23.0 requires urllib3!=1.25.0,!=1.25.1,<1.26,>=1.21.1, but you have urllib3 1.26.9 which is incompatible.\n",
            "datascience 0.10.6 requires folium==0.2.1, but you have folium 0.8.3 which is incompatible.\u001b[0m\n",
            "Successfully installed async-generator-1.10 cryptography-37.0.2 h11-0.13.0 outcome-1.2.0 pyOpenSSL-22.0.0 selenium-4.3.0 sniffio-1.2.0 trio-0.21.0 trio-websocket-0.9.2 urllib3-1.26.9 wsproto-1.1.0\n",
            "\n",
            "ブラウザを設定\n"
          ]
        }
      ]
    },
    {
      "cell_type": "markdown",
      "source": [
        "#**Modules**"
      ],
      "metadata": {
        "id": "ZP-dF_Wp6-4c"
      }
    },
    {
      "cell_type": "code",
      "source": [
        "from bs4 import BeautifulSoup\n",
        "import time\n",
        "from selenium import webdriver\n",
        "from selenium.webdriver.support import ui\n",
        "from EnglishScraper import ScrapingEssentials\n",
        "import threading\n",
        "from selenium.webdriver.support.ui import WebDriverWait\n",
        "from selenium.webdriver.common.by import By\n",
        "from selenium.webdriver.support import expected_conditions as EC\n",
        "import os\n",
        "import shutil\n",
        "\n",
        "\n",
        "def page_is_loaded(driver):\n",
        "    return driver.find_element(By.TAG_NAME, \"body\") != None\n",
        "\n",
        "def login(driver, username, password):\n",
        "    if driver.current_url != \"https://www.pinterest.com/login/?referrer=home_page\":\n",
        "        driver.get(\"https://www.pinterest.com/login/?referrer=home_page\")\n",
        "    wait = ui.WebDriverWait(driver, 10)\n",
        "    wait.until(page_is_loaded)\n",
        "    email = driver.find_element(By.XPATH, \"//input[@type='email']\")\n",
        "    password = driver.find_element(By.XPATH,\"//input[@type='password']\")\n",
        "    email.send_keys(\"sxh779@case.edu\")\n",
        "    password.send_keys(\"multithreading\")\n",
        "    # driver.find_element_by_xpath(\"//div[@data-reactid='30']\").click()\n",
        "    password.submit()\n",
        "    time.sleep(3)\n",
        "    print(\"Teleport Successful!\")\n",
        "\n",
        "# Finds the detailed product page of each \"pin\" for pinterest\n",
        "def download_pages(driver, valid_urls):\n",
        "    list_counter = 0\n",
        "\n",
        "    # Pinterest happens to change its HTML every once in a while to prevent botting.\n",
        "\n",
        "    # This should account for all the differences\n",
        "    # soup = BeautifulSoup(driver.page_source, \"lxml\")\n",
        "    # for pinWrapper in soup.find_all(\"div\", {\"class\": \"pinWrapper\"}):\n",
        "    #     class_name = pinWrapper.get(\"class\")\n",
        "    #     print(class_name)\n",
        "    #     if \"_o\" in class_name[0]:\n",
        "    #         print(class_name)\n",
        "    #         break\n",
        "    #\n",
        "    # #Finds the tags of the HTML and adjusts it\n",
        "    # name = \" \".join(class_name)\n",
        "    # print(name)\n",
        "\n",
        "    # Does this until you have 10000 items or the program has gone on for long enough, meaning that it reached the end of results\n",
        "    beginning = time.time()\n",
        "    end = time.time()\n",
        "    while list_counter < 10000 and beginning - end < 30:\n",
        "        beginning = time.time()\n",
        "        # ----------------------------------EDIT THE CODE BELOW------------------------------#\n",
        "        # Locate all the urls of the detailed pins\n",
        "        soup = BeautifulSoup(driver.page_source, \"html.parser\")\n",
        "        # for c in soup.find_all(\"div\", {\"class\": name}):\n",
        "        for pinLink in soup.find_all(\"div\", {\"class\": \"pinWrapper\"}):\n",
        "            for a in pinLink.find_all(\"a\"):\n",
        "                print(pinLink)\n",
        "                url = (\"https://pinterest.com\" + str(a.get(\"href\")))\n",
        "                print(url)\n",
        "                # Checks and makes sure that the pin isn't there already and that random urls are not invited\n",
        "                if len(url) < 60 and url not in valid_urls and \"A\" not in url:\n",
        "                    # ---------------------------------EDIT THE CODE ABOVE-------------------------------#\n",
        "                    valid_urls.append(url)\n",
        "                    print(\"found the detailed page of: \" + str(list_counter))\n",
        "                    list_counter += 1\n",
        "                    end = time.time()\n",
        "                time.sleep(.15)\n",
        "                # Scroll down now\n",
        "        driver.execute_script(\"window.scrollBy(0,300)\")\n",
        "    return\n",
        "\n",
        "# Downloads the image files from the img urls\n",
        "def get_pic(valid_urls, driver):\n",
        "    print(\"hey\")\n",
        "    get_pic_counter = 0\n",
        "    time.sleep(5)\n",
        "    while (get_pic_counter < len(valid_urls)):\n",
        "        print(0)\n",
        "        # Now, we can just type in the URL and pinterest will not block us\n",
        "        for urls in valid_urls:\n",
        "            driver.get(urls)\n",
        "            # Wait until the page is loaded\n",
        "            if driver.current_url == urls:\n",
        "                wait = ui.WebDriverWait(driver, 10)\n",
        "                wait.until(page_is_loaded)\n",
        "                loaded = True\n",
        "            print(1)\n",
        "            # -----------------------------------EDIT THE CODE BELOW IF PINTEREST CHANGES---------------------------#\n",
        "            # Extract the image url\n",
        "            soup = BeautifulSoup(driver.page_source, \"html.parser\")\n",
        "            print(2)\n",
        "            for mainContainer in soup.find_all(\"div\", {\"class\": \"mainContainer\"}):\n",
        "                print(3)\n",
        "                for closeupContainer in mainContainer.find_all(\"div\", {\"class\": \"closeupContainer\"}):\n",
        "                    print(4)\n",
        "                    # for heightContainer in closeupContainer.find_all(\"div\", {\"class\": \"FlashlightEnabledImage Module\"}):\n",
        "                    print(5)\n",
        "                    for img in closeupContainer.find_all(\"img\"):\n",
        "                        print(6)\n",
        "                        print(\"hello\")\n",
        "                        img_link = img.get(\"src\")\n",
        "                        if \"564\" in img_link:\n",
        "                            print(\"found the img url of: \" + str(get_pic_counter))\n",
        "                            get_pic_counter += 1\n",
        "                            t.download_image(img_link)\n",
        "                            break\n",
        "\n",
        "def get_url_list(keyword, img_num, driver):\n",
        "    \n",
        "    #ページを開く\n",
        "    driver.get(\"https://pinterest.com/search/pins/?q=\" + str(keyword) + \"&rs=typed&term_meta[]=\" + str(\n",
        "              keyword) + \"%7Ctyped\")\n",
        "    #ページ読み込み待ち\n",
        "    wait = ui.WebDriverWait(driver, 10)\n",
        "    wait.until(page_is_loaded)\n",
        "    \n",
        "    all_pin_data = []\n",
        "    while 1:\n",
        "        # scroll\n",
        "        driver1.execute_script(\"window.scrollBy(0,10000)\")\n",
        "        time.sleep(3)\n",
        "        driver1.execute_script(\"window.scrollBy(0,10000)\")\n",
        "        time.sleep(3)\n",
        "\n",
        "        # get the html now\n",
        "        page_source = driver.page_source\n",
        "        page = BeautifulSoup(page_source, 'html.parser')\n",
        "\n",
        "        # 'GrowthUnauthPinImage' is the class of all the pins\n",
        "        # Here we take divs which have a with href as pin number\n",
        "        pin_data = page.find_all('div', \"Yl- MIw Hb7\")\n",
        "        all_pin_data.extend(pin_data)\n",
        "        temp = all_pin_data\n",
        "        all_pin_data = list(set(all_pin_data)) #リスト内の重複を削除\n",
        "\n",
        "        print(\"duplicate: {}\".format(len(temp) - len(all_pin_data)))\n",
        "        print(\"total: {}\".format(len(all_pin_data)))\n",
        "        print(\"\")\n",
        "\n",
        "        #pin_dataの数がimg_numを超えたら終了\n",
        "        if len(all_pin_data) > img_num:\n",
        "            break\n",
        "\n",
        "    # アドレスのリストを追加\n",
        "    url_list = []\n",
        "    for i in range(len(all_pin_data)):\n",
        "        url_list.append('https://www.pinterest.com' +\n",
        "                    all_pin_data[i].find('a')['href'])\n",
        "        print('https://www.pinterest.com' +\n",
        "                    all_pin_data[i].find('a')['href']) \n",
        "    return url_list\n",
        "\n",
        "\n",
        "\n",
        "    def get_url_img(url, driver):\n",
        "    \n",
        "        #ページを開く\n",
        "        driver.get(url)\n",
        "        #ページ読み込み待ち\n",
        "        wait = ui.WebDriverWait(driver, 10)\n",
        "        wait.until(page_is_loaded)\n",
        "        \n",
        "        page_source = driver.page_source\n",
        "        page = BeautifulSoup(page_source, 'html.parser')\n",
        "\n",
        "        \n",
        "\n",
        "    while 1:\n",
        "        # scroll\n",
        "        driver1.execute_script(\"window.scrollBy(0,10000)\")\n",
        "        time.sleep(3)\n",
        "        driver1.execute_script(\"window.scrollBy(0,10000)\")\n",
        "        time.sleep(3)\n",
        "\n",
        "        # get the html now\n",
        "        \n",
        "\n",
        "        # 'GrowthUnauthPinImage' is the class of all the pins\n",
        "        # Here we take divs which have a with href as pin number\n",
        "        pin_data = page.find_all('div', \"Yl- MIw Hb7\")\n",
        "        all_pin_data.extend(pin_data)\n",
        "        temp = all_pin_data\n",
        "        all_pin_data = list(set(all_pin_data)) #リスト内の重複を削除\n",
        "\n",
        "        print(\"duplicate: {}\".format(len(temp) - len(all_pin_data)))\n",
        "        print(\"total: {}\".format(len(all_pin_data)))\n",
        "        print(\"\")\n",
        "\n",
        "        #pin_dataの数がimg_numを超えたら終了\n",
        "        if len(all_pin_data) > img_num:\n",
        "            break\n",
        "\n",
        "    # アドレスのリストを追加\n",
        "    url_list = []\n",
        "    for i in range(len(all_pin_data)):\n",
        "        url_list.append('https://www.pinterest.com' +\n",
        "                    all_pin_data[i].find('a')['href'])\n",
        "        print('https://www.pinterest.com' +\n",
        "                    all_pin_data[i].find('a')['href']) \n",
        "    return url_list\n",
        "        \n",
        "\n",
        "\n",
        "            # ---------------------------------EDIT THE CODE ABOVE IF PINTEREST CHANGES-----------------------------#\n"
      ],
      "metadata": {
        "id": "IUoRBwv66_DH"
      },
      "execution_count": 37,
      "outputs": []
    },
    {
      "cell_type": "code",
      "source": [
        "t = ScrapingEssentials(\"Pinterest\")\n",
        "keyword_list = t.english_pickle()\n",
        "print(keyword_list)\n",
        "\n",
        "#ChromeDriverをheadlessモードにする\n",
        "options = webdriver.ChromeOptions()\n",
        "options.add_argument('--headless')\n",
        "options.add_argument('--no-sandbox')\n",
        "options.add_argument('--disable-dev-shm-usage')\n",
        "\n",
        "\n",
        "driver1 = webdriver.Chrome('chromedriver',options=options)\n",
        "driver2 = webdriver.Chrome('chromedriver',options=options)\n",
        "driver1.implicitly_wait(10) # 秒\n",
        "\n",
        "driver1.get(\"https://www.pinterest.com/login/?referrer=home_page\")\n",
        "driver2.get(\"https://www.pinterest.com/login/?referrer=home_page\")\n",
        "\n",
        "login(driver1, \"e-mail\", \"password\")\n",
        "login(driver2, \"e-mail\", \"password\")\n",
        "\n",
        "# loaded = False\n",
        "# while loaded == False:\n",
        "#     if driver1.current_url != \"https://www.pinterest.com/login/?referrer=home_page\":\n",
        "#         loaded = True\n",
        "\n",
        "#カレントページのURLを取得して表示\n",
        "cur_url = driver1.current_url\n",
        "print(\"current_url: {}\".format(cur_url))\n",
        "\n",
        "#\n",
        "for keyword in keyword_list:\n",
        "    print(\"start\")\n",
        "    print(keyword)\n",
        "\n",
        "    url_list = get_url_list(keyword, 50,driver1)\n",
        "\n",
        "    \n",
        "print(\"done\")"
      ],
      "metadata": {
        "id": "oVgL3EGuzxw2"
      },
      "execution_count": null,
      "outputs": []
    },
    {
      "cell_type": "code",
      "source": [
        "get_url_list(\"girls\", 50, driver1)"
      ],
      "metadata": {
        "colab": {
          "base_uri": "https://localhost:8080/"
        },
        "id": "IdyXRzteUy8y",
        "outputId": "4c2ecd81-d484-4493-aeb0-294dcaa4b8c4"
      },
      "execution_count": 28,
      "outputs": [
        {
          "output_type": "stream",
          "name": "stdout",
          "text": [
            "duplicate: 0\n",
            "total: 17\n",
            "\n",
            "duplicate: 0\n",
            "total: 34\n",
            "\n",
            "duplicate: 0\n",
            "total: 49\n",
            "\n",
            "duplicate: 0\n",
            "total: 63\n",
            "\n"
          ]
        }
      ]
    },
    {
      "cell_type": "markdown",
      "source": [
        "#**動きの確認**"
      ],
      "metadata": {
        "id": "C-5JpBzmBxYL"
      }
    },
    {
      "cell_type": "code",
      "source": [
        "print(keyword)"
      ],
      "metadata": {
        "colab": {
          "base_uri": "https://localhost:8080/"
        },
        "id": "WDScRIOHBqrC",
        "outputId": "15f40d41-88bb-4e9b-cfbe-e78fc93bc2e0"
      },
      "execution_count": 8,
      "outputs": [
        {
          "output_type": "stream",
          "name": "stdout",
          "text": [
            "Kia\n"
          ]
        }
      ]
    },
    {
      "cell_type": "code",
      "source": [
        "#アドレスが開くかどうかを確認\n",
        "driver1.get(\"https://pinterest.com/search/pins/?q=\" + str(keyword) + \"&rs=typed&term_meta[]=\" + str(\n",
        "            keyword) + \"%7Ctyped\")\n"
      ],
      "metadata": {
        "id": "Rch7fVeS77RB"
      },
      "execution_count": 9,
      "outputs": []
    },
    {
      "cell_type": "code",
      "source": [
        "#カレントページのURLを取得して表示\n",
        "cur_url = driver1.current_url\n",
        "print(\"current_url: {}\".format(cur_url))"
      ],
      "metadata": {
        "colab": {
          "base_uri": "https://localhost:8080/"
        },
        "id": "7Dr-rzT6Bhz2",
        "outputId": "5366846c-8cd9-4144-99af-c92af75b2362"
      },
      "execution_count": 10,
      "outputs": [
        {
          "output_type": "stream",
          "name": "stdout",
          "text": [
            "current_url: https://www.pinterest.com/search/pins/?q=Kia&rs=typed&term_meta[]=Kia%7Ctyped\n"
          ]
        }
      ]
    },
    {
      "cell_type": "code",
      "source": [
        "driver1.execute_script(\"window.scrollBy(0,10000)\")\n",
        "time.sleep(3)\n",
        "driver1.execute_script(\"window.scrollBy(0,10000)\")\n",
        "time.sleep(3)"
      ],
      "metadata": {
        "id": "fGllqRg7LKTf"
      },
      "execution_count": 11,
      "outputs": []
    },
    {
      "cell_type": "code",
      "source": [
        "soup = BeautifulSoup(driver1.page_source, \"html.parser\")\n",
        "print(soup)"
      ],
      "metadata": {
        "id": "Im6iPJpBBYiC"
      },
      "execution_count": null,
      "outputs": []
    },
    {
      "cell_type": "code",
      "source": [
        "import pandas as pd\n",
        "\n",
        "\n",
        "def get_url_list(keyword, driver):\n",
        "    \n",
        "    #ページを開く\n",
        "    driver.get(\"https://pinterest.com/search/pins/?q=\" + str(keyword) + \"&rs=typed&term_meta[]=\" + str(\n",
        "              keyword) + \"%7Ctyped\")\n",
        "    #ページ読み込み待ち\n",
        "    wait = ui.WebDriverWait(driver, 10)\n",
        "    wait.until(page_is_loaded)\n",
        "    \n",
        "    all_pin_data = []\n",
        "    while 1:\n",
        "        # scroll\n",
        "        driver1.execute_script(\"window.scrollBy(0,10000)\")\n",
        "        time.sleep(3)\n",
        "        driver1.execute_script(\"window.scrollBy(0,10000)\")\n",
        "        time.sleep(3)\n",
        "\n",
        "        # get the html now\n",
        "        page_source = driver.page_source\n",
        "        page = BeautifulSoup(page_source, 'html.parser')\n",
        "\n",
        "        # 'GrowthUnauthPinImage' is the class of all the pins\n",
        "        # Here we take divs which have a with href as pin number\n",
        "        pin_data = page.find_all('div', \"Yl- MIw Hb7\")\n",
        "        all_pin_data.extend(pin_data)\n",
        "        temp = all_pin_data\n",
        "        all_pin_data = list(set(all_pin_data)) #リスト内の重複を削除\n",
        "\n",
        "        print(\"duplicate: {}\".format(len(temp) - len(all_pin_data)))\n",
        "        print(\"total: {}\".format(len(all_pin_data)))\n",
        "        print(\"\")\n",
        "\n",
        "        if len(all_pin_data) > 50:\n",
        "            break\n",
        "\n",
        "    # アドレスのリストを追加\n",
        "    hrefs = []\n",
        "    for i in range(len(all_pin_data)):\n",
        "        hrefs.append('https://www.pinterest.com' +\n",
        "                    all_pin_data[i].find('a')['href'] + 'visual-search/')\n",
        "\n",
        "# save to CSV\n",
        "df = pd.DataFrame({'PID_URLS': hrefs[:50]})\n",
        "df.to_csv(\"pintrest.csv\", index=False)"
      ],
      "metadata": {
        "colab": {
          "base_uri": "https://localhost:8080/"
        },
        "id": "rwCES9I_LX5E",
        "outputId": "be99afd1-eded-4297-ab53-ccc45fd104b6"
      },
      "execution_count": 19,
      "outputs": [
        {
          "output_type": "stream",
          "name": "stdout",
          "text": [
            "duplicate: 0\n",
            "total: 21\n",
            "\n",
            "duplicate: 0\n",
            "total: 44\n",
            "\n",
            "duplicate: 0\n",
            "total: 68\n",
            "\n"
          ]
        }
      ]
    },
    {
      "cell_type": "code",
      "source": [
        "url = \"https://www.pinterest.com/pin/516295544771307338/\"\n",
        "\n",
        "driver2.get(url)"
      ],
      "metadata": {
        "id": "0dlJFDagOFSx"
      },
      "execution_count": 40,
      "outputs": []
    },
    {
      "cell_type": "code",
      "source": [
        "  page_source = driver2.page_source\n",
        "  page = BeautifulSoup(page_source, 'html.parser')"
      ],
      "metadata": {
        "id": "AEgNymA7geOI"
      },
      "execution_count": 41,
      "outputs": []
    },
    {
      "cell_type": "code",
      "source": [
        "pin_data = page.find_all('div', \"Yl- MIw Hb7\")\n",
        "print(pin_data)"
      ],
      "metadata": {
        "colab": {
          "base_uri": "https://localhost:8080/"
        },
        "id": "r6hDElEzNHCX",
        "outputId": "bb652718-f6d8-49f0-ee06-c7847a2293c6"
      },
      "execution_count": 43,
      "outputs": [
        {
          "output_type": "stream",
          "name": "stdout",
          "text": [
            "[<div class=\"Yl- MIw Hb7\" data-grid-item=\"true\" role=\"listitem\" style=\"top: 0px; left: 0px; transform: translateX(8px) translateY(0px); width: 236px; height: 274px;\"><div aria-disabled=\"false\" class=\"CCY czT eEj iyn DI9 BG7\" role=\"button\" tabindex=\"0\"><div class=\"zI7 iyn Hsu\"><div class=\"zI7 iyn Hsu zmN\" data-test-id=\"pin\" data-test-pin-id=\"303570831128517381\"><div class=\"lnZ wsz zI7 iyn Hsu zmN\" data-test-id=\"pin-with-alt-text\"><div class=\"zI7 iyn Hsu\" data-test-id=\"deeplink-wrapper\"><a class=\"Wk9 CCY czT ho- kVc xQ4 iyn\" href=\"/pin/303570831128517381/\" rel=\"\"><div class=\"PinCard__imageWrapper\" style=\"position: relative;\"><div class=\"XiG ho- sLG zI7 iyn Hsu\" data-test-id=\"pincard-image-with-link\" style=\"will-change: transform; text-decoration: none;\"><div class=\"XiG zI7 iyn Hsu\" data-test-id=\"pin-visual-wrapper\"><div class=\"Pj7 sLG XiG ho- m1e\"><div class=\"XiG zI7 iyn Hsu\" style=\"background-color: rgb(121, 128, 129); padding-bottom: 66.1017%;\"><img alt=\"Post Your Pictures Here! - Page 322 - Hyundai Forums : Hyundai Forum My Dream Car, Dream Cars, Elantra Car, Plymouth Duster, Orange Kitchen, Emoji Wallpaper, Loft Design, Industrial Loft, Car Tuning\" class=\"hCL kVc L4E MIw\" importance=\"auto\" loading=\"auto\" src=\"https://i.pinimg.com/236x/1c/a7/0e/1ca70e7b3411755d50fa9a129599607d--dreams-pictures.jpg\"/></div><div class=\"KPc MIw ojN Rym p6V QLY\"></div></div></div></div></div></a></div><div class=\"zI7 iyn Hsu\"><div class=\"gjz hs0 jx- un8 C9i\"><div class=\"Jea XiG sLG zI7 iyn Hsu\" data-test-id=\"vase-carousel\" style=\"width: 100%;\"><div class=\"sLG zI7 iyn Hsu\" style=\"scroll-behavior: smooth; padding: 4px 0px; white-space: nowrap;\"><div class=\"C9q FNs OVX Rz6 _HI hDW wYR zI7 iyn Hsu\" data-test-id=\"vase-tag\" style=\"height: 26px; white-space: nowrap;\"><span class=\"tBJ dyH iFc dR0 O2T zDA IZT mWe\"><a class=\"Wk9 CCY czT OVX KhY xQ4 uCz iyn\" href=\"/ideas/my-dream-car/929767421249/\" rel=\"\">My Dream Car</a></span></div><div class=\"C9q FNs OVX Rz6 _HI hDW wYR zI7 iyn Hsu\" data-test-id=\"vase-tag\" style=\"height: 26px; white-space: nowrap;\"><span class=\"tBJ dyH iFc dR0 O2T zDA IZT mWe\"><a class=\"Wk9 CCY czT OVX KhY xQ4 uCz iyn\" href=\"/brenengen/dream-cars/\" rel=\"\">Dream Cars</a></span></div><div class=\"C9q FNs OVX Rz6 _HI hDW wYR zI7 iyn Hsu\" data-test-id=\"vase-tag\" style=\"height: 26px; white-space: nowrap;\"><span class=\"tBJ dyH iFc dR0 O2T zDA IZT mWe\"><a class=\"Wk9 CCY czT OVX KhY xQ4 uCz iyn\" href=\"/jdh_ovey/elantra-car-mods/\" rel=\"\">Elantra Car</a></span></div><div class=\"C9q FNs OVX Rz6 _HI hDW wYR zI7 iyn Hsu\" data-test-id=\"vase-tag\" style=\"height: 26px; white-space: nowrap;\"><span class=\"tBJ dyH iFc dR0 O2T zDA IZT mWe\"><a class=\"Wk9 CCY czT OVX KhY xQ4 uCz iyn\" href=\"/ideas/plymouth-duster/927614617692/\" rel=\"\">Plymouth Duster</a></span></div><div class=\"C9q FNs OVX Rz6 _HI hDW wYR zI7 iyn Hsu\" data-test-id=\"vase-tag\" style=\"height: 26px; white-space: nowrap;\"><span class=\"tBJ dyH iFc dR0 O2T zDA IZT mWe\"><a class=\"Wk9 CCY czT OVX KhY xQ4 uCz iyn\" href=\"/mwilliams/orange-kitchen/\" rel=\"\">Orange Kitchen</a></span></div><div class=\"C9q FNs OVX Rz6 _HI hDW wYR zI7 iyn Hsu\" data-test-id=\"vase-tag\" style=\"height: 26px; white-space: nowrap;\"><span class=\"tBJ dyH iFc dR0 O2T zDA IZT mWe\"><a class=\"Wk9 CCY czT OVX KhY xQ4 uCz iyn\" href=\"/azaiterminomccullough/emoji-wallpaper/\" rel=\"\">Emoji Wallpaper</a></span></div><div class=\"C9q FNs OVX Rz6 _HI hDW wYR zI7 iyn Hsu\" data-test-id=\"vase-tag\" style=\"height: 26px; white-space: nowrap;\"><span class=\"tBJ dyH iFc dR0 O2T zDA IZT mWe\"><a class=\"Wk9 CCY czT OVX KhY xQ4 uCz iyn\" href=\"/loftdesignrus/loft-design/\" rel=\"\">Loft Design</a></span></div><div class=\"C9q FNs OVX Rz6 _HI hDW wYR zI7 iyn Hsu\" data-test-id=\"vase-tag\" style=\"height: 26px; white-space: nowrap;\"><span class=\"tBJ dyH iFc dR0 O2T zDA IZT mWe\"><a class=\"Wk9 CCY czT OVX KhY xQ4 uCz iyn\" href=\"/kathykuohome/industrial-loft/\" rel=\"\">Industrial Loft</a></span></div><div class=\"C9q FNs OVX Rz6 _HI hDW wYR zI7 iyn Hsu\" data-test-id=\"vase-tag\" style=\"height: 26px; white-space: nowrap;\"><span class=\"tBJ dyH iFc dR0 O2T zDA IZT mWe\"><a class=\"Wk9 CCY czT OVX KhY xQ4 uCz iyn\" href=\"/elprofe_1787/car-tuning/\" rel=\"\">Car Tuning</a></span></div></div><div class=\"zI7 iyn Hsu\" data-test-id=\"board-pills-arrow-button-right\"><div aria-hidden=\"true\" aria-label=\"arrow\" data-test-id=\"right-scroll-arrow\" role=\"button\" style=\"align-items: center; background: linear-gradient(to left, rgb(255, 255, 255) 25%, rgba(255, 255, 255, 0) 100%); border: none; cursor: pointer; display: flex; height: 30px; line-height: 25; outline: none; padding-bottom: 4px; padding-top: 4px; position: absolute; top: 0px; width: 45px; right: 0px; justify-content: flex-end; text-align: right;\" tabindex=\"-1\"><div class=\"zI7 iyn Hsu\" data-test-id=\"board-pills-arrow\"><svg aria-label=\"Scroll\" class=\"Hn_ gUZ ztu U9O kVc\" height=\"8\" role=\"img\" viewbox=\"0 0 24 24\" width=\"8\"><path d=\"M6.72 24c.57 0 1.14-.22 1.57-.66L19.5 12 8.29.66c-.86-.88-2.27-.88-3.14 0-.87.88-.87 2.3 0 3.18L13.21 12l-8.06 8.16c-.87.88-.87 2.3 0 3.18.43.44 1 .66 1.57.66\"></path></svg></div></div></div></div></div><div class=\"zI7 iyn Hsu\" data-test-id=\"deeplink-wrapper\"><a class=\"Wk9 CCY czT ho- kVc xQ4 iyn\" href=\"/pin/303570831128517381/\" rel=\"\"><div class=\"Jea Rz6 XiG xvE zI7 iyn Hsu\"><div class=\"ujU zI7 iyn Hsu\"><div class=\"Jea hDW zI7 iyn Hsu\"><div class=\"ujU zI7 iyn Hsu\"><div class=\"hDW sLG zI7 iyn Hsu\" style=\"display: -webkit-box; text-overflow: ellipsis; -webkit-box-orient: vertical; -webkit-line-clamp: 2;\"></div><div class=\"hDW sLG zI7 iyn Hsu\" data-test-id=\"desc\" style=\"display: -webkit-box; text-overflow: ellipsis; -webkit-box-orient: vertical; -webkit-line-clamp: 2;\"><div aria-disabled=\"false\" class=\"CCY czT eEj iyn FTD L4E DI9 BG7\" role=\"button\" tabindex=\"0\"><span class=\"tBJ dyH iFc dR0 O2T zDA IZT swG\">My GLS as it sits in its current state… came from stock not a lot of changes but enough for now. I call em Smoke</span></div></div></div></div><div class=\"Jea hjj zI7 iyn Hsu\"><div class=\"Eqh zI7 iyn Hsu\" data-test-id=\"related-pins-avatar-image\"><div aria-disabled=\"false\" class=\"CCY czT eEj iyn FTD L4E DI9 BG7\" role=\"button\" tabindex=\"0\"><div class=\"INd XiG zI7 iyn Hsu\" data-test-id=\"gestalt-avatar-svg\" style=\"width: 32px; height: 32px;\"><div class=\"Pj7 sLG XiG INd m1e\"><div class=\"XiG zI7 iyn Hsu\" style=\"background-color: rgb(239, 239, 239); padding-bottom: 100%;\"><img alt=\"sdemirbek\" class=\"hCL kVc L4E MIw\" importance=\"auto\" loading=\"auto\" src=\"https://i.pinimg.com/30x30_RS/6d/94/07/6d94072c354e36433a7c19655977e18f.jpg\"/></div><div class=\"KPc MIw ojN Rym p6V QLY\"></div></div></div></div></div><div class=\"Jea jzS mQ8 ujU xvE zI7 iyn Hsu\" data-test-id=\"related-pins-name\"><a class=\"Wk9 CCY czT eEj kVc xQ4 uCz iyn\" href=\"/sdemirbek/\" rel=\"\"><div class=\"tBJ dyH iFc j1A O2T zDA IZT mWe\">Dream &amp; Life😉</div></a><div class=\"zI7 iyn Hsu\" data-test-id=\"related-pin-text-below-name\"><a class=\"Wk9 CCY czT eEj kVc xQ4 uCz iyn\" href=\"/sdemirbek/denenecek-projeler/\" rel=\"\"><div class=\"tBJ dyH iFc j1A O2T zDA IZT swG\">Denenecek Projeler</div></a></div></div></div></div><div class=\"p6V zI7 iyn Hsu\"></div></div></a></div></div></div></div></div></div></div>, <div class=\"Yl- MIw Hb7\" data-grid-item=\"true\" role=\"listitem\" style=\"top: 0px; left: 0px; transform: translateX(260px) translateY(0px); width: 236px; height: 369px;\"><div aria-disabled=\"false\" class=\"CCY czT eEj iyn DI9 BG7\" role=\"button\" tabindex=\"0\"><div class=\"zI7 iyn Hsu\"><div class=\"zI7 iyn Hsu zmN\" data-test-id=\"pin\" data-test-pin-id=\"33214115992088111\"><div class=\"lnZ wsz zI7 iyn Hsu zmN\" data-test-id=\"pin-with-alt-text\"><div class=\"zI7 iyn Hsu\" data-test-id=\"deeplink-wrapper\"><a class=\"Wk9 CCY czT ho- kVc xQ4 iyn\" href=\"/pin/33214115992088111/\" rel=\"\"><div class=\"PinCard__imageWrapper\" style=\"position: relative;\"><div class=\"XiG ho- sLG zI7 iyn Hsu\" data-test-id=\"pincard-image-without-link\" style=\"will-change: transform; text-decoration: none;\"><div class=\"XiG zI7 iyn Hsu\" data-test-id=\"pin-visual-wrapper\"><div class=\"Pj7 sLG XiG ho- m1e\"><div class=\"XiG zI7 iyn Hsu\" style=\"background-color: rgb(117, 116, 110); padding-bottom: 125%;\"><img alt=\"Black Wallpaper, My Ride, Cars And Motorcycles, Baby Car, Dragon Ball, Classic Cars, Dinner, Logo\" class=\"hCL kVc L4E MIw\" importance=\"auto\" loading=\"auto\" src=\"https://i.pinimg.com/236x/bd/07/d2/bd07d24131a282db9ca557d7e4b8cabc.jpg\"/></div><div class=\"KPc MIw ojN Rym p6V QLY\"></div></div></div></div></div></a></div><div class=\"zI7 iyn Hsu\"><div class=\"gjz hs0 jx- un8 C9i\"><div class=\"Jea XiG sLG zI7 iyn Hsu\" data-test-id=\"vase-carousel\" style=\"width: 100%;\"><div class=\"sLG zI7 iyn Hsu\" style=\"scroll-behavior: smooth; padding: 4px 0px; white-space: nowrap;\"><div class=\"C9q FNs OVX Rz6 _HI hDW wYR zI7 iyn Hsu\" data-test-id=\"vase-tag\" style=\"height: 26px; white-space: nowrap;\"><span class=\"tBJ dyH iFc dR0 O2T zDA IZT mWe\"><a class=\"Wk9 CCY czT OVX KhY xQ4 uCz iyn\" href=\"/karenkittycarter/black-wallpaper/\" rel=\"\">Black Wallpaper</a></span></div><div class=\"C9q FNs OVX Rz6 _HI hDW wYR zI7 iyn Hsu\" data-test-id=\"vase-tag\" style=\"height: 26px; white-space: nowrap;\"><span class=\"tBJ dyH iFc dR0 O2T zDA IZT mWe\"><a class=\"Wk9 CCY czT OVX KhY xQ4 uCz iyn\" href=\"/sewsmart13/my-ride/\" rel=\"\">My Ride</a></span></div><div class=\"C9q FNs OVX Rz6 _HI hDW wYR zI7 iyn Hsu\" data-test-id=\"vase-tag\" style=\"height: 26px; white-space: nowrap;\"><span class=\"tBJ dyH iFc dR0 O2T zDA IZT mWe\"><a class=\"Wk9 CCY czT OVX KhY xQ4 uCz iyn\" href=\"/ayosditoph/cars-and-motorcycles/\" rel=\"\">Cars And Motorcycles</a></span></div><div class=\"C9q FNs OVX Rz6 _HI hDW wYR zI7 iyn Hsu\" data-test-id=\"vase-tag\" style=\"height: 26px; white-space: nowrap;\"><span class=\"tBJ dyH iFc dR0 O2T zDA IZT mWe\"><a class=\"Wk9 CCY czT OVX KhY xQ4 uCz iyn\" href=\"/krobath3020/baby-car/\" rel=\"\">Baby Car</a></span></div><div class=\"C9q FNs OVX Rz6 _HI hDW wYR zI7 iyn Hsu\" data-test-id=\"vase-tag\" style=\"height: 26px; white-space: nowrap;\"><span class=\"tBJ dyH iFc dR0 O2T zDA IZT mWe\"><a class=\"Wk9 CCY czT OVX KhY xQ4 uCz iyn\" href=\"/icemanfoz/dragon-ball/\" rel=\"\">Dragon Ball</a></span></div><div class=\"C9q FNs OVX Rz6 _HI hDW wYR zI7 iyn Hsu\" data-test-id=\"vase-tag\" style=\"height: 26px; white-space: nowrap;\"><span class=\"tBJ dyH iFc dR0 O2T zDA IZT mWe\"><a class=\"Wk9 CCY czT OVX KhY xQ4 uCz iyn\" href=\"/movewithbue/classic-cars/\" rel=\"\">Classic Cars</a></span></div><div class=\"C9q FNs OVX Rz6 _HI hDW wYR zI7 iyn Hsu\" data-test-id=\"vase-tag\" style=\"height: 26px; white-space: nowrap;\"><span class=\"tBJ dyH iFc dR0 O2T zDA IZT mWe\"><a class=\"Wk9 CCY czT OVX KhY xQ4 uCz iyn\" href=\"/vitamix/dinner/\" rel=\"\">Dinner</a></span></div><div class=\"C9q FNs OVX Rz6 _HI hDW wYR zI7 iyn Hsu\" data-test-id=\"vase-tag\" style=\"height: 26px; white-space: nowrap;\"><span class=\"tBJ dyH iFc dR0 O2T zDA IZT mWe\"><a class=\"Wk9 CCY czT OVX KhY xQ4 uCz iyn\" href=\"/almaznur/logo/\" rel=\"\">Logo</a></span></div></div><div class=\"zI7 iyn Hsu\" data-test-id=\"board-pills-arrow-button-right\"><div aria-hidden=\"true\" aria-label=\"arrow\" data-test-id=\"right-scroll-arrow\" role=\"button\" style=\"align-items: center; background: linear-gradient(to left, rgb(255, 255, 255) 25%, rgba(255, 255, 255, 0) 100%); border: none; cursor: pointer; display: flex; height: 30px; line-height: 25; outline: none; padding-bottom: 4px; padding-top: 4px; position: absolute; top: 0px; width: 45px; right: 0px; justify-content: flex-end; text-align: right;\" tabindex=\"-1\"><div class=\"zI7 iyn Hsu\" data-test-id=\"board-pills-arrow\"><svg aria-label=\"Scroll\" class=\"Hn_ gUZ ztu U9O kVc\" height=\"8\" role=\"img\" viewbox=\"0 0 24 24\" width=\"8\"><path d=\"M6.72 24c.57 0 1.14-.22 1.57-.66L19.5 12 8.29.66c-.86-.88-2.27-.88-3.14 0-.87.88-.87 2.3 0 3.18L13.21 12l-8.06 8.16c-.87.88-.87 2.3 0 3.18.43.44 1 .66 1.57.66\"></path></svg></div></div></div></div></div><div class=\"zI7 iyn Hsu\" data-test-id=\"deeplink-wrapper\"><a class=\"Wk9 CCY czT ho- kVc xQ4 iyn\" href=\"/pin/33214115992088111/\" rel=\"\"><div class=\"Jea Rz6 XiG xvE zI7 iyn Hsu\"><div class=\"ujU zI7 iyn Hsu\"><div class=\"Jea hDW zI7 iyn Hsu\"><div class=\"ujU zI7 iyn Hsu\"></div></div><div class=\"Jea a3i zI7 iyn Hsu\"><div class=\"Eqh zI7 iyn Hsu\" data-test-id=\"related-pins-avatar-image\"><div aria-disabled=\"false\" class=\"CCY czT eEj iyn FTD L4E DI9 BG7\" role=\"button\" tabindex=\"0\"><div class=\"INd XiG zI7 iyn Hsu\" data-test-id=\"gestalt-avatar-svg\" style=\"width: 32px; height: 32px;\"><div class=\"Pj7 sLG XiG INd m1e\"><div class=\"XiG zI7 iyn Hsu\" style=\"background-color: rgb(239, 239, 239); padding-bottom: 100%;\"><img alt=\"bodevendramini\" class=\"hCL kVc L4E MIw\" importance=\"auto\" loading=\"auto\" src=\"https://i.pinimg.com/30x30_RS/45/0d/a5/450da5f06499dee4d76dc7002e8726cd.jpg\"/></div><div class=\"KPc MIw ojN Rym p6V QLY\"></div></div></div></div></div><div class=\"Jea jzS mQ8 ujU xvE zI7 iyn Hsu\" data-test-id=\"related-pins-name\"><a class=\"Wk9 CCY czT eEj kVc xQ4 uCz iyn\" href=\"/bodevendramini/\" rel=\"\"><div class=\"tBJ dyH iFc j1A O2T zDA IZT mWe\">Bruno Vendramini</div></a><div class=\"zI7 iyn Hsu\" data-test-id=\"related-pin-text-below-name\"><a class=\"Wk9 CCY czT eEj kVc xQ4 uCz iyn\" href=\"/bodevendramini/i30/\" rel=\"\"><div class=\"tBJ dyH iFc j1A O2T zDA IZT swG\">i30</div></a></div></div></div></div><div class=\"p6V zI7 iyn Hsu\"></div></div></a></div></div></div></div></div></div></div>, <div class=\"Yl- MIw Hb7\" data-grid-item=\"true\" role=\"listitem\" style=\"top: 0px; left: 0px; transform: translateX(512px) translateY(0px); width: 236px; height: 260px;\"><div aria-disabled=\"false\" class=\"CCY czT eEj iyn DI9 BG7\" role=\"button\" tabindex=\"0\"><div class=\"zI7 iyn Hsu\"><div class=\"zI7 iyn Hsu zmN\" data-test-id=\"pin\" data-test-pin-id=\"5418462042961422\"><div class=\"lnZ wsz zI7 iyn Hsu zmN\" data-test-id=\"pin-with-alt-text\"><div class=\"zI7 iyn Hsu\" data-test-id=\"deeplink-wrapper\"><a class=\"Wk9 CCY czT ho- kVc xQ4 iyn\" href=\"/pin/5418462042961422/\" rel=\"\"><div class=\"PinCard__imageWrapper\" style=\"position: relative;\"><div class=\"XiG ho- sLG zI7 iyn Hsu\" data-test-id=\"pincard-image-without-link\" style=\"will-change: transform; text-decoration: none;\"><div class=\"XiG zI7 iyn Hsu\" data-test-id=\"pin-visual-wrapper\"><div class=\"Pj7 sLG XiG ho- m1e\"><div class=\"XiG zI7 iyn Hsu\" style=\"background-color: rgb(93, 76, 59); padding-bottom: 75.4237%;\"><img alt=\"Subaru Cars, City Painting, Car Mods, Wide Body, Modified Cars, Car Wrap, Car Wallpapers\" class=\"hCL kVc L4E MIw\" importance=\"auto\" loading=\"auto\" src=\"https://i.pinimg.com/236x/f2/73/70/f27370c0b0f4f9df022467f4c7d4fe5b.jpg\"/></div><div class=\"KPc MIw ojN Rym p6V QLY\"></div></div></div></div></div></a></div><div class=\"zI7 iyn Hsu\"><div class=\"gjz hs0 jx- un8 C9i\"><div class=\"Jea XiG sLG zI7 iyn Hsu\" data-test-id=\"vase-carousel\" style=\"width: 100%;\"><div class=\"sLG zI7 iyn Hsu\" style=\"scroll-behavior: smooth; padding: 4px 0px; white-space: nowrap;\"><div class=\"C9q FNs OVX Rz6 _HI hDW wYR zI7 iyn Hsu\" data-test-id=\"vase-tag\" style=\"height: 26px; white-space: nowrap;\"><span class=\"tBJ dyH iFc dR0 O2T zDA IZT mWe\"><a class=\"Wk9 CCY czT OVX KhY xQ4 uCz iyn\" href=\"/mehmbicer/subaru-cars/\" rel=\"\">Subaru Cars</a></span></div><div class=\"C9q FNs OVX Rz6 _HI hDW wYR zI7 iyn Hsu\" data-test-id=\"vase-tag\" style=\"height: 26px; white-space: nowrap;\"><span class=\"tBJ dyH iFc dR0 O2T zDA IZT mWe\"><a class=\"Wk9 CCY czT OVX KhY xQ4 uCz iyn\" href=\"/pamelaneill8/city-painting/\" rel=\"\">City Painting</a></span></div><div class=\"C9q FNs OVX Rz6 _HI hDW wYR zI7 iyn Hsu\" data-test-id=\"vase-tag\" style=\"height: 26px; white-space: nowrap;\"><span class=\"tBJ dyH iFc dR0 O2T zDA IZT mWe\"><a class=\"Wk9 CCY czT OVX KhY xQ4 uCz iyn\" href=\"/whitie112/car-mods/\" rel=\"\">Car Mods</a></span></div><div class=\"C9q FNs OVX Rz6 _HI hDW wYR zI7 iyn Hsu\" data-test-id=\"vase-tag\" style=\"height: 26px; white-space: nowrap;\"><span class=\"tBJ dyH iFc dR0 O2T zDA IZT mWe\"><a class=\"Wk9 CCY czT OVX KhY xQ4 uCz iyn\" href=\"/lintonpahl/wide-body/\" rel=\"\">Wide Body</a></span></div><div class=\"C9q FNs OVX Rz6 _HI hDW wYR zI7 iyn Hsu\" data-test-id=\"vase-tag\" style=\"height: 26px; white-space: nowrap;\"><span class=\"tBJ dyH iFc dR0 O2T zDA IZT mWe\"><a class=\"Wk9 CCY czT OVX KhY xQ4 uCz iyn\" href=\"/modifiedcars/modified-cars/\" rel=\"\">Modified Cars</a></span></div><div class=\"C9q FNs OVX Rz6 _HI hDW wYR zI7 iyn Hsu\" data-test-id=\"vase-tag\" style=\"height: 26px; white-space: nowrap;\"><span class=\"tBJ dyH iFc dR0 O2T zDA IZT mWe\"><a class=\"Wk9 CCY czT OVX KhY xQ4 uCz iyn\" href=\"/afrisch1197/car-wrap/\" rel=\"\">Car Wrap</a></span></div><div class=\"C9q FNs OVX Rz6 _HI hDW wYR zI7 iyn Hsu\" data-test-id=\"vase-tag\" style=\"height: 26px; white-space: nowrap;\"><span class=\"tBJ dyH iFc dR0 O2T zDA IZT mWe\"><a class=\"Wk9 CCY czT OVX KhY xQ4 uCz iyn\" href=\"/webuyanycarUSA/car-wallpapers/\" rel=\"\">Car Wallpapers</a></span></div></div><div class=\"zI7 iyn Hsu\" data-test-id=\"board-pills-arrow-button-right\"><div aria-hidden=\"true\" aria-label=\"arrow\" data-test-id=\"right-scroll-arrow\" role=\"button\" style=\"align-items: center; background: linear-gradient(to left, rgb(255, 255, 255) 25%, rgba(255, 255, 255, 0) 100%); border: none; cursor: pointer; display: flex; height: 30px; line-height: 25; outline: none; padding-bottom: 4px; padding-top: 4px; position: absolute; top: 0px; width: 45px; right: 0px; justify-content: flex-end; text-align: right;\" tabindex=\"-1\"><div class=\"zI7 iyn Hsu\" data-test-id=\"board-pills-arrow\"><svg aria-label=\"Scroll\" class=\"Hn_ gUZ ztu U9O kVc\" height=\"8\" role=\"img\" viewbox=\"0 0 24 24\" width=\"8\"><path d=\"M6.72 24c.57 0 1.14-.22 1.57-.66L19.5 12 8.29.66c-.86-.88-2.27-.88-3.14 0-.87.88-.87 2.3 0 3.18L13.21 12l-8.06 8.16c-.87.88-.87 2.3 0 3.18.43.44 1 .66 1.57.66\"></path></svg></div></div></div></div></div><div class=\"zI7 iyn Hsu\" data-test-id=\"deeplink-wrapper\"><a class=\"Wk9 CCY czT ho- kVc xQ4 iyn\" href=\"/pin/5418462042961422/\" rel=\"\"><div class=\"Jea Rz6 XiG xvE zI7 iyn Hsu\"><div class=\"ujU zI7 iyn Hsu\"><div class=\"Jea hDW zI7 iyn Hsu\"><div class=\"ujU zI7 iyn Hsu\"><div class=\"hDW sLG zI7 iyn Hsu\" style=\"display: -webkit-box; text-overflow: ellipsis; -webkit-box-orient: vertical; -webkit-line-clamp: 2;\"></div></div></div><div aria-disabled=\"false\" class=\"CCY czT eEj iyn DI9 BG7\" role=\"button\" tabindex=\"0\"><div class=\"zI7 iyn Hsu\"><div class=\"Jea XiG hDW hs0 zI7 iyn Hsu zmN\"><div class=\"Eqh mQ8 zI7 iyn Hsu\" data-test-id=\"related-pins-avatar-image\"><div aria-disabled=\"false\" class=\"CCY czT eEj iyn FTD L4E DI9 BG7\" role=\"button\" tabindex=\"0\"><div class=\"INd XiG zI7 iyn Hsu\" data-test-id=\"gestalt-avatar-svg\" style=\"width: 32px; height: 32px;\"><div class=\"Pj7 sLG XiG INd m1e\"><div class=\"XiG zI7 iyn Hsu\" style=\"background-color: rgb(239, 239, 239); padding-bottom: 100%;\"><img alt=\"Maverick\" class=\"hCL kVc L4E MIw\" importance=\"auto\" loading=\"auto\" src=\"https://i.pinimg.com/30x30_RS/6e/dc/83/6edc839c4ea6bce0c30ae66431ebd318.jpg\"/></div><div class=\"KPc MIw ojN Rym p6V QLY\"></div></div></div></div></div><div class=\"Jea jzS mQ8 ujU xvE zI7 iyn Hsu\" data-test-id=\"related-pins-name\"><div aria-disabled=\"false\" class=\"CCY czT eEj iyn FTD L4E DI9 BG7\" role=\"button\" tabindex=\"0\"><div class=\"tBJ dyH iFc dR0 O2T zDA IZT mWe CKL\" style=\"-webkit-line-clamp: 1;\" title=\"Maverick\">Maverick</div><div class=\"zI7 iyn Hsu\" data-test-id=\"related-pin-text-below-name\"><a class=\"Wk9 CCY czT eEj kVc xQ4 uCz iyn\" href=\"/fuck_your_admin/%D0%BC%D0%B5%D1%80%D1%81%D0%B5%D0%B4%D0%B5%D1%81-%D0%B1%D1%8D%D0%BD%D1%81/\" rel=\"\"><div class=\"tBJ dyH iFc j1A O2T zDA IZT swG\">Мерседес бэнс</div></a></div></div></div></div></div></div></div><div class=\"p6V zI7 iyn Hsu\"></div></div></a></div></div></div></div></div></div></div>, <div class=\"Yl- MIw Hb7\" data-grid-item=\"true\" role=\"listitem\" style=\"top: 0px; left: 0px; transform: translateX(512px) translateY(276px); width: 236px; height: 281px;\"><div aria-disabled=\"false\" class=\"CCY czT eEj iyn DI9 BG7\" role=\"button\" tabindex=\"0\"><div class=\"zI7 iyn Hsu\"><div class=\"zI7 iyn Hsu zmN\" data-test-id=\"pin\" data-test-pin-id=\"1062708843295293596\"><div class=\"lnZ wsz zI7 iyn Hsu zmN\" data-test-id=\"pin-with-alt-text\"><div class=\"zI7 iyn Hsu\" data-test-id=\"deeplink-wrapper\"><a class=\"Wk9 CCY czT ho- kVc xQ4 iyn\" href=\"/pin/1062708843295293596/\" rel=\"\"><div class=\"PinCard__imageWrapper\" style=\"position: relative;\"><div class=\"XiG ho- sLG zI7 iyn Hsu\" data-test-id=\"pincard-image-with-link\" style=\"will-change: transform; text-decoration: none;\"><div class=\"XiG zI7 iyn Hsu\" data-test-id=\"pin-visual-wrapper\"><div class=\"Pj7 sLG XiG ho- m1e\"><div class=\"XiG zI7 iyn Hsu\" style=\"background-color: rgb(106, 101, 100); padding-bottom: 75%;\"><img alt=\"Body, Vehicles, Projects, Youtube, Cars, Log Projects, Blue Prints, Black Background Wallpaper\" class=\"hCL kVc L4E MIw\" importance=\"auto\" loading=\"auto\" src=\"https://i.pinimg.com/236x/1c/b0/4b/1cb04b7936601f38221d8f292aaa9ac1.jpg\"/></div><div class=\"KPc MIw ojN Rym p6V QLY\"></div></div></div></div></div></a></div><div class=\"zI7 iyn Hsu\"><div class=\"gjz hs0 jx- un8 C9i\"><div class=\"Jea XiG sLG zI7 iyn Hsu\" data-test-id=\"vase-carousel\" style=\"width: 100%;\"><div class=\"sLG zI7 iyn Hsu\" style=\"scroll-behavior: smooth; padding: 4px 0px; white-space: nowrap;\"><div class=\"C9q FNs OVX Rz6 _HI hDW wYR zI7 iyn Hsu\" data-test-id=\"vase-tag\" style=\"height: 26px; white-space: nowrap;\"><span class=\"tBJ dyH iFc dR0 O2T zDA IZT mWe\"><a class=\"Wk9 CCY czT OVX KhY xQ4 uCz iyn\" href=\"/pthuan2610/body/\" rel=\"\">Body</a></span></div><div class=\"C9q FNs OVX Rz6 _HI hDW wYR zI7 iyn Hsu\" data-test-id=\"vase-tag\" style=\"height: 26px; white-space: nowrap;\"><span class=\"tBJ dyH iFc dR0 O2T zDA IZT mWe\"><a class=\"Wk9 CCY czT OVX KhY xQ4 uCz iyn\" href=\"/chadsyme/vehicles/\" rel=\"\">Vehicles</a></span></div><div class=\"C9q FNs OVX Rz6 _HI hDW wYR zI7 iyn Hsu\" data-test-id=\"vase-tag\" style=\"height: 26px; white-space: nowrap;\"><span class=\"tBJ dyH iFc dR0 O2T zDA IZT mWe\"><a class=\"Wk9 CCY czT OVX KhY xQ4 uCz iyn\" href=\"/cameronsmith/projects/\" rel=\"\">Projects</a></span></div><div class=\"C9q FNs OVX Rz6 _HI hDW wYR zI7 iyn Hsu\" data-test-id=\"vase-tag\" style=\"height: 26px; white-space: nowrap;\"><span class=\"tBJ dyH iFc dR0 O2T zDA IZT mWe\"><a class=\"Wk9 CCY czT OVX KhY xQ4 uCz iyn\" href=\"/flavinhasm/youtube/\" rel=\"\">Youtube</a></span></div><div class=\"C9q FNs OVX Rz6 _HI hDW wYR zI7 iyn Hsu\" data-test-id=\"vase-tag\" style=\"height: 26px; white-space: nowrap;\"><span class=\"tBJ dyH iFc dR0 O2T zDA IZT mWe\"><a class=\"Wk9 CCY czT OVX KhY xQ4 uCz iyn\" href=\"/uncrate/cars/\" rel=\"\">Cars</a></span></div><div class=\"C9q FNs OVX Rz6 _HI hDW wYR zI7 iyn Hsu\" data-test-id=\"vase-tag\" style=\"height: 26px; white-space: nowrap;\"><span class=\"tBJ dyH iFc dR0 O2T zDA IZT mWe\"><a class=\"Wk9 CCY czT OVX KhY xQ4 uCz iyn\" href=\"/auroraswoodshop/log-projects/\" rel=\"\">Log Projects</a></span></div><div class=\"C9q FNs OVX Rz6 _HI hDW wYR zI7 iyn Hsu\" data-test-id=\"vase-tag\" style=\"height: 26px; white-space: nowrap;\"><span class=\"tBJ dyH iFc dR0 O2T zDA IZT mWe\"><a class=\"Wk9 CCY czT OVX KhY xQ4 uCz iyn\" href=\"/bigevilriding777/blue-prints/\" rel=\"\">Blue Prints</a></span></div><div class=\"C9q FNs OVX Rz6 _HI hDW wYR zI7 iyn Hsu\" data-test-id=\"vase-tag\" style=\"height: 26px; white-space: nowrap;\"><span class=\"tBJ dyH iFc dR0 O2T zDA IZT mWe\"><a class=\"Wk9 CCY czT OVX KhY xQ4 uCz iyn\" href=\"/s_chandrasekharan/black-background-wallpaper/\" rel=\"\">Black Background Wallpaper</a></span></div></div><div class=\"zI7 iyn Hsu\" data-test-id=\"board-pills-arrow-button-right\"><div aria-hidden=\"true\" aria-label=\"arrow\" data-test-id=\"right-scroll-arrow\" role=\"button\" style=\"align-items: center; background: linear-gradient(to left, rgb(255, 255, 255) 25%, rgba(255, 255, 255, 0) 100%); border: none; cursor: pointer; display: flex; height: 30px; line-height: 25; outline: none; padding-bottom: 4px; padding-top: 4px; position: absolute; top: 0px; width: 45px; right: 0px; justify-content: flex-end; text-align: right;\" tabindex=\"-1\"><div class=\"zI7 iyn Hsu\" data-test-id=\"board-pills-arrow\"><svg aria-label=\"Scroll\" class=\"Hn_ gUZ ztu U9O kVc\" height=\"8\" role=\"img\" viewbox=\"0 0 24 24\" width=\"8\"><path d=\"M6.72 24c.57 0 1.14-.22 1.57-.66L19.5 12 8.29.66c-.86-.88-2.27-.88-3.14 0-.87.88-.87 2.3 0 3.18L13.21 12l-8.06 8.16c-.87.88-.87 2.3 0 3.18.43.44 1 .66 1.57.66\"></path></svg></div></div></div></div></div><div class=\"zI7 iyn Hsu\" data-test-id=\"deeplink-wrapper\"><a class=\"Wk9 CCY czT ho- kVc xQ4 iyn\" href=\"/pin/1062708843295293596/\" rel=\"\"><div class=\"Jea Rz6 XiG xvE zI7 iyn Hsu\"><div class=\"ujU zI7 iyn Hsu\"><div class=\"Jea hDW zI7 iyn Hsu\"><div class=\"ujU zI7 iyn Hsu\"><div class=\"hDW sLG zI7 iyn Hsu\" style=\"display: -webkit-box; text-overflow: ellipsis; -webkit-box-orient: vertical; -webkit-line-clamp: 2;\"></div><div class=\"hDW sLG zI7 iyn Hsu\" data-test-id=\"desc\" style=\"display: -webkit-box; text-overflow: ellipsis; -webkit-box-orient: vertical; -webkit-line-clamp: 2;\"><div aria-disabled=\"false\" class=\"CCY czT eEj iyn FTD L4E DI9 BG7\" role=\"button\" tabindex=\"0\"><span class=\"tBJ dyH iFc dR0 O2T zDA IZT swG\">Elantra con Rines 20 y Body Kits</span></div></div></div></div><div class=\"Jea hjj zI7 iyn Hsu\"><div class=\"Eqh zI7 iyn Hsu\" data-test-id=\"related-pins-avatar-image\"><div aria-disabled=\"false\" class=\"CCY czT eEj iyn FTD L4E DI9 BG7\" role=\"button\" tabindex=\"0\"><div class=\"INd XiG zI7 iyn Hsu\" data-test-id=\"gestalt-avatar-svg\" style=\"width: 32px; height: 32px;\"><div class=\"INd XiG gpV zI7 iyn Hsu\" style=\"padding-bottom: 100%;\"><div class=\"Jea MIw QLY Rym mQ8 ojN p6V zI7 iyn Hsu\"><svg preserveaspectratio=\"xMidYMid meet\" version=\"1.1\" viewbox=\"-50 -50 100 100\" width=\"100%\" xmlns=\"http://www.w3.org/2000/svg\"><title>shamijpm</title><text class=\"dyH iFc mWe \" dy=\"0.35em\" fill=\"#111\" font-size=\"40px\" text-anchor=\"middle\">S</text></svg></div></div></div></div></div><div class=\"Jea jzS mQ8 ujU xvE zI7 iyn Hsu\" data-test-id=\"related-pins-name\"><a class=\"Wk9 CCY czT eEj kVc xQ4 uCz iyn\" href=\"/shamijpm/\" rel=\"\"><div class=\"tBJ dyH iFc j1A O2T zDA IZT mWe\">Shamij Pm</div></a><div class=\"zI7 iyn Hsu\" data-test-id=\"related-pin-text-below-name\"><a class=\"Wk9 CCY czT eEj kVc xQ4 uCz iyn\" href=\"/shamijpm/black-wallpaper/\" rel=\"\"><div class=\"tBJ dyH iFc j1A O2T zDA IZT swG\">Black wallpaper</div></a></div></div></div></div><div class=\"p6V zI7 iyn Hsu\"></div></div></a></div></div></div></div></div></div></div>, <div class=\"Yl- MIw Hb7\" data-grid-item=\"true\" role=\"listitem\" style=\"top: 0px; left: 0px; transform: translateX(8px) translateY(290px); width: 236px; height: 281px;\"><div aria-disabled=\"false\" class=\"CCY czT eEj iyn DI9 BG7\" role=\"button\" tabindex=\"0\"><div class=\"zI7 iyn Hsu\"><div class=\"zI7 iyn Hsu zmN\" data-test-id=\"pin\" data-test-pin-id=\"3025924736084896\"><div class=\"lnZ wsz zI7 iyn Hsu zmN\" data-test-id=\"pin-with-alt-text\"><div class=\"zI7 iyn Hsu\" data-test-id=\"deeplink-wrapper\"><a class=\"Wk9 CCY czT ho- kVc xQ4 iyn\" href=\"/pin/3025924736084896/\" rel=\"\"><div class=\"PinCard__imageWrapper\" style=\"position: relative;\"><div class=\"XiG ho- sLG zI7 iyn Hsu\" data-test-id=\"pincard-image-with-link\" style=\"will-change: transform; text-decoration: none;\"><div class=\"XiG zI7 iyn Hsu\" data-test-id=\"pin-visual-wrapper\"><div class=\"Pj7 sLG XiG ho- m1e\"><div class=\"XiG zI7 iyn Hsu\" style=\"background-color: rgb(103, 100, 98); padding-bottom: 75%;\"><img alt=\"Post Your Pictures Here! - Page 314 - Hyundai Forums : Hyundai Forum Hundai Elantra, Vans, Iphone Accessories, Car Parts, Exotic Cars, Automobile, Bike\" class=\"hCL kVc L4E MIw\" importance=\"auto\" loading=\"auto\" src=\"https://i.pinimg.com/236x/1b/6b/42/1b6b42352552bd27d892c774c0dcec95--dreams-pictures.jpg\"/></div><div class=\"KPc MIw ojN Rym p6V QLY\"></div></div></div></div></div></a></div><div class=\"zI7 iyn Hsu\"><div class=\"gjz hs0 jx- un8 C9i\"><div class=\"Jea XiG sLG zI7 iyn Hsu\" data-test-id=\"vase-carousel\" style=\"width: 100%;\"><div class=\"sLG zI7 iyn Hsu\" style=\"scroll-behavior: smooth; padding: 4px 0px; white-space: nowrap;\"><div class=\"C9q FNs OVX Rz6 _HI hDW wYR zI7 iyn Hsu\" data-test-id=\"vase-tag\" style=\"height: 26px; white-space: nowrap;\"><span class=\"tBJ dyH iFc dR0 O2T zDA IZT mWe\"><a class=\"Wk9 CCY czT OVX KhY xQ4 uCz iyn\" href=\"/zacgbooking/hundai-elantra/\" rel=\"\">Hundai Elantra</a></span></div><div class=\"C9q FNs OVX Rz6 _HI hDW wYR zI7 iyn Hsu\" data-test-id=\"vase-tag\" style=\"height: 26px; white-space: nowrap;\"><span class=\"tBJ dyH iFc dR0 O2T zDA IZT mWe\"><a class=\"Wk9 CCY czT OVX KhY xQ4 uCz iyn\" href=\"/nosepick0650/vans/\" rel=\"\">Vans</a></span></div><div class=\"C9q FNs OVX Rz6 _HI hDW wYR zI7 iyn Hsu\" data-test-id=\"vase-tag\" style=\"height: 26px; white-space: nowrap;\"><span class=\"tBJ dyH iFc dR0 O2T zDA IZT mWe\"><a class=\"Wk9 CCY czT OVX KhY xQ4 uCz iyn\" href=\"/mavigadget/iphone-accessories/\" rel=\"\">Iphone Accessories</a></span></div><div class=\"C9q FNs OVX Rz6 _HI hDW wYR zI7 iyn Hsu\" data-test-id=\"vase-tag\" style=\"height: 26px; white-space: nowrap;\"><span class=\"tBJ dyH iFc dR0 O2T zDA IZT mWe\"><a class=\"Wk9 CCY czT OVX KhY xQ4 uCz iyn\" href=\"/mita234/car-parts/\" rel=\"\">Car Parts</a></span></div><div class=\"C9q FNs OVX Rz6 _HI hDW wYR zI7 iyn Hsu\" data-test-id=\"vase-tag\" style=\"height: 26px; white-space: nowrap;\"><span class=\"tBJ dyH iFc dR0 O2T zDA IZT mWe\"><a class=\"Wk9 CCY czT OVX KhY xQ4 uCz iyn\" href=\"/ideas/exotic-cars/946871386641/\" rel=\"\">Exotic Cars</a></span></div><div class=\"C9q FNs OVX Rz6 _HI hDW wYR zI7 iyn Hsu\" data-test-id=\"vase-tag\" style=\"height: 26px; white-space: nowrap;\"><span class=\"tBJ dyH iFc dR0 O2T zDA IZT mWe\"><a class=\"Wk9 CCY czT OVX KhY xQ4 uCz iyn\" href=\"/bmwallabout/automobile/\" rel=\"\">Automobile</a></span></div><div class=\"C9q FNs OVX Rz6 _HI hDW wYR zI7 iyn Hsu\" data-test-id=\"vase-tag\" style=\"height: 26px; white-space: nowrap;\"><span class=\"tBJ dyH iFc dR0 O2T zDA IZT mWe\"><a class=\"Wk9 CCY czT OVX KhY xQ4 uCz iyn\" href=\"/ideas/bike/902956808506/\" rel=\"\">Bike</a></span></div></div><div class=\"zI7 iyn Hsu\" data-test-id=\"board-pills-arrow-button-right\"><div aria-hidden=\"true\" aria-label=\"arrow\" data-test-id=\"right-scroll-arrow\" role=\"button\" style=\"align-items: center; background: linear-gradient(to left, rgb(255, 255, 255) 25%, rgba(255, 255, 255, 0) 100%); border: none; cursor: pointer; display: flex; height: 30px; line-height: 25; outline: none; padding-bottom: 4px; padding-top: 4px; position: absolute; top: 0px; width: 45px; right: 0px; justify-content: flex-end; text-align: right;\" tabindex=\"-1\"><div class=\"zI7 iyn Hsu\" data-test-id=\"board-pills-arrow\"><svg aria-label=\"Scroll\" class=\"Hn_ gUZ ztu U9O kVc\" height=\"8\" role=\"img\" viewbox=\"0 0 24 24\" width=\"8\"><path d=\"M6.72 24c.57 0 1.14-.22 1.57-.66L19.5 12 8.29.66c-.86-.88-2.27-.88-3.14 0-.87.88-.87 2.3 0 3.18L13.21 12l-8.06 8.16c-.87.88-.87 2.3 0 3.18.43.44 1 .66 1.57.66\"></path></svg></div></div></div></div></div><div class=\"zI7 iyn Hsu\" data-test-id=\"deeplink-wrapper\"><a class=\"Wk9 CCY czT ho- kVc xQ4 iyn\" href=\"/pin/3025924736084896/\" rel=\"\"><div class=\"Jea Rz6 XiG xvE zI7 iyn Hsu\"><div class=\"ujU zI7 iyn Hsu\"><div class=\"Jea hDW zI7 iyn Hsu\"><div class=\"ujU zI7 iyn Hsu\"><div class=\"hDW sLG zI7 iyn Hsu\" style=\"display: -webkit-box; text-overflow: ellipsis; -webkit-box-orient: vertical; -webkit-line-clamp: 2;\"></div><div class=\"hDW sLG zI7 iyn Hsu\" data-test-id=\"desc\" style=\"display: -webkit-box; text-overflow: ellipsis; -webkit-box-orient: vertical; -webkit-line-clamp: 2;\"><div aria-disabled=\"false\" class=\"CCY czT eEj iyn FTD L4E DI9 BG7\" role=\"button\" tabindex=\"0\"><span class=\"tBJ dyH iFc dR0 O2T zDA IZT swG\">2012 Elantra</span></div></div></div></div><div class=\"Jea hjj zI7 iyn Hsu\"><div class=\"Eqh zI7 iyn Hsu\" data-test-id=\"related-pins-avatar-image\"><div aria-disabled=\"false\" class=\"CCY czT eEj iyn FTD L4E DI9 BG7\" role=\"button\" tabindex=\"0\"><div class=\"INd XiG zI7 iyn Hsu\" data-test-id=\"gestalt-avatar-svg\" style=\"width: 32px; height: 32px;\"><div class=\"Pj7 sLG XiG INd m1e\"><div class=\"XiG zI7 iyn Hsu\" style=\"background-color: rgb(239, 239, 239); padding-bottom: 100%;\"><img alt=\"anripetriashvil\" class=\"hCL kVc L4E MIw\" importance=\"auto\" loading=\"auto\" src=\"https://i.pinimg.com/30x30_RS/1c/4b/00/1c4b0066f0d2a9ce0fca24e58e1604f4.jpg\"/></div><div class=\"KPc MIw ojN Rym p6V QLY\"></div></div></div></div></div><div class=\"Jea jzS mQ8 ujU xvE zI7 iyn Hsu\" data-test-id=\"related-pins-name\"><a class=\"Wk9 CCY czT eEj kVc xQ4 uCz iyn\" href=\"/anripetriashvil/\" rel=\"\"><div class=\"tBJ dyH iFc j1A O2T zDA IZT mWe\">anri petriashvili</div></a><div class=\"zI7 iyn Hsu\" data-test-id=\"related-pin-text-below-name\"><a class=\"Wk9 CCY czT eEj kVc xQ4 uCz iyn\" href=\"/anripetriashvil/%E1%83%9B%E1%83%90%E1%83%A8%E1%83%98%E1%83%9C%E1%83%94%E1%83%91%E1%83%98/\" rel=\"\"><div class=\"tBJ dyH iFc j1A O2T zDA IZT swG\">მაშინები</div></a></div></div></div></div><div class=\"p6V zI7 iyn Hsu\"></div></div></a></div></div></div></div></div></div></div>, <div class=\"Yl- MIw Hb7\" data-grid-item=\"true\" role=\"listitem\" style=\"top: 0px; left: 0px; transform: translateX(260px) translateY(385px); width: 236px; height: 254px;\"><div aria-disabled=\"false\" class=\"CCY czT eEj iyn DI9 BG7\" role=\"button\" tabindex=\"0\"><div class=\"zI7 iyn Hsu\"><div class=\"zI7 iyn Hsu zmN\" data-test-id=\"pin\" data-test-pin-id=\"8022105570133847\"><div class=\"lnZ wsz zI7 iyn Hsu zmN\" data-test-id=\"pin-with-alt-text\"><div class=\"zI7 iyn Hsu\" data-test-id=\"deeplink-wrapper\"><a class=\"Wk9 CCY czT ho- kVc xQ4 iyn\" href=\"/pin/8022105570133847/\" rel=\"\"><div class=\"PinCard__imageWrapper\" style=\"position: relative;\"><div class=\"XiG ho- sLG zI7 iyn Hsu\" data-test-id=\"pincard-image-without-link\" style=\"will-change: transform; text-decoration: none;\"><div class=\"XiG zI7 iyn Hsu\" data-test-id=\"pin-visual-wrapper\"><div class=\"Pj7 sLG XiG ho- m1e\"><div class=\"XiG zI7 iyn Hsu\" style=\"background-color: rgb(108, 122, 119); padding-bottom: 65.2542%;\"><img alt=\"Hyundai i30 5D Veloster Turbo, Hyundai Veloster, I30 Hyundai, Accent Hatchback, Elantra Coupe, Hyundai Accent, Weird Cars, Hyundai Sonata, Sexy Cars\" class=\"hCL kVc L4E MIw\" importance=\"auto\" loading=\"auto\" src=\"https://i.pinimg.com/236x/9a/9c/7a/9a9c7adaeae905702981d7cb80f3f9d9--veloster-turbo-hyundai-veloster.jpg\"/></div><div class=\"KPc MIw ojN Rym p6V QLY\"></div></div></div></div></div></a></div><div class=\"zI7 iyn Hsu\"><div class=\"gjz hs0 jx- un8 C9i\"><div class=\"Jea XiG sLG zI7 iyn Hsu\" data-test-id=\"vase-carousel\" style=\"width: 100%;\"><div class=\"sLG zI7 iyn Hsu\" style=\"scroll-behavior: smooth; padding: 4px 0px; white-space: nowrap;\"><div class=\"C9q FNs OVX Rz6 _HI hDW wYR zI7 iyn Hsu\" data-test-id=\"vase-tag\" style=\"height: 26px; white-space: nowrap;\"><span class=\"tBJ dyH iFc dR0 O2T zDA IZT mWe\"><a class=\"Wk9 CCY czT OVX KhY xQ4 uCz iyn\" href=\"/mpgunner1329/veloster-turbo/\" rel=\"\">Veloster Turbo</a></span></div><div class=\"C9q FNs OVX Rz6 _HI hDW wYR zI7 iyn Hsu\" data-test-id=\"vase-tag\" style=\"height: 26px; white-space: nowrap;\"><span class=\"tBJ dyH iFc dR0 O2T zDA IZT mWe\"><a class=\"Wk9 CCY czT OVX KhY xQ4 uCz iyn\" href=\"/IHKB5/hyundai-veloster/\" rel=\"\">Hyundai Veloster</a></span></div><div class=\"C9q FNs OVX Rz6 _HI hDW wYR zI7 iyn Hsu\" data-test-id=\"vase-tag\" style=\"height: 26px; white-space: nowrap;\"><span class=\"tBJ dyH iFc dR0 O2T zDA IZT mWe\"><a class=\"Wk9 CCY czT OVX KhY xQ4 uCz iyn\" href=\"/enginemlek/i30-hyundai/\" rel=\"\">I30 Hyundai</a></span></div><div class=\"C9q FNs OVX Rz6 _HI hDW wYR zI7 iyn Hsu\" data-test-id=\"vase-tag\" style=\"height: 26px; white-space: nowrap;\"><span class=\"tBJ dyH iFc dR0 O2T zDA IZT mWe\"><a class=\"Wk9 CCY czT OVX KhY xQ4 uCz iyn\" href=\"/ideas/accent-hatchback/936588491465/\" rel=\"\">Accent Hatchback</a></span></div><div class=\"C9q FNs OVX Rz6 _HI hDW wYR zI7 iyn Hsu\" data-test-id=\"vase-tag\" style=\"height: 26px; white-space: nowrap;\"><span class=\"tBJ dyH iFc dR0 O2T zDA IZT mWe\"><a class=\"Wk9 CCY czT OVX KhY xQ4 uCz iyn\" href=\"/ronald10rodriguez/elantra-coupe/\" rel=\"\">Elantra Coupe</a></span></div><div class=\"C9q FNs OVX Rz6 _HI hDW wYR zI7 iyn Hsu\" data-test-id=\"vase-tag\" style=\"height: 26px; white-space: nowrap;\"><span class=\"tBJ dyH iFc dR0 O2T zDA IZT mWe\"><a class=\"Wk9 CCY czT OVX KhY xQ4 uCz iyn\" href=\"/tuscani2319/hyundai-accent/\" rel=\"\">Hyundai Accent</a></span></div><div class=\"C9q FNs OVX Rz6 _HI hDW wYR zI7 iyn Hsu\" data-test-id=\"vase-tag\" style=\"height: 26px; white-space: nowrap;\"><span class=\"tBJ dyH iFc dR0 O2T zDA IZT mWe\"><a class=\"Wk9 CCY czT OVX KhY xQ4 uCz iyn\" href=\"/goober197530821/weird-cars/\" rel=\"\">Weird Cars</a></span></div><div class=\"C9q FNs OVX Rz6 _HI hDW wYR zI7 iyn Hsu\" data-test-id=\"vase-tag\" style=\"height: 26px; white-space: nowrap;\"><span class=\"tBJ dyH iFc dR0 O2T zDA IZT mWe\"><a class=\"Wk9 CCY czT OVX KhY xQ4 uCz iyn\" href=\"/hyundaiusa/hyundai-sonata/\" rel=\"\">Hyundai Sonata</a></span></div><div class=\"C9q FNs OVX Rz6 _HI hDW wYR zI7 iyn Hsu\" data-test-id=\"vase-tag\" style=\"height: 26px; white-space: nowrap;\"><span class=\"tBJ dyH iFc dR0 O2T zDA IZT mWe\"><a class=\"Wk9 CCY czT OVX KhY xQ4 uCz iyn\" href=\"/teatimelisa/sexy-cars/\" rel=\"\">Sexy Cars</a></span></div></div><div class=\"zI7 iyn Hsu\" data-test-id=\"board-pills-arrow-button-right\"><div aria-hidden=\"true\" aria-label=\"arrow\" data-test-id=\"right-scroll-arrow\" role=\"button\" style=\"align-items: center; background: linear-gradient(to left, rgb(255, 255, 255) 25%, rgba(255, 255, 255, 0) 100%); border: none; cursor: pointer; display: flex; height: 30px; line-height: 25; outline: none; padding-bottom: 4px; padding-top: 4px; position: absolute; top: 0px; width: 45px; right: 0px; justify-content: flex-end; text-align: right;\" tabindex=\"-1\"><div class=\"zI7 iyn Hsu\" data-test-id=\"board-pills-arrow\"><svg aria-label=\"Scroll\" class=\"Hn_ gUZ ztu U9O kVc\" height=\"8\" role=\"img\" viewbox=\"0 0 24 24\" width=\"8\"><path d=\"M6.72 24c.57 0 1.14-.22 1.57-.66L19.5 12 8.29.66c-.86-.88-2.27-.88-3.14 0-.87.88-.87 2.3 0 3.18L13.21 12l-8.06 8.16c-.87.88-.87 2.3 0 3.18.43.44 1 .66 1.57.66\"></path></svg></div></div></div></div></div><div class=\"zI7 iyn Hsu\" data-test-id=\"deeplink-wrapper\"><a class=\"Wk9 CCY czT ho- kVc xQ4 iyn\" href=\"/pin/8022105570133847/\" rel=\"\"><div class=\"Jea Rz6 XiG xvE zI7 iyn Hsu\"><div class=\"ujU zI7 iyn Hsu\"><div class=\"Jea hDW zI7 iyn Hsu\"><div class=\"ujU zI7 iyn Hsu\"><div class=\"hDW sLG zI7 iyn Hsu\" data-test-id=\"desc\" style=\"display: -webkit-box; text-overflow: ellipsis; -webkit-box-orient: vertical; -webkit-line-clamp: 2;\"><div aria-disabled=\"false\" class=\"CCY czT eEj iyn FTD L4E DI9 BG7\" role=\"button\" tabindex=\"0\"><span class=\"tBJ dyH iFc dR0 O2T zDA IZT swG\">Hyundai i30 5D</span></div></div></div></div><div class=\"Jea hjj zI7 iyn Hsu\"><div class=\"Eqh zI7 iyn Hsu\" data-test-id=\"related-pins-avatar-image\"><div aria-disabled=\"false\" class=\"CCY czT eEj iyn FTD L4E DI9 BG7\" role=\"button\" tabindex=\"0\"><div class=\"INd XiG zI7 iyn Hsu\" data-test-id=\"gestalt-avatar-svg\" style=\"width: 32px; height: 32px;\"><div class=\"Pj7 sLG XiG INd m1e\"><div class=\"XiG zI7 iyn Hsu\" style=\"background-color: rgb(239, 239, 239); padding-bottom: 100%;\"><img alt=\"smokendog\" class=\"hCL kVc L4E MIw\" importance=\"auto\" loading=\"auto\" src=\"https://i.pinimg.com/30x30_RS/20/e2/e2/20e2e23589389d3888d9d9d230d8a42e.jpg\"/></div><div class=\"KPc MIw ojN Rym p6V QLY\"></div></div></div></div></div><div class=\"Jea jzS mQ8 ujU xvE zI7 iyn Hsu\" data-test-id=\"related-pins-name\"><a class=\"Wk9 CCY czT eEj kVc xQ4 uCz iyn\" href=\"/smokendog/\" rel=\"\"><div class=\"tBJ dyH iFc j1A O2T zDA IZT mWe\">mr smoke</div></a><div class=\"zI7 iyn Hsu\" data-test-id=\"related-pin-text-below-name\"><a class=\"Wk9 CCY czT eEj kVc xQ4 uCz iyn\" href=\"/smokendog/new-metal/\" rel=\"\"><div class=\"tBJ dyH iFc j1A O2T zDA IZT swG\">New metal</div></a></div></div></div></div><div class=\"p6V zI7 iyn Hsu\"></div></div></a></div></div></div></div></div></div></div>]\n"
          ]
        }
      ]
    },
    {
      "cell_type": "code",
      "source": [
        "keyword = \"赤い人\"\n",
        "\n",
        "print(\"https://pinterest.com/search/pins/?q=\" + str(keyword) + \"&rs=typed&term_meta[]=\" + str(\n",
        "              keyword) + \"%7Ctyped\")"
      ],
      "metadata": {
        "id": "YrRAXtQAhwAW",
        "outputId": "992a64ea-b7cb-41a6-d786-23e6dd7fa013",
        "colab": {
          "base_uri": "https://localhost:8080/"
        }
      },
      "execution_count": 44,
      "outputs": [
        {
          "output_type": "stream",
          "name": "stdout",
          "text": [
            "https://pinterest.com/search/pins/?q=赤い人&rs=typed&term_meta[]=赤い人%7Ctyped\n"
          ]
        }
      ]
    },
    {
      "cell_type": "code",
      "source": [
        ""
      ],
      "metadata": {
        "id": "zLvJlfTbh2eA"
      },
      "execution_count": null,
      "outputs": []
    }
  ]
}